{
 "cells": [
  {
   "cell_type": "code",
   "execution_count": 1,
   "id": "41fadaa6",
   "metadata": {
    "_cell_guid": "b1076dfc-b9ad-4769-8c92-a6c4dae69d19",
    "_uuid": "8f2839f25d086af736a60e9eeb907d3b93b6e0e5",
    "execution": {
     "iopub.execute_input": "2025-08-17T19:11:05.453605Z",
     "iopub.status.busy": "2025-08-17T19:11:05.453249Z",
     "iopub.status.idle": "2025-08-17T19:11:06.860337Z",
     "shell.execute_reply": "2025-08-17T19:11:06.859539Z"
    },
    "papermill": {
     "duration": 1.415921,
     "end_time": "2025-08-17T19:11:06.861663",
     "exception": false,
     "start_time": "2025-08-17T19:11:05.445742",
     "status": "completed"
    },
    "tags": []
   },
   "outputs": [
    {
     "name": "stdout",
     "output_type": "stream",
     "text": [
      "/kaggle/input/new-tokenizer/merges.txt\n",
      "/kaggle/input/new-tokenizer/tokenizer.json\n",
      "/kaggle/input/new-tokenizer/vocab.json\n",
      "/kaggle/input/new-tokenizer/tokenizer_config.json\n",
      "/kaggle/input/new-tokenizer/special_tokens_map.json\n",
      "/kaggle/input/new-tokenizer/added_tokens.json\n",
      "/kaggle/input/neurips-open-polymer-prediction-2025/sample_submission.csv\n",
      "/kaggle/input/neurips-open-polymer-prediction-2025/train.csv\n",
      "/kaggle/input/neurips-open-polymer-prediction-2025/test.csv\n",
      "/kaggle/input/neurips-open-polymer-prediction-2025/train_supplement/dataset2.csv\n",
      "/kaggle/input/neurips-open-polymer-prediction-2025/train_supplement/dataset4.csv\n",
      "/kaggle/input/neurips-open-polymer-prediction-2025/train_supplement/dataset1.csv\n",
      "/kaggle/input/neurips-open-polymer-prediction-2025/train_supplement/dataset3.csv\n"
     ]
    }
   ],
   "source": [
    "# This Python 3 environment comes with many helpful analytics libraries installed\n",
    "# It is defined by the kaggle/python Docker image: https://github.com/kaggle/docker-python\n",
    "# For example, here's several helpful packages to load\n",
    "\n",
    "import numpy as np # linear algebra\n",
    "import pandas as pd # data processing, CSV file I/O (e.g. pd.read_csv)\n",
    "\n",
    "# Input data files are available in the read-only \"../input/\" directory\n",
    "# For example, running this (by clicking run or pressing Shift+Enter) will list all files under the input directory\n",
    "\n",
    "import os\n",
    "for dirname, _, filenames in os.walk('/kaggle/input'):\n",
    "    for filename in filenames:\n",
    "        print(os.path.join(dirname, filename))\n",
    "\n",
    "# You can write up to 20GB to the current directory (/kaggle/working/) that gets preserved as output when you create a version using \"Save & Run All\" \n",
    "# You can also write temporary files to /kaggle/temp/, but they won't be saved outside of the current session"
   ]
  },
  {
   "cell_type": "code",
   "execution_count": 2,
   "id": "1a8101c3",
   "metadata": {
    "execution": {
     "iopub.execute_input": "2025-08-17T19:11:06.874537Z",
     "iopub.status.busy": "2025-08-17T19:11:06.874191Z",
     "iopub.status.idle": "2025-08-17T19:11:06.913659Z",
     "shell.execute_reply": "2025-08-17T19:11:06.912956Z"
    },
    "papermill": {
     "duration": 0.047052,
     "end_time": "2025-08-17T19:11:06.914983",
     "exception": false,
     "start_time": "2025-08-17T19:11:06.867931",
     "status": "completed"
    },
    "tags": []
   },
   "outputs": [
    {
     "data": {
      "text/plain": [
       "'*Nc1ccc([C@H](CCC)c2ccc(C3(c4ccc([C@@H](CCC)c5ccc(N*)cc5)cc4)CCC(CCCCC)CC3)cc2)cc1'"
      ]
     },
     "execution_count": 2,
     "metadata": {},
     "output_type": "execute_result"
    }
   ],
   "source": [
    "import pandas as pd\n",
    "train_csv = pd.read_csv(\"/kaggle/input/neurips-open-polymer-prediction-2025/train.csv\")\n",
    "train_csv['SMILES'][1]"
   ]
  },
  {
   "cell_type": "code",
   "execution_count": 3,
   "id": "86c411bb",
   "metadata": {
    "execution": {
     "iopub.execute_input": "2025-08-17T19:11:06.928717Z",
     "iopub.status.busy": "2025-08-17T19:11:06.928077Z",
     "iopub.status.idle": "2025-08-17T19:11:06.946404Z",
     "shell.execute_reply": "2025-08-17T19:11:06.945755Z"
    },
    "papermill": {
     "duration": 0.026142,
     "end_time": "2025-08-17T19:11:06.947581",
     "exception": false,
     "start_time": "2025-08-17T19:11:06.921439",
     "status": "completed"
    },
    "tags": []
   },
   "outputs": [
    {
     "data": {
      "text/html": [
       "<div>\n",
       "<style scoped>\n",
       "    .dataframe tbody tr th:only-of-type {\n",
       "        vertical-align: middle;\n",
       "    }\n",
       "\n",
       "    .dataframe tbody tr th {\n",
       "        vertical-align: top;\n",
       "    }\n",
       "\n",
       "    .dataframe thead th {\n",
       "        text-align: right;\n",
       "    }\n",
       "</style>\n",
       "<table border=\"1\" class=\"dataframe\">\n",
       "  <thead>\n",
       "    <tr style=\"text-align: right;\">\n",
       "      <th></th>\n",
       "      <th>id</th>\n",
       "      <th>SMILES</th>\n",
       "    </tr>\n",
       "  </thead>\n",
       "  <tbody>\n",
       "    <tr>\n",
       "      <th>0</th>\n",
       "      <td>1109053969</td>\n",
       "      <td>*Oc1ccc(C=NN=Cc2ccc(Oc3ccc(C(c4ccc(*)cc4)(C(F)...</td>\n",
       "    </tr>\n",
       "    <tr>\n",
       "      <th>1</th>\n",
       "      <td>1422188626</td>\n",
       "      <td>*Oc1ccc(C(C)(C)c2ccc(Oc3ccc(C(=O)c4cccc(C(=O)c...</td>\n",
       "    </tr>\n",
       "    <tr>\n",
       "      <th>2</th>\n",
       "      <td>2032016830</td>\n",
       "      <td>*c1cccc(OCCCCCCCCOc2cccc(N3C(=O)c4ccc(-c5cccc6...</td>\n",
       "    </tr>\n",
       "  </tbody>\n",
       "</table>\n",
       "</div>"
      ],
      "text/plain": [
       "           id                                             SMILES\n",
       "0  1109053969  *Oc1ccc(C=NN=Cc2ccc(Oc3ccc(C(c4ccc(*)cc4)(C(F)...\n",
       "1  1422188626  *Oc1ccc(C(C)(C)c2ccc(Oc3ccc(C(=O)c4cccc(C(=O)c...\n",
       "2  2032016830  *c1cccc(OCCCCCCCCOc2cccc(N3C(=O)c4ccc(-c5cccc6..."
      ]
     },
     "execution_count": 3,
     "metadata": {},
     "output_type": "execute_result"
    }
   ],
   "source": [
    "test_csv = pd.read_csv(\"/kaggle/input/neurips-open-polymer-prediction-2025/test.csv\")\n",
    "test_csv"
   ]
  },
  {
   "cell_type": "code",
   "execution_count": 4,
   "id": "95c22432",
   "metadata": {
    "execution": {
     "iopub.execute_input": "2025-08-17T19:11:06.961893Z",
     "iopub.status.busy": "2025-08-17T19:11:06.961339Z",
     "iopub.status.idle": "2025-08-17T19:11:07.005115Z",
     "shell.execute_reply": "2025-08-17T19:11:07.004515Z"
    },
    "papermill": {
     "duration": 0.051473,
     "end_time": "2025-08-17T19:11:07.006246",
     "exception": false,
     "start_time": "2025-08-17T19:11:06.954773",
     "status": "completed"
    },
    "tags": []
   },
   "outputs": [
    {
     "data": {
      "text/html": [
       "<div>\n",
       "<style scoped>\n",
       "    .dataframe tbody tr th:only-of-type {\n",
       "        vertical-align: middle;\n",
       "    }\n",
       "\n",
       "    .dataframe tbody tr th {\n",
       "        vertical-align: top;\n",
       "    }\n",
       "\n",
       "    .dataframe thead th {\n",
       "        text-align: right;\n",
       "    }\n",
       "</style>\n",
       "<table border=\"1\" class=\"dataframe\">\n",
       "  <thead>\n",
       "    <tr style=\"text-align: right;\">\n",
       "      <th></th>\n",
       "      <th>SMILES</th>\n",
       "      <th>Tc</th>\n",
       "    </tr>\n",
       "  </thead>\n",
       "  <tbody>\n",
       "    <tr>\n",
       "      <th>0</th>\n",
       "      <td>*/C(=C(\\c1ccccc1)c1ccc(*)cc1)c1ccccc1</td>\n",
       "      <td>0.3380</td>\n",
       "    </tr>\n",
       "    <tr>\n",
       "      <th>1</th>\n",
       "      <td>*/C(F)=C(\\F)C(F)(C(*)(F)F)C(F)(F)F</td>\n",
       "      <td>0.1020</td>\n",
       "    </tr>\n",
       "    <tr>\n",
       "      <th>2</th>\n",
       "      <td>*/C=C(/*)C#CCCCCCCCCCCCCCCCCCCCCC(=O)O</td>\n",
       "      <td>0.4105</td>\n",
       "    </tr>\n",
       "    <tr>\n",
       "      <th>3</th>\n",
       "      <td>*/C=C(/*)CCCCCCCCCCCCCCCCCCCCC(=O)O</td>\n",
       "      <td>0.4030</td>\n",
       "    </tr>\n",
       "    <tr>\n",
       "      <th>4</th>\n",
       "      <td>*/C=C/*</td>\n",
       "      <td>0.5260</td>\n",
       "    </tr>\n",
       "    <tr>\n",
       "      <th>...</th>\n",
       "      <td>...</td>\n",
       "      <td>...</td>\n",
       "    </tr>\n",
       "    <tr>\n",
       "      <th>869</th>\n",
       "      <td>CCNC(=O)OCCCCC(*)=C=C=C(*)CCCCOC(=O)NCC</td>\n",
       "      <td>0.2600</td>\n",
       "    </tr>\n",
       "    <tr>\n",
       "      <th>870</th>\n",
       "      <td>Cc1ccc(cc1)S(=O)(=O)OCCCCC(*)=C=C=C(*)CCCCOS(=...</td>\n",
       "      <td>0.2100</td>\n",
       "    </tr>\n",
       "    <tr>\n",
       "      <th>871</th>\n",
       "      <td>FC(F)(F)C(C1=CC2=C(OC(=N2)C2=CC=C(OC3=C4C5C6=C...</td>\n",
       "      <td>0.1090</td>\n",
       "    </tr>\n",
       "    <tr>\n",
       "      <th>872</th>\n",
       "      <td>FC(F)(F)C(C1=CC2=C(OC(=N2)C2=CC=C(OC3=C4C5C6=C...</td>\n",
       "      <td>0.1760</td>\n",
       "    </tr>\n",
       "    <tr>\n",
       "      <th>873</th>\n",
       "      <td>FC(F)(F)C(C1=CC2=C(OC(=N2)C2=CC=C(OC3=CC=C(OC4...</td>\n",
       "      <td>0.1550</td>\n",
       "    </tr>\n",
       "  </tbody>\n",
       "</table>\n",
       "<p>874 rows × 2 columns</p>\n",
       "</div>"
      ],
      "text/plain": [
       "                                                SMILES      Tc\n",
       "0                */C(=C(\\c1ccccc1)c1ccc(*)cc1)c1ccccc1  0.3380\n",
       "1                   */C(F)=C(\\F)C(F)(C(*)(F)F)C(F)(F)F  0.1020\n",
       "2               */C=C(/*)C#CCCCCCCCCCCCCCCCCCCCCC(=O)O  0.4105\n",
       "3                  */C=C(/*)CCCCCCCCCCCCCCCCCCCCC(=O)O  0.4030\n",
       "4                                              */C=C/*  0.5260\n",
       "..                                                 ...     ...\n",
       "869            CCNC(=O)OCCCCC(*)=C=C=C(*)CCCCOC(=O)NCC  0.2600\n",
       "870  Cc1ccc(cc1)S(=O)(=O)OCCCCC(*)=C=C=C(*)CCCCOS(=...  0.2100\n",
       "871  FC(F)(F)C(C1=CC2=C(OC(=N2)C2=CC=C(OC3=C4C5C6=C...  0.1090\n",
       "872  FC(F)(F)C(C1=CC2=C(OC(=N2)C2=CC=C(OC3=C4C5C6=C...  0.1760\n",
       "873  FC(F)(F)C(C1=CC2=C(OC(=N2)C2=CC=C(OC3=CC=C(OC4...  0.1550\n",
       "\n",
       "[874 rows x 2 columns]"
      ]
     },
     "execution_count": 4,
     "metadata": {},
     "output_type": "execute_result"
    }
   ],
   "source": [
    "Tc_extra = pd.read_csv(\"/kaggle/input/neurips-open-polymer-prediction-2025/train_supplement/dataset1.csv\")\n",
    "test2 = pd.read_csv(\"/kaggle/input/neurips-open-polymer-prediction-2025/train_supplement/dataset2.csv\")\n",
    "Tg_extra = pd.read_csv(\"/kaggle/input/neurips-open-polymer-prediction-2025/train_supplement/dataset3.csv\")\n",
    "FFV_extra = pd.read_csv(\"/kaggle/input/neurips-open-polymer-prediction-2025/train_supplement/dataset4.csv\")\n",
    "\n",
    "Tc_extra.rename(columns={\"TC_mean\": \"Tc\"}, inplace=True)\n",
    "Tc_extra"
   ]
  },
  {
   "cell_type": "code",
   "execution_count": 5,
   "id": "261434ce",
   "metadata": {
    "execution": {
     "iopub.execute_input": "2025-08-17T19:11:07.019179Z",
     "iopub.status.busy": "2025-08-17T19:11:07.018967Z",
     "iopub.status.idle": "2025-08-17T19:11:15.747177Z",
     "shell.execute_reply": "2025-08-17T19:11:15.746603Z"
    },
    "papermill": {
     "duration": 8.736246,
     "end_time": "2025-08-17T19:11:15.748602",
     "exception": false,
     "start_time": "2025-08-17T19:11:07.012356",
     "status": "completed"
    },
    "tags": []
   },
   "outputs": [],
   "source": [
    "from transformers import AutoTokenizer, AutoModel\n",
    "\n",
    "tokenizer = AutoTokenizer.from_pretrained(\"/kaggle/input/new-tokenizer\")\n"
   ]
  },
  {
   "cell_type": "code",
   "execution_count": 6,
   "id": "02800161",
   "metadata": {
    "execution": {
     "iopub.execute_input": "2025-08-17T19:11:15.761920Z",
     "iopub.status.busy": "2025-08-17T19:11:15.761553Z",
     "iopub.status.idle": "2025-08-17T19:11:15.782657Z",
     "shell.execute_reply": "2025-08-17T19:11:15.782123Z"
    },
    "papermill": {
     "duration": 0.028758,
     "end_time": "2025-08-17T19:11:15.783707",
     "exception": false,
     "start_time": "2025-08-17T19:11:15.754949",
     "status": "completed"
    },
    "tags": []
   },
   "outputs": [],
   "source": [
    "\n",
    "input_text = 'C1=CC2=C(C(=C1)[O-])NC(=CC2=O)C(=O)O'\n",
    "input_ids = tokenizer(input_text, return_tensors=\"pt\").input_ids\n"
   ]
  },
  {
   "cell_type": "code",
   "execution_count": 7,
   "id": "79226d7b",
   "metadata": {
    "execution": {
     "iopub.execute_input": "2025-08-17T19:11:15.796096Z",
     "iopub.status.busy": "2025-08-17T19:11:15.795883Z",
     "iopub.status.idle": "2025-08-17T19:11:15.822408Z",
     "shell.execute_reply": "2025-08-17T19:11:15.821866Z"
    },
    "papermill": {
     "duration": 0.033775,
     "end_time": "2025-08-17T19:11:15.823353",
     "exception": false,
     "start_time": "2025-08-17T19:11:15.789578",
     "status": "completed"
    },
    "tags": []
   },
   "outputs": [
    {
     "data": {
      "text/plain": [
       "tensor([[ 12, 256,  23,  15,  20,  15,  15,  15,  17,  16,  17,  16,  16,  16,\n",
       "          18,  15,  21,  15,  15,  15,  17,  16,  26,  17,  15,  32,  15,  15,\n",
       "          15,  17,  16,  17,  16,  16,  16,  18,  15,  43,  15,  15,  15,  17,\n",
       "          23, 256,  18,  15,  15,  43,  18,  15,  15,  32,  18,  16,  16,  16,\n",
       "          17,  16,  16,  16,  16,  16,  18,  16,  16,  26,  18,  15,  15,  21,\n",
       "          18,  15,  15,  20,  13]])"
      ]
     },
     "execution_count": 7,
     "metadata": {},
     "output_type": "execute_result"
    }
   ],
   "source": [
    "input_text = train_csv['SMILES'][1]\n",
    "input_ids = tokenizer(input_text, return_tensors=\"pt\").input_ids\n",
    "input_ids\n",
    "#outputs = model.generate(input_ids, num_beams=5, max_length=512)\n",
    "#print(tokenizer.decode(outputs[0], skip_special_tokens=True))"
   ]
  },
  {
   "cell_type": "code",
   "execution_count": 8,
   "id": "23448dba",
   "metadata": {
    "execution": {
     "iopub.execute_input": "2025-08-17T19:11:15.835948Z",
     "iopub.status.busy": "2025-08-17T19:11:15.835721Z",
     "iopub.status.idle": "2025-08-17T19:11:15.839972Z",
     "shell.execute_reply": "2025-08-17T19:11:15.839287Z"
    },
    "papermill": {
     "duration": 0.011731,
     "end_time": "2025-08-17T19:11:15.841121",
     "exception": false,
     "start_time": "2025-08-17T19:11:15.829390",
     "status": "completed"
    },
    "tags": []
   },
   "outputs": [
    {
     "data": {
      "text/plain": [
       "torch.Size([1, 75])"
      ]
     },
     "execution_count": 8,
     "metadata": {},
     "output_type": "execute_result"
    }
   ],
   "source": [
    "input_ids.shape"
   ]
  },
  {
   "cell_type": "code",
   "execution_count": 9,
   "id": "5a0dcbff",
   "metadata": {
    "execution": {
     "iopub.execute_input": "2025-08-17T19:11:15.853979Z",
     "iopub.status.busy": "2025-08-17T19:11:15.853807Z",
     "iopub.status.idle": "2025-08-17T19:11:15.858053Z",
     "shell.execute_reply": "2025-08-17T19:11:15.857392Z"
    },
    "papermill": {
     "duration": 0.011945,
     "end_time": "2025-08-17T19:11:15.859068",
     "exception": false,
     "start_time": "2025-08-17T19:11:15.847123",
     "status": "completed"
    },
    "tags": []
   },
   "outputs": [
    {
     "name": "stdout",
     "output_type": "stream",
     "text": [
      "7030\n"
     ]
    }
   ],
   "source": [
    "non_null_count = train_csv['FFV'].notnull().sum()\n",
    "print(non_null_count) "
   ]
  },
  {
   "cell_type": "code",
   "execution_count": 10,
   "id": "c0954a73",
   "metadata": {
    "execution": {
     "iopub.execute_input": "2025-08-17T19:11:15.872207Z",
     "iopub.status.busy": "2025-08-17T19:11:15.871733Z",
     "iopub.status.idle": "2025-08-17T19:11:15.883657Z",
     "shell.execute_reply": "2025-08-17T19:11:15.882887Z"
    },
    "papermill": {
     "duration": 0.019702,
     "end_time": "2025-08-17T19:11:15.884844",
     "exception": false,
     "start_time": "2025-08-17T19:11:15.865142",
     "status": "completed"
    },
    "tags": []
   },
   "outputs": [],
   "source": [
    "features = ['SMILES','FFV']\n",
    "FFV_train_ = train_csv[train_csv['FFV'].notnull()][features].copy()\n",
    "\n",
    "features = ['SMILES','Tg']\n",
    "Tg_train_ = train_csv[train_csv['Tg'].notnull()][features].copy()\n",
    "\n",
    "features = ['SMILES','Tc']\n",
    "Tc_train_ = train_csv[train_csv['Tc'].notnull()][features].copy()\n",
    "\n",
    "features = ['SMILES','Density']\n",
    "Density_train = train_csv[train_csv['Density'].notnull()][features].copy()\n",
    "\n",
    "features = ['SMILES','Rg']\n",
    "Rg_train = train_csv[train_csv['Rg'].notnull()][features].copy()\n"
   ]
  },
  {
   "cell_type": "code",
   "execution_count": 11,
   "id": "b1bdf384",
   "metadata": {
    "execution": {
     "iopub.execute_input": "2025-08-17T19:11:15.897839Z",
     "iopub.status.busy": "2025-08-17T19:11:15.897629Z",
     "iopub.status.idle": "2025-08-17T19:11:15.904768Z",
     "shell.execute_reply": "2025-08-17T19:11:15.904228Z"
    },
    "papermill": {
     "duration": 0.014653,
     "end_time": "2025-08-17T19:11:15.905853",
     "exception": false,
     "start_time": "2025-08-17T19:11:15.891200",
     "status": "completed"
    },
    "tags": []
   },
   "outputs": [
    {
     "data": {
      "text/html": [
       "<div>\n",
       "<style scoped>\n",
       "    .dataframe tbody tr th:only-of-type {\n",
       "        vertical-align: middle;\n",
       "    }\n",
       "\n",
       "    .dataframe tbody tr th {\n",
       "        vertical-align: top;\n",
       "    }\n",
       "\n",
       "    .dataframe thead th {\n",
       "        text-align: right;\n",
       "    }\n",
       "</style>\n",
       "<table border=\"1\" class=\"dataframe\">\n",
       "  <thead>\n",
       "    <tr style=\"text-align: right;\">\n",
       "      <th></th>\n",
       "      <th>SMILES</th>\n",
       "      <th>Tc</th>\n",
       "    </tr>\n",
       "  </thead>\n",
       "  <tbody>\n",
       "    <tr>\n",
       "      <th>0</th>\n",
       "      <td>*CC(*)c1ccccc1C(=O)OCCCCCC</td>\n",
       "      <td>0.205667</td>\n",
       "    </tr>\n",
       "    <tr>\n",
       "      <th>10</th>\n",
       "      <td>*c1ccc(-c2ccc3c(c2)C(CCCCCCC#N)(CCCCCCC#N)c2cc...</td>\n",
       "      <td>0.487000</td>\n",
       "    </tr>\n",
       "    <tr>\n",
       "      <th>11</th>\n",
       "      <td>*CC(*)c1ccc(C(=O)O)c(C(=O)O)c1</td>\n",
       "      <td>0.171000</td>\n",
       "    </tr>\n",
       "    <tr>\n",
       "      <th>31</th>\n",
       "      <td>*CCCCCNC(=O)CCCCC(=O)N*</td>\n",
       "      <td>0.327000</td>\n",
       "    </tr>\n",
       "    <tr>\n",
       "      <th>34</th>\n",
       "      <td>*CCCCCCCCCCCCCCCCCCNC(=O)NCCCCCCNC(=O)N*</td>\n",
       "      <td>0.383000</td>\n",
       "    </tr>\n",
       "    <tr>\n",
       "      <th>...</th>\n",
       "      <td>...</td>\n",
       "      <td>...</td>\n",
       "    </tr>\n",
       "    <tr>\n",
       "      <th>7899</th>\n",
       "      <td>*CCN(*)C(=O)CCCCCCCCCCCCCCC</td>\n",
       "      <td>0.336000</td>\n",
       "    </tr>\n",
       "    <tr>\n",
       "      <th>7905</th>\n",
       "      <td>*CC(*)c1ccccc1F</td>\n",
       "      <td>0.174667</td>\n",
       "    </tr>\n",
       "    <tr>\n",
       "      <th>7943</th>\n",
       "      <td>*CC(*)C1CC=CCC1</td>\n",
       "      <td>0.180750</td>\n",
       "    </tr>\n",
       "    <tr>\n",
       "      <th>7944</th>\n",
       "      <td>*CC(*)Cl</td>\n",
       "      <td>0.139000</td>\n",
       "    </tr>\n",
       "    <tr>\n",
       "      <th>7952</th>\n",
       "      <td>*CCCC(=O)NCc1ccc(CNC(=O)CCCO*)cc1</td>\n",
       "      <td>0.259000</td>\n",
       "    </tr>\n",
       "  </tbody>\n",
       "</table>\n",
       "<p>737 rows × 2 columns</p>\n",
       "</div>"
      ],
      "text/plain": [
       "                                                 SMILES        Tc\n",
       "0                            *CC(*)c1ccccc1C(=O)OCCCCCC  0.205667\n",
       "10    *c1ccc(-c2ccc3c(c2)C(CCCCCCC#N)(CCCCCCC#N)c2cc...  0.487000\n",
       "11                       *CC(*)c1ccc(C(=O)O)c(C(=O)O)c1  0.171000\n",
       "31                              *CCCCCNC(=O)CCCCC(=O)N*  0.327000\n",
       "34             *CCCCCCCCCCCCCCCCCCNC(=O)NCCCCCCNC(=O)N*  0.383000\n",
       "...                                                 ...       ...\n",
       "7899                        *CCN(*)C(=O)CCCCCCCCCCCCCCC  0.336000\n",
       "7905                                    *CC(*)c1ccccc1F  0.174667\n",
       "7943                                    *CC(*)C1CC=CCC1  0.180750\n",
       "7944                                           *CC(*)Cl  0.139000\n",
       "7952                  *CCCC(=O)NCc1ccc(CNC(=O)CCCO*)cc1  0.259000\n",
       "\n",
       "[737 rows x 2 columns]"
      ]
     },
     "execution_count": 11,
     "metadata": {},
     "output_type": "execute_result"
    }
   ],
   "source": [
    "Tc_train_"
   ]
  },
  {
   "cell_type": "code",
   "execution_count": 12,
   "id": "bd8aebfc",
   "metadata": {
    "execution": {
     "iopub.execute_input": "2025-08-17T19:11:15.919106Z",
     "iopub.status.busy": "2025-08-17T19:11:15.918904Z",
     "iopub.status.idle": "2025-08-17T19:11:15.924823Z",
     "shell.execute_reply": "2025-08-17T19:11:15.924087Z"
    },
    "papermill": {
     "duration": 0.013753,
     "end_time": "2025-08-17T19:11:15.925929",
     "exception": false,
     "start_time": "2025-08-17T19:11:15.912176",
     "status": "completed"
    },
    "tags": []
   },
   "outputs": [
    {
     "name": "stdout",
     "output_type": "stream",
     "text": [
      "(7892, 2)\n",
      "(557, 2)\n",
      "(1611, 2)\n",
      "(613, 2)\n",
      "(614, 2)\n"
     ]
    }
   ],
   "source": [
    "FFV_train = pd.concat([FFV_train_, FFV_extra], ignore_index = True)\n",
    "Tg_train = pd.concat([Tg_train_, Tg_extra], ignore_index = True)\n",
    "Tc_train = pd.concat([Tc_train_, Tc_extra], ignore_index = True)\n",
    "print(FFV_train.shape)\n",
    "print(Tg_train.shape)\n",
    "print(Tc_train.shape)\n",
    "print(Density_train.shape)\n",
    "print(Rg_train.shape)"
   ]
  },
  {
   "cell_type": "code",
   "execution_count": 13,
   "id": "62ef31b8",
   "metadata": {
    "execution": {
     "iopub.execute_input": "2025-08-17T19:11:15.939210Z",
     "iopub.status.busy": "2025-08-17T19:11:15.938816Z",
     "iopub.status.idle": "2025-08-17T19:11:28.446454Z",
     "shell.execute_reply": "2025-08-17T19:11:28.445850Z"
    },
    "papermill": {
     "duration": 12.515772,
     "end_time": "2025-08-17T19:11:28.447955",
     "exception": false,
     "start_time": "2025-08-17T19:11:15.932183",
     "status": "completed"
    },
    "tags": []
   },
   "outputs": [
    {
     "name": "stderr",
     "output_type": "stream",
     "text": [
      "2025-08-17 19:11:17.529459: E external/local_xla/xla/stream_executor/cuda/cuda_fft.cc:477] Unable to register cuFFT factory: Attempting to register factory for plugin cuFFT when one has already been registered\n",
      "WARNING: All log messages before absl::InitializeLog() is called are written to STDERR\n",
      "E0000 00:00:1755457877.731673      19 cuda_dnn.cc:8310] Unable to register cuDNN factory: Attempting to register factory for plugin cuDNN when one has already been registered\n",
      "E0000 00:00:1755457877.793051      19 cuda_blas.cc:1418] Unable to register cuBLAS factory: Attempting to register factory for plugin cuBLAS when one has already been registered\n"
     ]
    }
   ],
   "source": [
    "import tensorflow as tf\n",
    "from tensorflow.keras.models import Sequential\n",
    "from tensorflow.keras.layers import Dense, Dropout"
   ]
  },
  {
   "cell_type": "code",
   "execution_count": 14,
   "id": "89677e6e",
   "metadata": {
    "execution": {
     "iopub.execute_input": "2025-08-17T19:11:28.463034Z",
     "iopub.status.busy": "2025-08-17T19:11:28.462084Z",
     "iopub.status.idle": "2025-08-17T19:11:29.910757Z",
     "shell.execute_reply": "2025-08-17T19:11:29.909933Z"
    },
    "papermill": {
     "duration": 1.457344,
     "end_time": "2025-08-17T19:11:29.912173",
     "exception": false,
     "start_time": "2025-08-17T19:11:28.454829",
     "status": "completed"
    },
    "tags": []
   },
   "outputs": [
    {
     "name": "stderr",
     "output_type": "stream",
     "text": [
      "/usr/local/lib/python3.11/dist-packages/keras/src/layers/core/dense.py:87: UserWarning: Do not pass an `input_shape`/`input_dim` argument to a layer. When using Sequential models, prefer using an `Input(shape)` object as the first layer in the model instead.\n",
      "  super().__init__(activity_regularizer=activity_regularizer, **kwargs)\n",
      "I0000 00:00:1755457888.688111      19 gpu_device.cc:2022] Created device /job:localhost/replica:0/task:0/device:GPU:0 with 15513 MB memory:  -> device: 0, name: Tesla P100-PCIE-16GB, pci bus id: 0000:00:04.0, compute capability: 6.0\n"
     ]
    }
   ],
   "source": [
    "model_FFV = Sequential([\n",
    "    Dense(150, activation='linear', input_shape=(75,)),\n",
    "    Dropout(0.3),\n",
    "    Dense(150, activation='linear'),\n",
    "    Dropout(0.3),                                                                           \n",
    "    Dense(1, activation='linear')\n",
    "])"
   ]
  },
  {
   "cell_type": "code",
   "execution_count": 15,
   "id": "ac0aad4a",
   "metadata": {
    "execution": {
     "iopub.execute_input": "2025-08-17T19:11:29.926323Z",
     "iopub.status.busy": "2025-08-17T19:11:29.926079Z",
     "iopub.status.idle": "2025-08-17T19:11:30.758323Z",
     "shell.execute_reply": "2025-08-17T19:11:30.757455Z"
    },
    "papermill": {
     "duration": 0.840612,
     "end_time": "2025-08-17T19:11:30.759651",
     "exception": false,
     "start_time": "2025-08-17T19:11:29.919039",
     "status": "completed"
    },
    "tags": []
   },
   "outputs": [
    {
     "name": "stdout",
     "output_type": "stream",
     "text": [
      "(7892, 75)\n"
     ]
    }
   ],
   "source": [
    "X = tokenizer(\n",
    "    FFV_train[\"SMILES\"].tolist(),\n",
    "    padding=\"max_length\",\n",
    "    truncation=True,\n",
    "    max_length=75,  \n",
    "    return_tensors=\"np\" \n",
    ").input_ids\n",
    "\n",
    "print(X.shape)"
   ]
  },
  {
   "cell_type": "code",
   "execution_count": 16,
   "id": "d3d16749",
   "metadata": {
    "execution": {
     "iopub.execute_input": "2025-08-17T19:11:30.820409Z",
     "iopub.status.busy": "2025-08-17T19:11:30.820164Z",
     "iopub.status.idle": "2025-08-17T19:11:30.836960Z",
     "shell.execute_reply": "2025-08-17T19:11:30.836361Z"
    },
    "papermill": {
     "duration": 0.071751,
     "end_time": "2025-08-17T19:11:30.838134",
     "exception": false,
     "start_time": "2025-08-17T19:11:30.766383",
     "status": "completed"
    },
    "tags": []
   },
   "outputs": [],
   "source": [
    "from sklearn.model_selection import train_test_split\n",
    "Y = FFV_train['FFV'].values\n",
    "X_train, X_test, Y_train, Y_test = train_test_split(X, Y, test_size=0.2, random_state=42, shuffle=True)"
   ]
  },
  {
   "cell_type": "code",
   "execution_count": 17,
   "id": "4de9290b",
   "metadata": {
    "execution": {
     "iopub.execute_input": "2025-08-17T19:11:30.853129Z",
     "iopub.status.busy": "2025-08-17T19:11:30.852912Z",
     "iopub.status.idle": "2025-08-17T19:11:30.855980Z",
     "shell.execute_reply": "2025-08-17T19:11:30.855461Z"
    },
    "papermill": {
     "duration": 0.011695,
     "end_time": "2025-08-17T19:11:30.857008",
     "exception": false,
     "start_time": "2025-08-17T19:11:30.845313",
     "status": "completed"
    },
    "tags": []
   },
   "outputs": [],
   "source": [
    "# model_FFV.compile(optimizer=tf.keras.optimizers.Adam(learning_rate=1e-3),\n",
    "#              loss = \"mae\",                  \n",
    "#     metrics=['mae','mse','mape'])"
   ]
  },
  {
   "cell_type": "code",
   "execution_count": 18,
   "id": "99d6ad21",
   "metadata": {
    "execution": {
     "iopub.execute_input": "2025-08-17T19:11:30.871344Z",
     "iopub.status.busy": "2025-08-17T19:11:30.870570Z",
     "iopub.status.idle": "2025-08-17T19:12:14.040099Z",
     "shell.execute_reply": "2025-08-17T19:12:14.039428Z"
    },
    "papermill": {
     "duration": 43.177797,
     "end_time": "2025-08-17T19:12:14.041372",
     "exception": false,
     "start_time": "2025-08-17T19:11:30.863575",
     "status": "completed"
    },
    "tags": []
   },
   "outputs": [
    {
     "name": "stdout",
     "output_type": "stream",
     "text": [
      "Epoch 1/100\n"
     ]
    },
    {
     "name": "stderr",
     "output_type": "stream",
     "text": [
      "WARNING: All log messages before absl::InitializeLog() is called are written to STDERR\n",
      "I0000 00:00:1755457892.425566      64 service.cc:148] XLA service 0x7d154400ce40 initialized for platform CUDA (this does not guarantee that XLA will be used). Devices:\n",
      "I0000 00:00:1755457892.426001      64 service.cc:156]   StreamExecutor device (0): Tesla P100-PCIE-16GB, Compute Capability 6.0\n",
      "I0000 00:00:1755457892.640653      64 cuda_dnn.cc:529] Loaded cuDNN version 90300\n"
     ]
    },
    {
     "name": "stdout",
     "output_type": "stream",
     "text": [
      "\u001b[1m 68/198\u001b[0m \u001b[32m━━━━━━\u001b[0m\u001b[37m━━━━━━━━━━━━━━\u001b[0m \u001b[1m0s\u001b[0m 2ms/step - loss: 37.7033 - mae: 37.7033"
     ]
    },
    {
     "name": "stderr",
     "output_type": "stream",
     "text": [
      "I0000 00:00:1755457894.004863      64 device_compiler.h:188] Compiled cluster using XLA!  This line is logged at most once for the lifetime of the process.\n"
     ]
    },
    {
     "name": "stdout",
     "output_type": "stream",
     "text": [
      "\u001b[1m198/198\u001b[0m \u001b[32m━━━━━━━━━━━━━━━━━━━━\u001b[0m\u001b[37m\u001b[0m \u001b[1m5s\u001b[0m 12ms/step - loss: 29.2922 - mae: 29.2922 - val_loss: 4.6818 - val_mae: 4.6818 - learning_rate: 0.0010\n",
      "Epoch 2/100\n",
      "\u001b[1m198/198\u001b[0m \u001b[32m━━━━━━━━━━━━━━━━━━━━\u001b[0m\u001b[37m\u001b[0m \u001b[1m1s\u001b[0m 3ms/step - loss: 11.2456 - mae: 11.2456 - val_loss: 2.0230 - val_mae: 2.0230 - learning_rate: 0.0010\n",
      "Epoch 3/100\n",
      "\u001b[1m198/198\u001b[0m \u001b[32m━━━━━━━━━━━━━━━━━━━━\u001b[0m\u001b[37m\u001b[0m \u001b[1m1s\u001b[0m 3ms/step - loss: 5.0422 - mae: 5.0422 - val_loss: 0.6085 - val_mae: 0.6085 - learning_rate: 0.0010\n",
      "Epoch 4/100\n",
      "\u001b[1m198/198\u001b[0m \u001b[32m━━━━━━━━━━━━━━━━━━━━\u001b[0m\u001b[37m\u001b[0m \u001b[1m1s\u001b[0m 3ms/step - loss: 1.2692 - mae: 1.2692 - val_loss: 0.1750 - val_mae: 0.1750 - learning_rate: 0.0010\n",
      "Epoch 5/100\n",
      "\u001b[1m198/198\u001b[0m \u001b[32m━━━━━━━━━━━━━━━━━━━━\u001b[0m\u001b[37m\u001b[0m \u001b[1m1s\u001b[0m 3ms/step - loss: 0.3046 - mae: 0.3046 - val_loss: 0.1655 - val_mae: 0.1655 - learning_rate: 0.0010\n",
      "Epoch 6/100\n",
      "\u001b[1m198/198\u001b[0m \u001b[32m━━━━━━━━━━━━━━━━━━━━\u001b[0m\u001b[37m\u001b[0m \u001b[1m1s\u001b[0m 3ms/step - loss: 0.2762 - mae: 0.2762 - val_loss: 0.1907 - val_mae: 0.1907 - learning_rate: 0.0010\n",
      "Epoch 7/100\n",
      "\u001b[1m198/198\u001b[0m \u001b[32m━━━━━━━━━━━━━━━━━━━━\u001b[0m\u001b[37m\u001b[0m \u001b[1m1s\u001b[0m 3ms/step - loss: 0.2906 - mae: 0.2906 - val_loss: 0.1787 - val_mae: 0.1787 - learning_rate: 0.0010\n",
      "Epoch 8/100\n",
      "\u001b[1m198/198\u001b[0m \u001b[32m━━━━━━━━━━━━━━━━━━━━\u001b[0m\u001b[37m\u001b[0m \u001b[1m1s\u001b[0m 3ms/step - loss: 0.2656 - mae: 0.2656 - val_loss: 0.1305 - val_mae: 0.1305 - learning_rate: 0.0010\n",
      "Epoch 9/100\n",
      "\u001b[1m198/198\u001b[0m \u001b[32m━━━━━━━━━━━━━━━━━━━━\u001b[0m\u001b[37m\u001b[0m \u001b[1m1s\u001b[0m 3ms/step - loss: 0.2678 - mae: 0.2678 - val_loss: 0.1529 - val_mae: 0.1529 - learning_rate: 0.0010\n",
      "Epoch 10/100\n",
      "\u001b[1m198/198\u001b[0m \u001b[32m━━━━━━━━━━━━━━━━━━━━\u001b[0m\u001b[37m\u001b[0m \u001b[1m1s\u001b[0m 3ms/step - loss: 0.2588 - mae: 0.2588 - val_loss: 0.1322 - val_mae: 0.1322 - learning_rate: 0.0010\n",
      "Epoch 11/100\n",
      "\u001b[1m198/198\u001b[0m \u001b[32m━━━━━━━━━━━━━━━━━━━━\u001b[0m\u001b[37m\u001b[0m \u001b[1m1s\u001b[0m 3ms/step - loss: 0.2649 - mae: 0.2649 - val_loss: 0.1457 - val_mae: 0.1457 - learning_rate: 0.0010\n",
      "Epoch 12/100\n",
      "\u001b[1m198/198\u001b[0m \u001b[32m━━━━━━━━━━━━━━━━━━━━\u001b[0m\u001b[37m\u001b[0m \u001b[1m1s\u001b[0m 3ms/step - loss: 0.1584 - mae: 0.1584 - val_loss: 0.0905 - val_mae: 0.0905 - learning_rate: 5.0000e-04\n",
      "Epoch 13/100\n",
      "\u001b[1m198/198\u001b[0m \u001b[32m━━━━━━━━━━━━━━━━━━━━\u001b[0m\u001b[37m\u001b[0m \u001b[1m1s\u001b[0m 3ms/step - loss: 0.1236 - mae: 0.1236 - val_loss: 0.0751 - val_mae: 0.0751 - learning_rate: 5.0000e-04\n",
      "Epoch 14/100\n",
      "\u001b[1m198/198\u001b[0m \u001b[32m━━━━━━━━━━━━━━━━━━━━\u001b[0m\u001b[37m\u001b[0m \u001b[1m1s\u001b[0m 3ms/step - loss: 0.1243 - mae: 0.1243 - val_loss: 0.0670 - val_mae: 0.0670 - learning_rate: 5.0000e-04\n",
      "Epoch 15/100\n",
      "\u001b[1m198/198\u001b[0m \u001b[32m━━━━━━━━━━━━━━━━━━━━\u001b[0m\u001b[37m\u001b[0m \u001b[1m1s\u001b[0m 3ms/step - loss: 0.1209 - mae: 0.1209 - val_loss: 0.0818 - val_mae: 0.0818 - learning_rate: 5.0000e-04\n",
      "Epoch 16/100\n",
      "\u001b[1m198/198\u001b[0m \u001b[32m━━━━━━━━━━━━━━━━━━━━\u001b[0m\u001b[37m\u001b[0m \u001b[1m1s\u001b[0m 3ms/step - loss: 0.1236 - mae: 0.1236 - val_loss: 0.0846 - val_mae: 0.0846 - learning_rate: 5.0000e-04\n",
      "Epoch 17/100\n",
      "\u001b[1m198/198\u001b[0m \u001b[32m━━━━━━━━━━━━━━━━━━━━\u001b[0m\u001b[37m\u001b[0m \u001b[1m1s\u001b[0m 3ms/step - loss: 0.1229 - mae: 0.1229 - val_loss: 0.0917 - val_mae: 0.0917 - learning_rate: 5.0000e-04\n",
      "Epoch 18/100\n",
      "\u001b[1m198/198\u001b[0m \u001b[32m━━━━━━━━━━━━━━━━━━━━\u001b[0m\u001b[37m\u001b[0m \u001b[1m1s\u001b[0m 3ms/step - loss: 0.0853 - mae: 0.0853 - val_loss: 0.0475 - val_mae: 0.0475 - learning_rate: 2.5000e-04\n",
      "Epoch 19/100\n",
      "\u001b[1m198/198\u001b[0m \u001b[32m━━━━━━━━━━━━━━━━━━━━\u001b[0m\u001b[37m\u001b[0m \u001b[1m1s\u001b[0m 3ms/step - loss: 0.0646 - mae: 0.0646 - val_loss: 0.0415 - val_mae: 0.0415 - learning_rate: 2.5000e-04\n",
      "Epoch 20/100\n",
      "\u001b[1m198/198\u001b[0m \u001b[32m━━━━━━━━━━━━━━━━━━━━\u001b[0m\u001b[37m\u001b[0m \u001b[1m1s\u001b[0m 3ms/step - loss: 0.0666 - mae: 0.0666 - val_loss: 0.0476 - val_mae: 0.0476 - learning_rate: 2.5000e-04\n",
      "Epoch 21/100\n",
      "\u001b[1m198/198\u001b[0m \u001b[32m━━━━━━━━━━━━━━━━━━━━\u001b[0m\u001b[37m\u001b[0m \u001b[1m1s\u001b[0m 3ms/step - loss: 0.0675 - mae: 0.0675 - val_loss: 0.0454 - val_mae: 0.0454 - learning_rate: 2.5000e-04\n",
      "Epoch 22/100\n",
      "\u001b[1m198/198\u001b[0m \u001b[32m━━━━━━━━━━━━━━━━━━━━\u001b[0m\u001b[37m\u001b[0m \u001b[1m1s\u001b[0m 3ms/step - loss: 0.0650 - mae: 0.0650 - val_loss: 0.0454 - val_mae: 0.0454 - learning_rate: 2.5000e-04\n",
      "Epoch 23/100\n",
      "\u001b[1m198/198\u001b[0m \u001b[32m━━━━━━━━━━━━━━━━━━━━\u001b[0m\u001b[37m\u001b[0m \u001b[1m1s\u001b[0m 3ms/step - loss: 0.0489 - mae: 0.0489 - val_loss: 0.0310 - val_mae: 0.0310 - learning_rate: 1.2500e-04\n",
      "Epoch 24/100\n",
      "\u001b[1m198/198\u001b[0m \u001b[32m━━━━━━━━━━━━━━━━━━━━\u001b[0m\u001b[37m\u001b[0m \u001b[1m1s\u001b[0m 3ms/step - loss: 0.0412 - mae: 0.0412 - val_loss: 0.0283 - val_mae: 0.0283 - learning_rate: 1.2500e-04\n",
      "Epoch 25/100\n",
      "\u001b[1m198/198\u001b[0m \u001b[32m━━━━━━━━━━━━━━━━━━━━\u001b[0m\u001b[37m\u001b[0m \u001b[1m1s\u001b[0m 3ms/step - loss: 0.0421 - mae: 0.0421 - val_loss: 0.0280 - val_mae: 0.0280 - learning_rate: 1.2500e-04\n",
      "Epoch 26/100\n",
      "\u001b[1m198/198\u001b[0m \u001b[32m━━━━━━━━━━━━━━━━━━━━\u001b[0m\u001b[37m\u001b[0m \u001b[1m1s\u001b[0m 3ms/step - loss: 0.0396 - mae: 0.0396 - val_loss: 0.0332 - val_mae: 0.0332 - learning_rate: 1.2500e-04\n",
      "Epoch 27/100\n",
      "\u001b[1m198/198\u001b[0m \u001b[32m━━━━━━━━━━━━━━━━━━━━\u001b[0m\u001b[37m\u001b[0m \u001b[1m1s\u001b[0m 3ms/step - loss: 0.0416 - mae: 0.0416 - val_loss: 0.0326 - val_mae: 0.0326 - learning_rate: 1.2500e-04\n",
      "Epoch 28/100\n",
      "\u001b[1m198/198\u001b[0m \u001b[32m━━━━━━━━━━━━━━━━━━━━\u001b[0m\u001b[37m\u001b[0m \u001b[1m1s\u001b[0m 3ms/step - loss: 0.0401 - mae: 0.0401 - val_loss: 0.0292 - val_mae: 0.0292 - learning_rate: 1.2500e-04\n",
      "Epoch 29/100\n",
      "\u001b[1m198/198\u001b[0m \u001b[32m━━━━━━━━━━━━━━━━━━━━\u001b[0m\u001b[37m\u001b[0m \u001b[1m1s\u001b[0m 3ms/step - loss: 0.0314 - mae: 0.0314 - val_loss: 0.0233 - val_mae: 0.0233 - learning_rate: 6.2500e-05\n",
      "Epoch 30/100\n",
      "\u001b[1m198/198\u001b[0m \u001b[32m━━━━━━━━━━━━━━━━━━━━\u001b[0m\u001b[37m\u001b[0m \u001b[1m1s\u001b[0m 3ms/step - loss: 0.0299 - mae: 0.0299 - val_loss: 0.0234 - val_mae: 0.0234 - learning_rate: 6.2500e-05\n",
      "Epoch 31/100\n",
      "\u001b[1m198/198\u001b[0m \u001b[32m━━━━━━━━━━━━━━━━━━━━\u001b[0m\u001b[37m\u001b[0m \u001b[1m1s\u001b[0m 3ms/step - loss: 0.0297 - mae: 0.0297 - val_loss: 0.0221 - val_mae: 0.0221 - learning_rate: 6.2500e-05\n",
      "Epoch 32/100\n",
      "\u001b[1m198/198\u001b[0m \u001b[32m━━━━━━━━━━━━━━━━━━━━\u001b[0m\u001b[37m\u001b[0m \u001b[1m1s\u001b[0m 3ms/step - loss: 0.0289 - mae: 0.0289 - val_loss: 0.0247 - val_mae: 0.0247 - learning_rate: 6.2500e-05\n",
      "Epoch 33/100\n",
      "\u001b[1m198/198\u001b[0m \u001b[32m━━━━━━━━━━━━━━━━━━━━\u001b[0m\u001b[37m\u001b[0m \u001b[1m1s\u001b[0m 3ms/step - loss: 0.0304 - mae: 0.0304 - val_loss: 0.0235 - val_mae: 0.0235 - learning_rate: 6.2500e-05\n",
      "Epoch 34/100\n",
      "\u001b[1m198/198\u001b[0m \u001b[32m━━━━━━━━━━━━━━━━━━━━\u001b[0m\u001b[37m\u001b[0m \u001b[1m1s\u001b[0m 3ms/step - loss: 0.0292 - mae: 0.0292 - val_loss: 0.0243 - val_mae: 0.0243 - learning_rate: 6.2500e-05\n",
      "Epoch 35/100\n",
      "\u001b[1m198/198\u001b[0m \u001b[32m━━━━━━━━━━━━━━━━━━━━\u001b[0m\u001b[37m\u001b[0m \u001b[1m1s\u001b[0m 3ms/step - loss: 0.0253 - mae: 0.0253 - val_loss: 0.0218 - val_mae: 0.0218 - learning_rate: 3.1250e-05\n",
      "Epoch 36/100\n",
      "\u001b[1m198/198\u001b[0m \u001b[32m━━━━━━━━━━━━━━━━━━━━\u001b[0m\u001b[37m\u001b[0m \u001b[1m1s\u001b[0m 3ms/step - loss: 0.0244 - mae: 0.0244 - val_loss: 0.0211 - val_mae: 0.0211 - learning_rate: 3.1250e-05\n",
      "Epoch 37/100\n",
      "\u001b[1m198/198\u001b[0m \u001b[32m━━━━━━━━━━━━━━━━━━━━\u001b[0m\u001b[37m\u001b[0m \u001b[1m1s\u001b[0m 3ms/step - loss: 0.0243 - mae: 0.0243 - val_loss: 0.0223 - val_mae: 0.0223 - learning_rate: 3.1250e-05\n",
      "Epoch 38/100\n",
      "\u001b[1m198/198\u001b[0m \u001b[32m━━━━━━━━━━━━━━━━━━━━\u001b[0m\u001b[37m\u001b[0m \u001b[1m1s\u001b[0m 3ms/step - loss: 0.0243 - mae: 0.0243 - val_loss: 0.0212 - val_mae: 0.0212 - learning_rate: 3.1250e-05\n",
      "Epoch 39/100\n",
      "\u001b[1m198/198\u001b[0m \u001b[32m━━━━━━━━━━━━━━━━━━━━\u001b[0m\u001b[37m\u001b[0m \u001b[1m1s\u001b[0m 3ms/step - loss: 0.0243 - mae: 0.0243 - val_loss: 0.0226 - val_mae: 0.0226 - learning_rate: 3.1250e-05\n",
      "Epoch 40/100\n",
      "\u001b[1m198/198\u001b[0m \u001b[32m━━━━━━━━━━━━━━━━━━━━\u001b[0m\u001b[37m\u001b[0m \u001b[1m1s\u001b[0m 3ms/step - loss: 0.0228 - mae: 0.0228 - val_loss: 0.0204 - val_mae: 0.0204 - learning_rate: 1.5625e-05\n",
      "Epoch 41/100\n",
      "\u001b[1m198/198\u001b[0m \u001b[32m━━━━━━━━━━━━━━━━━━━━\u001b[0m\u001b[37m\u001b[0m \u001b[1m1s\u001b[0m 3ms/step - loss: 0.0218 - mae: 0.0218 - val_loss: 0.0199 - val_mae: 0.0199 - learning_rate: 1.5625e-05\n",
      "Epoch 42/100\n",
      "\u001b[1m198/198\u001b[0m \u001b[32m━━━━━━━━━━━━━━━━━━━━\u001b[0m\u001b[37m\u001b[0m \u001b[1m1s\u001b[0m 3ms/step - loss: 0.0217 - mae: 0.0217 - val_loss: 0.0207 - val_mae: 0.0207 - learning_rate: 1.5625e-05\n",
      "Epoch 43/100\n",
      "\u001b[1m198/198\u001b[0m \u001b[32m━━━━━━━━━━━━━━━━━━━━\u001b[0m\u001b[37m\u001b[0m \u001b[1m1s\u001b[0m 3ms/step - loss: 0.0216 - mae: 0.0216 - val_loss: 0.0204 - val_mae: 0.0204 - learning_rate: 1.5625e-05\n",
      "Epoch 44/100\n",
      "\u001b[1m198/198\u001b[0m \u001b[32m━━━━━━━━━━━━━━━━━━━━\u001b[0m\u001b[37m\u001b[0m \u001b[1m1s\u001b[0m 3ms/step - loss: 0.0216 - mae: 0.0216 - val_loss: 0.0206 - val_mae: 0.0206 - learning_rate: 1.5625e-05\n",
      "Epoch 45/100\n",
      "\u001b[1m198/198\u001b[0m \u001b[32m━━━━━━━━━━━━━━━━━━━━\u001b[0m\u001b[37m\u001b[0m \u001b[1m1s\u001b[0m 3ms/step - loss: 0.0215 - mae: 0.0215 - val_loss: 0.0198 - val_mae: 0.0198 - learning_rate: 7.8125e-06\n",
      "Epoch 46/100\n",
      "\u001b[1m198/198\u001b[0m \u001b[32m━━━━━━━━━━━━━━━━━━━━\u001b[0m\u001b[37m\u001b[0m \u001b[1m1s\u001b[0m 3ms/step - loss: 0.0209 - mae: 0.0209 - val_loss: 0.0200 - val_mae: 0.0200 - learning_rate: 7.8125e-06\n",
      "Epoch 47/100\n",
      "\u001b[1m198/198\u001b[0m \u001b[32m━━━━━━━━━━━━━━━━━━━━\u001b[0m\u001b[37m\u001b[0m \u001b[1m1s\u001b[0m 3ms/step - loss: 0.0210 - mae: 0.0210 - val_loss: 0.0198 - val_mae: 0.0198 - learning_rate: 7.8125e-06\n",
      "Epoch 48/100\n",
      "\u001b[1m198/198\u001b[0m \u001b[32m━━━━━━━━━━━━━━━━━━━━\u001b[0m\u001b[37m\u001b[0m \u001b[1m1s\u001b[0m 3ms/step - loss: 0.0204 - mae: 0.0204 - val_loss: 0.0199 - val_mae: 0.0199 - learning_rate: 7.8125e-06\n",
      "Epoch 49/100\n",
      "\u001b[1m198/198\u001b[0m \u001b[32m━━━━━━━━━━━━━━━━━━━━\u001b[0m\u001b[37m\u001b[0m \u001b[1m1s\u001b[0m 3ms/step - loss: 0.0202 - mae: 0.0202 - val_loss: 0.0198 - val_mae: 0.0198 - learning_rate: 3.9063e-06\n",
      "Epoch 50/100\n",
      "\u001b[1m198/198\u001b[0m \u001b[32m━━━━━━━━━━━━━━━━━━━━\u001b[0m\u001b[37m\u001b[0m \u001b[1m1s\u001b[0m 3ms/step - loss: 0.0204 - mae: 0.0204 - val_loss: 0.0197 - val_mae: 0.0197 - learning_rate: 3.9063e-06\n",
      "Epoch 51/100\n",
      "\u001b[1m198/198\u001b[0m \u001b[32m━━━━━━━━━━━━━━━━━━━━\u001b[0m\u001b[37m\u001b[0m \u001b[1m1s\u001b[0m 3ms/step - loss: 0.0205 - mae: 0.0205 - val_loss: 0.0197 - val_mae: 0.0197 - learning_rate: 3.9063e-06\n",
      "Epoch 52/100\n",
      "\u001b[1m198/198\u001b[0m \u001b[32m━━━━━━━━━━━━━━━━━━━━\u001b[0m\u001b[37m\u001b[0m \u001b[1m1s\u001b[0m 3ms/step - loss: 0.0203 - mae: 0.0203 - val_loss: 0.0196 - val_mae: 0.0196 - learning_rate: 1.9531e-06\n",
      "Epoch 53/100\n",
      "\u001b[1m198/198\u001b[0m \u001b[32m━━━━━━━━━━━━━━━━━━━━\u001b[0m\u001b[37m\u001b[0m \u001b[1m1s\u001b[0m 3ms/step - loss: 0.0197 - mae: 0.0197 - val_loss: 0.0196 - val_mae: 0.0196 - learning_rate: 1.9531e-06\n",
      "Epoch 54/100\n",
      "\u001b[1m198/198\u001b[0m \u001b[32m━━━━━━━━━━━━━━━━━━━━\u001b[0m\u001b[37m\u001b[0m \u001b[1m1s\u001b[0m 3ms/step - loss: 0.0198 - mae: 0.0198 - val_loss: 0.0195 - val_mae: 0.0195 - learning_rate: 1.9531e-06\n",
      "Epoch 55/100\n",
      "\u001b[1m198/198\u001b[0m \u001b[32m━━━━━━━━━━━━━━━━━━━━\u001b[0m\u001b[37m\u001b[0m \u001b[1m1s\u001b[0m 3ms/step - loss: 0.0206 - mae: 0.0206 - val_loss: 0.0195 - val_mae: 0.0195 - learning_rate: 1.9531e-06\n",
      "Epoch 56/100\n",
      "\u001b[1m198/198\u001b[0m \u001b[32m━━━━━━━━━━━━━━━━━━━━\u001b[0m\u001b[37m\u001b[0m \u001b[1m1s\u001b[0m 3ms/step - loss: 0.0199 - mae: 0.0199 - val_loss: 0.0197 - val_mae: 0.0197 - learning_rate: 1.9531e-06\n",
      "Epoch 57/100\n",
      "\u001b[1m198/198\u001b[0m \u001b[32m━━━━━━━━━━━━━━━━━━━━\u001b[0m\u001b[37m\u001b[0m \u001b[1m1s\u001b[0m 3ms/step - loss: 0.0204 - mae: 0.0204 - val_loss: 0.0197 - val_mae: 0.0197 - learning_rate: 1.9531e-06\n",
      "Epoch 58/100\n",
      "\u001b[1m198/198\u001b[0m \u001b[32m━━━━━━━━━━━━━━━━━━━━\u001b[0m\u001b[37m\u001b[0m \u001b[1m1s\u001b[0m 3ms/step - loss: 0.0195 - mae: 0.0195 - val_loss: 0.0196 - val_mae: 0.0196 - learning_rate: 9.7656e-07\n",
      "Epoch 59/100\n",
      "\u001b[1m198/198\u001b[0m \u001b[32m━━━━━━━━━━━━━━━━━━━━\u001b[0m\u001b[37m\u001b[0m \u001b[1m1s\u001b[0m 3ms/step - loss: 0.0200 - mae: 0.0200 - val_loss: 0.0196 - val_mae: 0.0196 - learning_rate: 9.7656e-07\n",
      "Epoch 60/100\n",
      "\u001b[1m198/198\u001b[0m \u001b[32m━━━━━━━━━━━━━━━━━━━━\u001b[0m\u001b[37m\u001b[0m \u001b[1m1s\u001b[0m 3ms/step - loss: 0.0198 - mae: 0.0198 - val_loss: 0.0196 - val_mae: 0.0196 - learning_rate: 9.7656e-07\n",
      "Epoch 61/100\n",
      "\u001b[1m198/198\u001b[0m \u001b[32m━━━━━━━━━━━━━━━━━━━━\u001b[0m\u001b[37m\u001b[0m \u001b[1m1s\u001b[0m 3ms/step - loss: 0.0199 - mae: 0.0199 - val_loss: 0.0196 - val_mae: 0.0196 - learning_rate: 4.8828e-07\n",
      "Epoch 62/100\n",
      "\u001b[1m198/198\u001b[0m \u001b[32m━━━━━━━━━━━━━━━━━━━━\u001b[0m\u001b[37m\u001b[0m \u001b[1m1s\u001b[0m 3ms/step - loss: 0.0199 - mae: 0.0199 - val_loss: 0.0195 - val_mae: 0.0195 - learning_rate: 4.8828e-07\n",
      "Epoch 63/100\n",
      "\u001b[1m198/198\u001b[0m \u001b[32m━━━━━━━━━━━━━━━━━━━━\u001b[0m\u001b[37m\u001b[0m \u001b[1m1s\u001b[0m 3ms/step - loss: 0.0195 - mae: 0.0195 - val_loss: 0.0195 - val_mae: 0.0195 - learning_rate: 4.8828e-07\n",
      "Epoch 64/100\n",
      "\u001b[1m198/198\u001b[0m \u001b[32m━━━━━━━━━━━━━━━━━━━━\u001b[0m\u001b[37m\u001b[0m \u001b[1m1s\u001b[0m 3ms/step - loss: 0.0198 - mae: 0.0198 - val_loss: 0.0195 - val_mae: 0.0195 - learning_rate: 2.4414e-07\n",
      "Epoch 65/100\n",
      "\u001b[1m198/198\u001b[0m \u001b[32m━━━━━━━━━━━━━━━━━━━━\u001b[0m\u001b[37m\u001b[0m \u001b[1m1s\u001b[0m 3ms/step - loss: 0.0194 - mae: 0.0194 - val_loss: 0.0195 - val_mae: 0.0195 - learning_rate: 2.4414e-07\n"
     ]
    }
   ],
   "source": [
    "import tensorflow as tf\n",
    "\n",
    "model_FFV.compile(\n",
    "    optimizer=tf.keras.optimizers.Adam(learning_rate=1e-3),\n",
    "    loss=\"mae\",                 # MAE\n",
    "    metrics=[\"mae\"]             # track MAE\n",
    ")\n",
    "sample_weights = np.ones(len(X_train))\n",
    "# use sample_weight to turn MAE into WMAE over the batch\n",
    "history = model_FFV.fit(\n",
    "    X_train, Y_train,\n",
    "    sample_weight=sample_weights,   \n",
    "    validation_data=(X_test, Y_test),\n",
    "    epochs=100,\n",
    "    callbacks=[\n",
    "        tf.keras.callbacks.EarlyStopping(\n",
    "            monitor=\"val_mae\", mode=\"min\", patience=10, restore_best_weights=True\n",
    "        ),\n",
    "        tf.keras.callbacks.ReduceLROnPlateau(\n",
    "            monitor=\"val_mae\", mode=\"min\", factor=0.5, patience=3\n",
    "        )\n",
    "    ],\n",
    "    batch_size=32\n",
    ")\n"
   ]
  },
  {
   "cell_type": "code",
   "execution_count": 19,
   "id": "52dd5d83",
   "metadata": {
    "execution": {
     "iopub.execute_input": "2025-08-17T19:12:14.114283Z",
     "iopub.status.busy": "2025-08-17T19:12:14.114015Z",
     "iopub.status.idle": "2025-08-17T19:12:14.117751Z",
     "shell.execute_reply": "2025-08-17T19:12:14.116913Z"
    },
    "papermill": {
     "duration": 0.040752,
     "end_time": "2025-08-17T19:12:14.118874",
     "exception": false,
     "start_time": "2025-08-17T19:12:14.078122",
     "status": "completed"
    },
    "tags": []
   },
   "outputs": [],
   "source": [
    "#model_FFV.fit(X_train, Y_train, epochs = 50, batch_size=32)"
   ]
  },
  {
   "cell_type": "code",
   "execution_count": 20,
   "id": "3d63bd7a",
   "metadata": {
    "execution": {
     "iopub.execute_input": "2025-08-17T19:12:14.188290Z",
     "iopub.status.busy": "2025-08-17T19:12:14.188047Z",
     "iopub.status.idle": "2025-08-17T19:12:14.381318Z",
     "shell.execute_reply": "2025-08-17T19:12:14.380513Z"
    },
    "papermill": {
     "duration": 0.229331,
     "end_time": "2025-08-17T19:12:14.382672",
     "exception": false,
     "start_time": "2025-08-17T19:12:14.153341",
     "status": "completed"
    },
    "tags": []
   },
   "outputs": [
    {
     "name": "stdout",
     "output_type": "stream",
     "text": [
      "\u001b[1m50/50\u001b[0m \u001b[32m━━━━━━━━━━━━━━━━━━━━\u001b[0m\u001b[37m\u001b[0m \u001b[1m0s\u001b[0m 2ms/step - loss: 0.0201 - mae: 0.0201\n",
      "Test loss: 0.019469911232590675\n",
      "Test MAE: 0.019469911232590675\n"
     ]
    }
   ],
   "source": [
    "results = model_FFV.evaluate(X_test, Y_test)\n",
    "print(f\"Test loss: {results[0]}\")\n",
    "print(f\"Test MAE: {results[1]}\")\n",
    "#print(f\"Test MSE: {results[2]}\")\n",
    "##print(f\"Test MAPE: {results[3]}\")"
   ]
  },
  {
   "cell_type": "code",
   "execution_count": 21,
   "id": "a77317ab",
   "metadata": {
    "execution": {
     "iopub.execute_input": "2025-08-17T19:12:14.453266Z",
     "iopub.status.busy": "2025-08-17T19:12:14.452992Z",
     "iopub.status.idle": "2025-08-17T19:12:14.690277Z",
     "shell.execute_reply": "2025-08-17T19:12:14.689531Z"
    },
    "papermill": {
     "duration": 0.273584,
     "end_time": "2025-08-17T19:12:14.691468",
     "exception": false,
     "start_time": "2025-08-17T19:12:14.417884",
     "status": "completed"
    },
    "tags": []
   },
   "outputs": [
    {
     "name": "stdout",
     "output_type": "stream",
     "text": [
      "\u001b[1m1/1\u001b[0m \u001b[32m━━━━━━━━━━━━━━━━━━━━\u001b[0m\u001b[37m\u001b[0m \u001b[1m0s\u001b[0m 187ms/step\n"
     ]
    }
   ],
   "source": [
    "\n",
    "X_sub = tokenizer(\n",
    "    test_csv[\"SMILES\"].tolist(),\n",
    "    padding=\"max_length\",\n",
    "    truncation=True,\n",
    "    max_length=75,  \n",
    "    return_tensors=\"np\"  \n",
    ").input_ids\n",
    "\n",
    "Y_FFV_sub = model_FFV.predict(X_sub)"
   ]
  },
  {
   "cell_type": "code",
   "execution_count": 22,
   "id": "5a8e8be3",
   "metadata": {
    "execution": {
     "iopub.execute_input": "2025-08-17T19:12:14.762176Z",
     "iopub.status.busy": "2025-08-17T19:12:14.761930Z",
     "iopub.status.idle": "2025-08-17T19:12:14.766412Z",
     "shell.execute_reply": "2025-08-17T19:12:14.765878Z"
    },
    "papermill": {
     "duration": 0.040784,
     "end_time": "2025-08-17T19:12:14.767516",
     "exception": false,
     "start_time": "2025-08-17T19:12:14.726732",
     "status": "completed"
    },
    "tags": []
   },
   "outputs": [
    {
     "data": {
      "text/plain": [
       "array([[0.3679846],\n",
       "       [0.3663791],\n",
       "       [0.3698545]], dtype=float32)"
      ]
     },
     "execution_count": 22,
     "metadata": {},
     "output_type": "execute_result"
    }
   ],
   "source": [
    "Y_FFV_sub"
   ]
  },
  {
   "cell_type": "code",
   "execution_count": 23,
   "id": "6feab83e",
   "metadata": {
    "execution": {
     "iopub.execute_input": "2025-08-17T19:12:14.837175Z",
     "iopub.status.busy": "2025-08-17T19:12:14.836950Z",
     "iopub.status.idle": "2025-08-17T19:12:14.904038Z",
     "shell.execute_reply": "2025-08-17T19:12:14.903300Z"
    },
    "papermill": {
     "duration": 0.103432,
     "end_time": "2025-08-17T19:12:14.905126",
     "exception": false,
     "start_time": "2025-08-17T19:12:14.801694",
     "status": "completed"
    },
    "tags": []
   },
   "outputs": [
    {
     "name": "stdout",
     "output_type": "stream",
     "text": [
      "(557, 75)\n"
     ]
    }
   ],
   "source": [
    "model_Tg = Sequential([\n",
    "    Dense(64, activation='relu', input_shape=(75,), kernel_regularizer=tf.keras.regularizers.l2(1e-4)),\n",
    "    Dropout(0.3),\n",
    "    Dense(32, activation='relu'),\n",
    "    Dense(1, activation='linear')\n",
    "])\n",
    "\n",
    "X_Tg = tokenizer(\n",
    "    Tg_train[\"SMILES\"].tolist(),\n",
    "    padding=\"max_length\",\n",
    "    truncation=True,\n",
    "    max_length=75,  \n",
    "    return_tensors=\"np\"  \n",
    ").input_ids\n",
    "\n",
    "print(X_Tg.shape)\n",
    "\n",
    "model_Tg.compile(optimizer=tf.keras.optimizers.Adam(learning_rate=1e-3),\n",
    "             loss = \"mae\",                  \n",
    "    metrics=['mae','mse','mape'])"
   ]
  },
  {
   "cell_type": "code",
   "execution_count": 24,
   "id": "00bdb4dc",
   "metadata": {
    "execution": {
     "iopub.execute_input": "2025-08-17T19:12:14.976134Z",
     "iopub.status.busy": "2025-08-17T19:12:14.975401Z",
     "iopub.status.idle": "2025-08-17T19:12:15.074679Z",
     "shell.execute_reply": "2025-08-17T19:12:15.073750Z"
    },
    "papermill": {
     "duration": 0.13599,
     "end_time": "2025-08-17T19:12:15.076057",
     "exception": false,
     "start_time": "2025-08-17T19:12:14.940067",
     "status": "completed"
    },
    "tags": []
   },
   "outputs": [
    {
     "name": "stdout",
     "output_type": "stream",
     "text": [
      "(1611, 75)\n"
     ]
    }
   ],
   "source": [
    "model_Tc = Sequential([\n",
    "    Dense(150, activation='relu', input_shape=(75,)),\n",
    "    Dropout(0.3),\n",
    "    Dense(75, activation='relu'),\n",
    "    Dropout(0.3),\n",
    "    Dense(1, activation='linear')\n",
    "])\n",
    "\n",
    "X_Tc = tokenizer(\n",
    "    Tc_train[\"SMILES\"].tolist(),\n",
    "    padding=\"max_length\",\n",
    "    truncation=True,\n",
    "    max_length=75,  \n",
    "    return_tensors=\"np\"  \n",
    ").input_ids\n",
    "\n",
    "print(X_Tc.shape)\n",
    "\n",
    "model_Tc.compile(optimizer=tf.keras.optimizers.Adam(learning_rate=1e-3),\n",
    "             loss = \"mae\",                  \n",
    "    metrics=['mae','mse','mape'])"
   ]
  },
  {
   "cell_type": "code",
   "execution_count": 25,
   "id": "e0140e84",
   "metadata": {
    "execution": {
     "iopub.execute_input": "2025-08-17T19:12:15.148464Z",
     "iopub.status.busy": "2025-08-17T19:12:15.148159Z",
     "iopub.status.idle": "2025-08-17T19:12:15.214413Z",
     "shell.execute_reply": "2025-08-17T19:12:15.213612Z"
    },
    "papermill": {
     "duration": 0.103656,
     "end_time": "2025-08-17T19:12:15.215607",
     "exception": false,
     "start_time": "2025-08-17T19:12:15.111951",
     "status": "completed"
    },
    "tags": []
   },
   "outputs": [
    {
     "name": "stdout",
     "output_type": "stream",
     "text": [
      "(613, 75)\n"
     ]
    }
   ],
   "source": [
    "model_Density = Sequential([\n",
    "    Dense(75, activation='relu', input_shape=(75,)),\n",
    "    Dropout(0.3),\n",
    "    Dense(50, activation = 'relu'),\n",
    "    Dropout(0.3),\n",
    "    Dense(1, activation='linear')\n",
    "])\n",
    "\n",
    "X_Density = tokenizer(\n",
    "    Density_train[\"SMILES\"].tolist(),\n",
    "    padding=\"max_length\",\n",
    "    truncation=True,\n",
    "    max_length=75,  \n",
    "    return_tensors=\"np\"  \n",
    ").input_ids\n",
    "\n",
    "print(X_Density.shape)\n",
    "\n",
    "\n",
    "model_Density.compile(optimizer=tf.keras.optimizers.Adam(learning_rate=1e-3),\n",
    "             loss = \"mae\",                  \n",
    "    metrics=['mae','mse','mape'])"
   ]
  },
  {
   "cell_type": "code",
   "execution_count": 26,
   "id": "9ca7efe6",
   "metadata": {
    "execution": {
     "iopub.execute_input": "2025-08-17T19:12:15.290759Z",
     "iopub.status.busy": "2025-08-17T19:12:15.290432Z",
     "iopub.status.idle": "2025-08-17T19:12:15.352343Z",
     "shell.execute_reply": "2025-08-17T19:12:15.351503Z"
    },
    "papermill": {
     "duration": 0.101226,
     "end_time": "2025-08-17T19:12:15.353797",
     "exception": false,
     "start_time": "2025-08-17T19:12:15.252571",
     "status": "completed"
    },
    "tags": []
   },
   "outputs": [
    {
     "name": "stdout",
     "output_type": "stream",
     "text": [
      "(614, 75)\n"
     ]
    }
   ],
   "source": [
    "model_Rg = Sequential([\n",
    "    Dense(75, activation='linear', input_shape=(75,)),\n",
    "    Dropout(0.3),\n",
    "    Dense(50, activation='relu'),\n",
    "    Dropout(0.3),\n",
    "    Dense(1, activation='linear')\n",
    "])\n",
    "\n",
    "X_Rg = tokenizer(\n",
    "    Rg_train[\"SMILES\"].tolist(),\n",
    "    padding=\"max_length\",\n",
    "    truncation=True,\n",
    "    max_length=75,  \n",
    "    return_tensors=\"np\"  \n",
    ").input_ids\n",
    "\n",
    "print(X_Rg.shape)\n",
    "\n",
    "\n",
    "model_Rg.compile(optimizer=tf.keras.optimizers.Adam(learning_rate=1e-3),\n",
    "             loss = \"mae\",                  \n",
    "    metrics=['mae','mse','mape'])"
   ]
  },
  {
   "cell_type": "code",
   "execution_count": 27,
   "id": "2643ec0e",
   "metadata": {
    "execution": {
     "iopub.execute_input": "2025-08-17T19:12:15.426898Z",
     "iopub.status.busy": "2025-08-17T19:12:15.426371Z",
     "iopub.status.idle": "2025-08-17T19:12:15.435565Z",
     "shell.execute_reply": "2025-08-17T19:12:15.434795Z"
    },
    "papermill": {
     "duration": 0.046748,
     "end_time": "2025-08-17T19:12:15.436676",
     "exception": false,
     "start_time": "2025-08-17T19:12:15.389928",
     "status": "completed"
    },
    "tags": []
   },
   "outputs": [],
   "source": [
    "Y_Tg = Tg_train['Tg'].values\n",
    "X_train_Tg, X_test_Tg, Y_train_Tg, Y_test_Tg = train_test_split(X_Tg, Y_Tg, test_size=0.2, random_state=42)\n",
    "Y_Tc = Tc_train['Tc'].values\n",
    "X_train_Tc, X_test_Tc, Y_train_Tc, Y_test_Tc = train_test_split(X_Tc, Y_Tc, test_size=0.2, random_state=42)\n",
    "Y_Density = Density_train['Density'].values\n",
    "X_train_D, X_test_D, Y_train_D, Y_test_D = train_test_split(X_Density, Y_Density, test_size=0.2, random_state=42)\n",
    "Y_Rg = Rg_train['Rg'].values\n",
    "X_train_Rg, X_test_Rg, Y_train_Rg, Y_test_Rg = train_test_split(X_Rg, Y_Rg, test_size=0.2, random_state=42)"
   ]
  },
  {
   "cell_type": "code",
   "execution_count": 28,
   "id": "c25f1cd2",
   "metadata": {
    "execution": {
     "iopub.execute_input": "2025-08-17T19:12:15.509358Z",
     "iopub.status.busy": "2025-08-17T19:12:15.509014Z",
     "iopub.status.idle": "2025-08-17T19:12:21.561504Z",
     "shell.execute_reply": "2025-08-17T19:12:21.560884Z"
    },
    "papermill": {
     "duration": 6.09025,
     "end_time": "2025-08-17T19:12:21.562679",
     "exception": false,
     "start_time": "2025-08-17T19:12:15.472429",
     "status": "completed"
    },
    "tags": []
   },
   "outputs": [
    {
     "name": "stdout",
     "output_type": "stream",
     "text": [
      "Epoch 1/30\n",
      "\u001b[1m14/14\u001b[0m \u001b[32m━━━━━━━━━━━━━━━━━━━━\u001b[0m\u001b[37m\u001b[0m \u001b[1m4s\u001b[0m 79ms/step - loss: 101.9384 - mae: 101.9313 - mape: 272.8516 - mse: 17492.8105\n",
      "Epoch 2/30\n",
      "\u001b[1m14/14\u001b[0m \u001b[32m━━━━━━━━━━━━━━━━━━━━\u001b[0m\u001b[37m\u001b[0m \u001b[1m0s\u001b[0m 4ms/step - loss: 79.3122 - mae: 79.3051 - mape: 419.8241 - mse: 10145.4346\n",
      "Epoch 3/30\n",
      "\u001b[1m14/14\u001b[0m \u001b[32m━━━━━━━━━━━━━━━━━━━━\u001b[0m\u001b[37m\u001b[0m \u001b[1m0s\u001b[0m 4ms/step - loss: 81.2199 - mae: 81.2129 - mape: 422.5101 - mse: 10275.7793\n",
      "Epoch 4/30\n",
      "\u001b[1m14/14\u001b[0m \u001b[32m━━━━━━━━━━━━━━━━━━━━\u001b[0m\u001b[37m\u001b[0m \u001b[1m0s\u001b[0m 4ms/step - loss: 77.1649 - mae: 77.1579 - mape: 312.5265 - mse: 9872.3135 \n",
      "Epoch 5/30\n",
      "\u001b[1m14/14\u001b[0m \u001b[32m━━━━━━━━━━━━━━━━━━━━\u001b[0m\u001b[37m\u001b[0m \u001b[1m0s\u001b[0m 4ms/step - loss: 74.8692 - mae: 74.8622 - mape: 266.5199 - mse: 9442.5645 \n",
      "Epoch 6/30\n",
      "\u001b[1m14/14\u001b[0m \u001b[32m━━━━━━━━━━━━━━━━━━━━\u001b[0m\u001b[37m\u001b[0m \u001b[1m0s\u001b[0m 4ms/step - loss: 82.2255 - mae: 82.2185 - mape: 463.4227 - mse: 11453.6045  \n",
      "Epoch 7/30\n",
      "\u001b[1m14/14\u001b[0m \u001b[32m━━━━━━━━━━━━━━━━━━━━\u001b[0m\u001b[37m\u001b[0m \u001b[1m0s\u001b[0m 4ms/step - loss: 76.2217 - mae: 76.2147 - mape: 381.4507 - mse: 9252.7803 \n",
      "Epoch 8/30\n",
      "\u001b[1m14/14\u001b[0m \u001b[32m━━━━━━━━━━━━━━━━━━━━\u001b[0m\u001b[37m\u001b[0m \u001b[1m0s\u001b[0m 4ms/step - loss: 76.3006 - mae: 76.2936 - mape: 317.6399 - mse: 9595.6895  \n",
      "Epoch 9/30\n",
      "\u001b[1m14/14\u001b[0m \u001b[32m━━━━━━━━━━━━━━━━━━━━\u001b[0m\u001b[37m\u001b[0m \u001b[1m0s\u001b[0m 4ms/step - loss: 76.6991 - mae: 76.6920 - mape: 500.5436 - mse: 9071.1484 \n",
      "Epoch 10/30\n",
      "\u001b[1m14/14\u001b[0m \u001b[32m━━━━━━━━━━━━━━━━━━━━\u001b[0m\u001b[37m\u001b[0m \u001b[1m0s\u001b[0m 4ms/step - loss: 74.5858 - mae: 74.5788 - mape: 396.4280 - mse: 8797.2529 \n",
      "Epoch 11/30\n",
      "\u001b[1m14/14\u001b[0m \u001b[32m━━━━━━━━━━━━━━━━━━━━\u001b[0m\u001b[37m\u001b[0m \u001b[1m0s\u001b[0m 4ms/step - loss: 72.5116 - mae: 72.5045 - mape: 440.8055 - mse: 9001.2236 \n",
      "Epoch 12/30\n",
      "\u001b[1m14/14\u001b[0m \u001b[32m━━━━━━━━━━━━━━━━━━━━\u001b[0m\u001b[37m\u001b[0m \u001b[1m0s\u001b[0m 4ms/step - loss: 74.7525 - mae: 74.7455 - mape: 262.0049 - mse: 9034.5332  \n",
      "Epoch 13/30\n",
      "\u001b[1m14/14\u001b[0m \u001b[32m━━━━━━━━━━━━━━━━━━━━\u001b[0m\u001b[37m\u001b[0m \u001b[1m0s\u001b[0m 4ms/step - loss: 75.2654 - mae: 75.2583 - mape: 354.4940 - mse: 9456.1836  \n",
      "Epoch 14/30\n",
      "\u001b[1m14/14\u001b[0m \u001b[32m━━━━━━━━━━━━━━━━━━━━\u001b[0m\u001b[37m\u001b[0m \u001b[1m0s\u001b[0m 4ms/step - loss: 72.3132 - mae: 72.3062 - mape: 277.4423 - mse: 9416.2363  \n",
      "Epoch 15/30\n",
      "\u001b[1m14/14\u001b[0m \u001b[32m━━━━━━━━━━━━━━━━━━━━\u001b[0m\u001b[37m\u001b[0m \u001b[1m0s\u001b[0m 4ms/step - loss: 71.4654 - mae: 71.4583 - mape: 365.0653 - mse: 8682.4209 \n",
      "Epoch 16/30\n",
      "\u001b[1m14/14\u001b[0m \u001b[32m━━━━━━━━━━━━━━━━━━━━\u001b[0m\u001b[37m\u001b[0m \u001b[1m0s\u001b[0m 4ms/step - loss: 63.5871 - mae: 63.5799 - mape: 479.3813 - mse: 6877.9199 \n",
      "Epoch 17/30\n",
      "\u001b[1m14/14\u001b[0m \u001b[32m━━━━━━━━━━━━━━━━━━━━\u001b[0m\u001b[37m\u001b[0m \u001b[1m0s\u001b[0m 4ms/step - loss: 72.9812 - mae: 72.9741 - mape: 458.4888 - mse: 9077.0596 \n",
      "Epoch 18/30\n",
      "\u001b[1m14/14\u001b[0m \u001b[32m━━━━━━━━━━━━━━━━━━━━\u001b[0m\u001b[37m\u001b[0m \u001b[1m0s\u001b[0m 4ms/step - loss: 72.8877 - mae: 72.8806 - mape: 330.0645 - mse: 9287.9785  \n",
      "Epoch 19/30\n",
      "\u001b[1m14/14\u001b[0m \u001b[32m━━━━━━━━━━━━━━━━━━━━\u001b[0m\u001b[37m\u001b[0m \u001b[1m0s\u001b[0m 4ms/step - loss: 67.3317 - mae: 67.3246 - mape: 438.8978 - mse: 7766.0215 \n",
      "Epoch 20/30\n",
      "\u001b[1m14/14\u001b[0m \u001b[32m━━━━━━━━━━━━━━━━━━━━\u001b[0m\u001b[37m\u001b[0m \u001b[1m0s\u001b[0m 4ms/step - loss: 68.9588 - mae: 68.9516 - mape: 347.6319 - mse: 8330.5947 \n",
      "Epoch 21/30\n",
      "\u001b[1m14/14\u001b[0m \u001b[32m━━━━━━━━━━━━━━━━━━━━\u001b[0m\u001b[37m\u001b[0m \u001b[1m0s\u001b[0m 4ms/step - loss: 71.9143 - mae: 71.9071 - mape: 442.1202 - mse: 8647.6162 \n",
      "Epoch 22/30\n",
      "\u001b[1m14/14\u001b[0m \u001b[32m━━━━━━━━━━━━━━━━━━━━\u001b[0m\u001b[37m\u001b[0m \u001b[1m0s\u001b[0m 4ms/step - loss: 69.8713 - mae: 69.8640 - mape: 290.3536 - mse: 8392.0078 \n",
      "Epoch 23/30\n",
      "\u001b[1m14/14\u001b[0m \u001b[32m━━━━━━━━━━━━━━━━━━━━\u001b[0m\u001b[37m\u001b[0m \u001b[1m0s\u001b[0m 4ms/step - loss: 68.4344 - mae: 68.4271 - mape: 288.7416 - mse: 8214.4053  \n",
      "Epoch 24/30\n",
      "\u001b[1m14/14\u001b[0m \u001b[32m━━━━━━━━━━━━━━━━━━━━\u001b[0m\u001b[37m\u001b[0m \u001b[1m0s\u001b[0m 4ms/step - loss: 63.6829 - mae: 63.6756 - mape: 225.1906 - mse: 7371.2363 \n",
      "Epoch 25/30\n",
      "\u001b[1m14/14\u001b[0m \u001b[32m━━━━━━━━━━━━━━━━━━━━\u001b[0m\u001b[37m\u001b[0m \u001b[1m0s\u001b[0m 4ms/step - loss: 66.2182 - mae: 66.2109 - mape: 273.7833 - mse: 7861.0132 \n",
      "Epoch 26/30\n",
      "\u001b[1m14/14\u001b[0m \u001b[32m━━━━━━━━━━━━━━━━━━━━\u001b[0m\u001b[37m\u001b[0m \u001b[1m0s\u001b[0m 4ms/step - loss: 69.2184 - mae: 69.2110 - mape: 289.9473 - mse: 7913.2188 \n",
      "Epoch 27/30\n",
      "\u001b[1m14/14\u001b[0m \u001b[32m━━━━━━━━━━━━━━━━━━━━\u001b[0m\u001b[37m\u001b[0m \u001b[1m0s\u001b[0m 4ms/step - loss: 68.9054 - mae: 68.8980 - mape: 286.7766 - mse: 8372.0566  \n",
      "Epoch 28/30\n",
      "\u001b[1m14/14\u001b[0m \u001b[32m━━━━━━━━━━━━━━━━━━━━\u001b[0m\u001b[37m\u001b[0m \u001b[1m0s\u001b[0m 4ms/step - loss: 62.8156 - mae: 62.8082 - mape: 327.1959 - mse: 6648.3086 \n",
      "Epoch 29/30\n",
      "\u001b[1m14/14\u001b[0m \u001b[32m━━━━━━━━━━━━━━━━━━━━\u001b[0m\u001b[37m\u001b[0m \u001b[1m0s\u001b[0m 4ms/step - loss: 63.8104 - mae: 63.8029 - mape: 267.5239 - mse: 7538.4692 \n",
      "Epoch 30/30\n",
      "\u001b[1m14/14\u001b[0m \u001b[32m━━━━━━━━━━━━━━━━━━━━\u001b[0m\u001b[37m\u001b[0m \u001b[1m0s\u001b[0m 4ms/step - loss: 61.8987 - mae: 61.8913 - mape: 512.5151 - mse: 6491.9868  \n"
     ]
    },
    {
     "data": {
      "text/plain": [
       "<keras.src.callbacks.history.History at 0x7d15a049fd10>"
      ]
     },
     "execution_count": 28,
     "metadata": {},
     "output_type": "execute_result"
    }
   ],
   "source": [
    "model_Tg.fit(X_train_Tg, Y_train_Tg, epochs=30, batch_size=32)"
   ]
  },
  {
   "cell_type": "code",
   "execution_count": 29,
   "id": "f44e6f73",
   "metadata": {
    "execution": {
     "iopub.execute_input": "2025-08-17T19:12:21.643287Z",
     "iopub.status.busy": "2025-08-17T19:12:21.642972Z",
     "iopub.status.idle": "2025-08-17T19:12:27.545691Z",
     "shell.execute_reply": "2025-08-17T19:12:27.544935Z"
    },
    "papermill": {
     "duration": 5.944462,
     "end_time": "2025-08-17T19:12:27.547036",
     "exception": false,
     "start_time": "2025-08-17T19:12:21.602574",
     "status": "completed"
    },
    "tags": []
   },
   "outputs": [
    {
     "name": "stdout",
     "output_type": "stream",
     "text": [
      "Epoch 1/200\n",
      "\u001b[1m28/28\u001b[0m \u001b[32m━━━━━━━━━━━━━━━━━━━━\u001b[0m\u001b[37m\u001b[0m \u001b[1m3s\u001b[0m 58ms/step - loss: 64.2796 - mae: 64.2721 - mape: 557.7597 - mse: 6949.1924 - val_loss: 79.6309 - val_mae: 79.6233 - val_mape: 1112.9401 - val_mse: 10898.7520 - learning_rate: 0.0010\n",
      "Epoch 2/200\n",
      "\u001b[1m28/28\u001b[0m \u001b[32m━━━━━━━━━━━━━━━━━━━━\u001b[0m\u001b[37m\u001b[0m \u001b[1m0s\u001b[0m 5ms/step - loss: 66.2707 - mae: 66.2632 - mape: 186.6380 - mse: 7698.2930 - val_loss: 82.3661 - val_mae: 82.3585 - val_mape: 1257.4412 - val_mse: 11181.4043 - learning_rate: 0.0010\n",
      "Epoch 3/200\n",
      "\u001b[1m28/28\u001b[0m \u001b[32m━━━━━━━━━━━━━━━━━━━━\u001b[0m\u001b[37m\u001b[0m \u001b[1m0s\u001b[0m 6ms/step - loss: 65.4223 - mae: 65.4148 - mape: 326.4564 - mse: 7233.3789 - val_loss: 81.9305 - val_mae: 81.9229 - val_mape: 1238.3351 - val_mse: 11036.7969 - learning_rate: 0.0010\n",
      "Epoch 4/200\n",
      "\u001b[1m28/28\u001b[0m \u001b[32m━━━━━━━━━━━━━━━━━━━━\u001b[0m\u001b[37m\u001b[0m \u001b[1m0s\u001b[0m 5ms/step - loss: 62.3911 - mae: 62.3835 - mape: 491.4695 - mse: 6719.1001 - val_loss: 80.0078 - val_mae: 80.0002 - val_mape: 1156.3593 - val_mse: 11060.8809 - learning_rate: 0.0010\n",
      "Epoch 5/200\n",
      "\u001b[1m28/28\u001b[0m \u001b[32m━━━━━━━━━━━━━━━━━━━━\u001b[0m\u001b[37m\u001b[0m \u001b[1m0s\u001b[0m 5ms/step - loss: 67.3297 - mae: 67.3220 - mape: 359.4252 - mse: 7772.7642 - val_loss: 80.2722 - val_mae: 80.2645 - val_mape: 1228.7611 - val_mse: 10712.6182 - learning_rate: 0.0010\n",
      "Epoch 6/200\n",
      "\u001b[1m28/28\u001b[0m \u001b[32m━━━━━━━━━━━━━━━━━━━━\u001b[0m\u001b[37m\u001b[0m \u001b[1m0s\u001b[0m 5ms/step - loss: 65.4940 - mae: 65.4863 - mape: 306.5283 - mse: 7958.6074 - val_loss: 80.1426 - val_mae: 80.1349 - val_mape: 1232.5363 - val_mse: 11016.0605 - learning_rate: 0.0010\n",
      "Epoch 7/200\n",
      "\u001b[1m28/28\u001b[0m \u001b[32m━━━━━━━━━━━━━━━━━━━━\u001b[0m\u001b[37m\u001b[0m \u001b[1m0s\u001b[0m 5ms/step - loss: 66.5600 - mae: 66.5522 - mape: 280.6430 - mse: 7674.3999 - val_loss: 80.5085 - val_mae: 80.5008 - val_mape: 1227.2532 - val_mse: 11064.7764 - learning_rate: 5.0000e-04\n",
      "Epoch 8/200\n",
      "\u001b[1m28/28\u001b[0m \u001b[32m━━━━━━━━━━━━━━━━━━━━\u001b[0m\u001b[37m\u001b[0m \u001b[1m0s\u001b[0m 5ms/step - loss: 66.1991 - mae: 66.1914 - mape: 434.6780 - mse: 7613.9780 - val_loss: 80.5124 - val_mae: 80.5046 - val_mape: 1205.2418 - val_mse: 11026.8379 - learning_rate: 5.0000e-04\n",
      "Epoch 9/200\n",
      "\u001b[1m28/28\u001b[0m \u001b[32m━━━━━━━━━━━━━━━━━━━━\u001b[0m\u001b[37m\u001b[0m \u001b[1m0s\u001b[0m 5ms/step - loss: 63.4087 - mae: 63.4010 - mape: 443.3700 - mse: 6744.3027 - val_loss: 80.4923 - val_mae: 80.4845 - val_mape: 1195.4471 - val_mse: 11040.3770 - learning_rate: 5.0000e-04\n",
      "Epoch 10/200\n",
      "\u001b[1m28/28\u001b[0m \u001b[32m━━━━━━━━━━━━━━━━━━━━\u001b[0m\u001b[37m\u001b[0m \u001b[1m0s\u001b[0m 5ms/step - loss: 61.5277 - mae: 61.5199 - mape: 256.5895 - mse: 6416.3047 - val_loss: 79.8602 - val_mae: 79.8524 - val_mape: 1140.1736 - val_mse: 10961.0088 - learning_rate: 5.0000e-04\n",
      "Epoch 11/200\n",
      "\u001b[1m28/28\u001b[0m \u001b[32m━━━━━━━━━━━━━━━━━━━━\u001b[0m\u001b[37m\u001b[0m \u001b[1m0s\u001b[0m 5ms/step - loss: 64.5603 - mae: 64.5525 - mape: 257.3259 - mse: 7558.6904 - val_loss: 79.9679 - val_mae: 79.9601 - val_mape: 1100.2787 - val_mse: 11124.3105 - learning_rate: 5.0000e-04\n",
      "Epoch 12/200\n",
      "\u001b[1m28/28\u001b[0m \u001b[32m━━━━━━━━━━━━━━━━━━━━\u001b[0m\u001b[37m\u001b[0m \u001b[1m0s\u001b[0m 5ms/step - loss: 56.5476 - mae: 56.5398 - mape: 228.8709 - mse: 6109.5762 - val_loss: 81.3156 - val_mae: 81.3077 - val_mape: 1206.1993 - val_mse: 11188.6875 - learning_rate: 2.5000e-04\n",
      "Epoch 13/200\n",
      "\u001b[1m28/28\u001b[0m \u001b[32m━━━━━━━━━━━━━━━━━━━━\u001b[0m\u001b[37m\u001b[0m \u001b[1m0s\u001b[0m 5ms/step - loss: 61.1833 - mae: 61.1755 - mape: 317.0767 - mse: 6681.7114 - val_loss: 81.4263 - val_mae: 81.4185 - val_mape: 1201.9934 - val_mse: 11193.2500 - learning_rate: 2.5000e-04\n",
      "Epoch 14/200\n",
      "\u001b[1m28/28\u001b[0m \u001b[32m━━━━━━━━━━━━━━━━━━━━\u001b[0m\u001b[37m\u001b[0m \u001b[1m0s\u001b[0m 5ms/step - loss: 58.1475 - mae: 58.1396 - mape: 316.4388 - mse: 6146.1611 - val_loss: 80.8814 - val_mae: 80.8735 - val_mape: 1160.8793 - val_mse: 11172.3271 - learning_rate: 2.5000e-04\n",
      "Epoch 15/200\n",
      "\u001b[1m28/28\u001b[0m \u001b[32m━━━━━━━━━━━━━━━━━━━━\u001b[0m\u001b[37m\u001b[0m \u001b[1m0s\u001b[0m 5ms/step - loss: 60.7394 - mae: 60.7316 - mape: 239.2348 - mse: 6818.1753 - val_loss: 80.4040 - val_mae: 80.3961 - val_mape: 1133.0905 - val_mse: 11124.5498 - learning_rate: 2.5000e-04\n",
      "Epoch 16/200\n",
      "\u001b[1m28/28\u001b[0m \u001b[32m━━━━━━━━━━━━━━━━━━━━\u001b[0m\u001b[37m\u001b[0m \u001b[1m0s\u001b[0m 5ms/step - loss: 63.9373 - mae: 63.9295 - mape: 355.7756 - mse: 7593.8296 - val_loss: 80.9044 - val_mae: 80.8965 - val_mape: 1169.8655 - val_mse: 11151.3340 - learning_rate: 2.5000e-04\n",
      "Epoch 17/200\n",
      "\u001b[1m28/28\u001b[0m \u001b[32m━━━━━━━━━━━━━━━━━━━━\u001b[0m\u001b[37m\u001b[0m \u001b[1m0s\u001b[0m 5ms/step - loss: 65.7153 - mae: 65.7075 - mape: 180.1540 - mse: 7616.6816 - val_loss: 80.7360 - val_mae: 80.7282 - val_mape: 1155.6676 - val_mse: 11156.8799 - learning_rate: 1.2500e-04\n",
      "Epoch 18/200\n",
      "\u001b[1m28/28\u001b[0m \u001b[32m━━━━━━━━━━━━━━━━━━━━\u001b[0m\u001b[37m\u001b[0m \u001b[1m0s\u001b[0m 5ms/step - loss: 53.5177 - mae: 53.5099 - mape: 223.1342 - mse: 5362.6953 - val_loss: 80.6954 - val_mae: 80.6875 - val_mape: 1141.4498 - val_mse: 11174.3750 - learning_rate: 1.2500e-04\n",
      "Epoch 19/200\n",
      "\u001b[1m28/28\u001b[0m \u001b[32m━━━━━━━━━━━━━━━━━━━━\u001b[0m\u001b[37m\u001b[0m \u001b[1m0s\u001b[0m 5ms/step - loss: 56.7010 - mae: 56.6931 - mape: 378.8252 - mse: 5587.9893 - val_loss: 81.1486 - val_mae: 81.1407 - val_mape: 1175.9076 - val_mse: 11197.2705 - learning_rate: 1.2500e-04\n",
      "Epoch 20/200\n",
      "\u001b[1m28/28\u001b[0m \u001b[32m━━━━━━━━━━━━━━━━━━━━\u001b[0m\u001b[37m\u001b[0m \u001b[1m0s\u001b[0m 6ms/step - loss: 61.7959 - mae: 61.7881 - mape: 246.6089 - mse: 7078.9282 - val_loss: 81.3530 - val_mae: 81.3451 - val_mape: 1207.7809 - val_mse: 11205.2666 - learning_rate: 1.2500e-04\n",
      "Epoch 21/200\n",
      "\u001b[1m28/28\u001b[0m \u001b[32m━━━━━━━━━━━━━━━━━━━━\u001b[0m\u001b[37m\u001b[0m \u001b[1m0s\u001b[0m 5ms/step - loss: 60.4178 - mae: 60.4099 - mape: 286.6292 - mse: 6507.2705 - val_loss: 81.0763 - val_mae: 81.0684 - val_mape: 1187.4515 - val_mse: 11175.6191 - learning_rate: 1.2500e-04\n"
     ]
    }
   ],
   "source": [
    "history = model_Tg.fit(\n",
    "    X_train_Tg, Y_train_Tg,\n",
    "    validation_data=(X_test_Tg, Y_test_Tg),\n",
    "    epochs=200,\n",
    "    batch_size=16,   # smaller batch since small dataset\n",
    "    callbacks=[\n",
    "        tf.keras.callbacks.EarlyStopping(monitor=\"val_mae\", patience=20, restore_best_weights=True),\n",
    "        tf.keras.callbacks.ReduceLROnPlateau(monitor=\"val_mae\", factor=0.5, patience=5)\n",
    "    ]\n",
    ")"
   ]
  },
  {
   "cell_type": "code",
   "execution_count": 30,
   "id": "4dafddf8",
   "metadata": {
    "execution": {
     "iopub.execute_input": "2025-08-17T19:12:27.638387Z",
     "iopub.status.busy": "2025-08-17T19:12:27.638109Z",
     "iopub.status.idle": "2025-08-17T19:12:28.318558Z",
     "shell.execute_reply": "2025-08-17T19:12:28.317838Z"
    },
    "papermill": {
     "duration": 0.726696,
     "end_time": "2025-08-17T19:12:28.319741",
     "exception": false,
     "start_time": "2025-08-17T19:12:27.593045",
     "status": "completed"
    },
    "tags": []
   },
   "outputs": [
    {
     "name": "stdout",
     "output_type": "stream",
     "text": [
      "\u001b[1m4/4\u001b[0m \u001b[32m━━━━━━━━━━━━━━━━━━━━\u001b[0m\u001b[37m\u001b[0m \u001b[1m1s\u001b[0m 58ms/step - loss: 78.0221 - mae: 78.0146 - mape: 868.6573 - mse: 10048.6885\n",
      "Test loss: 79.630859375\n",
      "Test MAE: 79.62334442138672\n",
      "Test MSE: 10898.7509765625\n",
      "Test MAPE: 1112.93994140625\n"
     ]
    }
   ],
   "source": [
    "results = model_Tg.evaluate(X_test_Tg, Y_test_Tg)\n",
    "print(f\"Test loss: {results[0]}\")\n",
    "print(f\"Test MAE: {results[1]}\")\n",
    "print(f\"Test MSE: {results[2]}\")\n",
    "print(f\"Test MAPE: {results[3]}\")"
   ]
  },
  {
   "cell_type": "code",
   "execution_count": 31,
   "id": "53a96ee4",
   "metadata": {
    "execution": {
     "iopub.execute_input": "2025-08-17T19:12:28.406163Z",
     "iopub.status.busy": "2025-08-17T19:12:28.405930Z",
     "iopub.status.idle": "2025-08-17T19:12:28.408878Z",
     "shell.execute_reply": "2025-08-17T19:12:28.408376Z"
    },
    "papermill": {
     "duration": 0.046005,
     "end_time": "2025-08-17T19:12:28.409942",
     "exception": false,
     "start_time": "2025-08-17T19:12:28.363937",
     "status": "completed"
    },
    "tags": []
   },
   "outputs": [],
   "source": [
    "# model_Tc.fit(X_train_Tc, Y_train_Tc, epochs=50, batch_size=32)"
   ]
  },
  {
   "cell_type": "code",
   "execution_count": 32,
   "id": "a9d1f3a1",
   "metadata": {
    "execution": {
     "iopub.execute_input": "2025-08-17T19:12:28.493337Z",
     "iopub.status.busy": "2025-08-17T19:12:28.493142Z",
     "iopub.status.idle": "2025-08-17T19:12:51.033886Z",
     "shell.execute_reply": "2025-08-17T19:12:51.033270Z"
    },
    "papermill": {
     "duration": 22.583729,
     "end_time": "2025-08-17T19:12:51.035194",
     "exception": false,
     "start_time": "2025-08-17T19:12:28.451465",
     "status": "completed"
    },
    "tags": []
   },
   "outputs": [
    {
     "name": "stdout",
     "output_type": "stream",
     "text": [
      "Epoch 1/200\n",
      "\u001b[1m41/41\u001b[0m \u001b[32m━━━━━━━━━━━━━━━━━━━━\u001b[0m\u001b[37m\u001b[0m \u001b[1m5s\u001b[0m 50ms/step - loss: 22.9485 - mae: 22.9485 - mape: 10373.6895 - mse: 900.3760 - val_loss: 4.1299 - val_mae: 4.1299 - val_mape: 1857.2899 - val_mse: 21.0865 - learning_rate: 0.0010\n",
      "Epoch 2/200\n",
      "\u001b[1m41/41\u001b[0m \u001b[32m━━━━━━━━━━━━━━━━━━━━\u001b[0m\u001b[37m\u001b[0m \u001b[1m0s\u001b[0m 4ms/step - loss: 7.8331 - mae: 7.8331 - mape: 3507.5408 - mse: 104.6830 - val_loss: 1.2573 - val_mae: 1.2573 - val_mape: 499.6388 - val_mse: 3.1083 - learning_rate: 0.0010\n",
      "Epoch 3/200\n",
      "\u001b[1m41/41\u001b[0m \u001b[32m━━━━━━━━━━━━━━━━━━━━\u001b[0m\u001b[37m\u001b[0m \u001b[1m0s\u001b[0m 4ms/step - loss: 3.3090 - mae: 3.3090 - mape: 1427.6818 - mse: 21.5119 - val_loss: 0.3502 - val_mae: 0.3502 - val_mape: 140.9015 - val_mse: 0.2272 - learning_rate: 0.0010\n",
      "Epoch 4/200\n",
      "\u001b[1m41/41\u001b[0m \u001b[32m━━━━━━━━━━━━━━━━━━━━\u001b[0m\u001b[37m\u001b[0m \u001b[1m0s\u001b[0m 4ms/step - loss: 1.2812 - mae: 1.2812 - mape: 523.9532 - mse: 3.9121 - val_loss: 0.1904 - val_mae: 0.1904 - val_mape: 73.1531 - val_mse: 0.0697 - learning_rate: 0.0010\n",
      "Epoch 5/200\n",
      "\u001b[1m41/41\u001b[0m \u001b[32m━━━━━━━━━━━━━━━━━━━━\u001b[0m\u001b[37m\u001b[0m \u001b[1m0s\u001b[0m 4ms/step - loss: 0.5642 - mae: 0.5642 - mape: 224.2478 - mse: 1.1389 - val_loss: 0.1300 - val_mae: 0.1300 - val_mape: 46.9415 - val_mse: 0.0253 - learning_rate: 0.0010\n",
      "Epoch 6/200\n",
      "\u001b[1m41/41\u001b[0m \u001b[32m━━━━━━━━━━━━━━━━━━━━\u001b[0m\u001b[37m\u001b[0m \u001b[1m0s\u001b[0m 4ms/step - loss: 0.3405 - mae: 0.3405 - mape: 127.6307 - mse: 0.8161 - val_loss: 0.1017 - val_mae: 0.1017 - val_mape: 36.1724 - val_mse: 0.0159 - learning_rate: 0.0010\n",
      "Epoch 7/200\n",
      "\u001b[1m41/41\u001b[0m \u001b[32m━━━━━━━━━━━━━━━━━━━━\u001b[0m\u001b[37m\u001b[0m \u001b[1m0s\u001b[0m 4ms/step - loss: 0.2282 - mae: 0.2282 - mape: 89.3905 - mse: 0.3815 - val_loss: 0.0994 - val_mae: 0.0994 - val_mape: 35.0945 - val_mse: 0.0153 - learning_rate: 0.0010\n",
      "Epoch 8/200\n",
      "\u001b[1m41/41\u001b[0m \u001b[32m━━━━━━━━━━━━━━━━━━━━\u001b[0m\u001b[37m\u001b[0m \u001b[1m0s\u001b[0m 4ms/step - loss: 0.1805 - mae: 0.1805 - mape: 70.1456 - mse: 0.2497 - val_loss: 0.0991 - val_mae: 0.0991 - val_mape: 35.0813 - val_mse: 0.0151 - learning_rate: 0.0010\n",
      "Epoch 9/200\n",
      "\u001b[1m41/41\u001b[0m \u001b[32m━━━━━━━━━━━━━━━━━━━━\u001b[0m\u001b[37m\u001b[0m \u001b[1m0s\u001b[0m 4ms/step - loss: 0.1311 - mae: 0.1311 - mape: 53.5179 - mse: 0.1234 - val_loss: 0.0753 - val_mae: 0.0753 - val_mape: 27.6841 - val_mse: 0.0102 - learning_rate: 0.0010\n",
      "Epoch 10/200\n",
      "\u001b[1m41/41\u001b[0m \u001b[32m━━━━━━━━━━━━━━━━━━━━\u001b[0m\u001b[37m\u001b[0m \u001b[1m0s\u001b[0m 4ms/step - loss: 0.1375 - mae: 0.1375 - mape: 59.2176 - mse: 0.1902 - val_loss: 0.0650 - val_mae: 0.0650 - val_mape: 25.7584 - val_mse: 0.0076 - learning_rate: 0.0010\n",
      "Epoch 11/200\n",
      "\u001b[1m41/41\u001b[0m \u001b[32m━━━━━━━━━━━━━━━━━━━━\u001b[0m\u001b[37m\u001b[0m \u001b[1m0s\u001b[0m 4ms/step - loss: 0.1062 - mae: 0.1062 - mape: 44.1650 - mse: 0.0782 - val_loss: 0.0664 - val_mae: 0.0664 - val_mape: 26.6038 - val_mse: 0.0078 - learning_rate: 0.0010\n",
      "Epoch 12/200\n",
      "\u001b[1m41/41\u001b[0m \u001b[32m━━━━━━━━━━━━━━━━━━━━\u001b[0m\u001b[37m\u001b[0m \u001b[1m0s\u001b[0m 4ms/step - loss: 0.0924 - mae: 0.0924 - mape: 38.3967 - mse: 0.0396 - val_loss: 0.0643 - val_mae: 0.0643 - val_mape: 26.2945 - val_mse: 0.0072 - learning_rate: 0.0010\n",
      "Epoch 13/200\n",
      "\u001b[1m41/41\u001b[0m \u001b[32m━━━━━━━━━━━━━━━━━━━━\u001b[0m\u001b[37m\u001b[0m \u001b[1m0s\u001b[0m 4ms/step - loss: 0.0929 - mae: 0.0929 - mape: 40.3751 - mse: 0.0436 - val_loss: 0.0640 - val_mae: 0.0640 - val_mape: 26.2340 - val_mse: 0.0072 - learning_rate: 0.0010\n",
      "Epoch 14/200\n",
      "\u001b[1m41/41\u001b[0m \u001b[32m━━━━━━━━━━━━━━━━━━━━\u001b[0m\u001b[37m\u001b[0m \u001b[1m0s\u001b[0m 4ms/step - loss: 0.0890 - mae: 0.0890 - mape: 37.5032 - mse: 0.0343 - val_loss: 0.0658 - val_mae: 0.0658 - val_mape: 27.1261 - val_mse: 0.0073 - learning_rate: 0.0010\n",
      "Epoch 15/200\n",
      "\u001b[1m41/41\u001b[0m \u001b[32m━━━━━━━━━━━━━━━━━━━━\u001b[0m\u001b[37m\u001b[0m \u001b[1m0s\u001b[0m 4ms/step - loss: 0.0913 - mae: 0.0913 - mape: 38.0116 - mse: 0.0419 - val_loss: 0.0650 - val_mae: 0.0650 - val_mape: 26.8240 - val_mse: 0.0073 - learning_rate: 0.0010\n",
      "Epoch 16/200\n",
      "\u001b[1m41/41\u001b[0m \u001b[32m━━━━━━━━━━━━━━━━━━━━\u001b[0m\u001b[37m\u001b[0m \u001b[1m0s\u001b[0m 5ms/step - loss: 0.0780 - mae: 0.0780 - mape: 32.8857 - mse: 0.0234 - val_loss: 0.0744 - val_mae: 0.0744 - val_mape: 28.9721 - val_mse: 0.0095 - learning_rate: 0.0010\n",
      "Epoch 17/200\n",
      "\u001b[1m41/41\u001b[0m \u001b[32m━━━━━━━━━━━━━━━━━━━━\u001b[0m\u001b[37m\u001b[0m \u001b[1m0s\u001b[0m 4ms/step - loss: 0.0943 - mae: 0.0943 - mape: 37.4780 - mse: 0.0334 - val_loss: 0.0651 - val_mae: 0.0651 - val_mape: 27.0932 - val_mse: 0.0074 - learning_rate: 0.0010\n",
      "Epoch 18/200\n",
      "\u001b[1m41/41\u001b[0m \u001b[32m━━━━━━━━━━━━━━━━━━━━\u001b[0m\u001b[37m\u001b[0m \u001b[1m0s\u001b[0m 5ms/step - loss: 0.0850 - mae: 0.0850 - mape: 35.3070 - mse: 0.0356 - val_loss: 0.0653 - val_mae: 0.0653 - val_mape: 27.3088 - val_mse: 0.0073 - learning_rate: 0.0010\n",
      "Epoch 19/200\n",
      "\u001b[1m41/41\u001b[0m \u001b[32m━━━━━━━━━━━━━━━━━━━━\u001b[0m\u001b[37m\u001b[0m \u001b[1m0s\u001b[0m 5ms/step - loss: 0.0820 - mae: 0.0820 - mape: 37.0236 - mse: 0.0285 - val_loss: 0.0645 - val_mae: 0.0645 - val_mape: 26.9114 - val_mse: 0.0071 - learning_rate: 5.0000e-04\n",
      "Epoch 20/200\n",
      "\u001b[1m41/41\u001b[0m \u001b[32m━━━━━━━━━━━━━━━━━━━━\u001b[0m\u001b[37m\u001b[0m \u001b[1m0s\u001b[0m 4ms/step - loss: 0.0673 - mae: 0.0673 - mape: 30.0812 - mse: 0.0125 - val_loss: 0.0632 - val_mae: 0.0632 - val_mape: 26.5558 - val_mse: 0.0069 - learning_rate: 5.0000e-04\n",
      "Epoch 21/200\n",
      "\u001b[1m41/41\u001b[0m \u001b[32m━━━━━━━━━━━━━━━━━━━━\u001b[0m\u001b[37m\u001b[0m \u001b[1m0s\u001b[0m 4ms/step - loss: 0.0875 - mae: 0.0875 - mape: 37.1514 - mse: 0.0719 - val_loss: 0.0604 - val_mae: 0.0604 - val_mape: 26.0590 - val_mse: 0.0064 - learning_rate: 5.0000e-04\n",
      "Epoch 22/200\n",
      "\u001b[1m41/41\u001b[0m \u001b[32m━━━━━━━━━━━━━━━━━━━━\u001b[0m\u001b[37m\u001b[0m \u001b[1m0s\u001b[0m 4ms/step - loss: 0.0754 - mae: 0.0754 - mape: 32.4495 - mse: 0.0171 - val_loss: 0.0629 - val_mae: 0.0629 - val_mape: 26.3867 - val_mse: 0.0068 - learning_rate: 5.0000e-04\n",
      "Epoch 23/200\n",
      "\u001b[1m41/41\u001b[0m \u001b[32m━━━━━━━━━━━━━━━━━━━━\u001b[0m\u001b[37m\u001b[0m \u001b[1m0s\u001b[0m 4ms/step - loss: 0.0803 - mae: 0.0803 - mape: 33.0775 - mse: 0.0213 - val_loss: 0.0653 - val_mae: 0.0653 - val_mape: 26.9502 - val_mse: 0.0073 - learning_rate: 5.0000e-04\n",
      "Epoch 24/200\n",
      "\u001b[1m41/41\u001b[0m \u001b[32m━━━━━━━━━━━━━━━━━━━━\u001b[0m\u001b[37m\u001b[0m \u001b[1m0s\u001b[0m 4ms/step - loss: 0.0704 - mae: 0.0704 - mape: 31.4439 - mse: 0.0121 - val_loss: 0.0676 - val_mae: 0.0676 - val_mape: 27.4303 - val_mse: 0.0078 - learning_rate: 5.0000e-04\n",
      "Epoch 25/200\n",
      "\u001b[1m41/41\u001b[0m \u001b[32m━━━━━━━━━━━━━━━━━━━━\u001b[0m\u001b[37m\u001b[0m \u001b[1m0s\u001b[0m 4ms/step - loss: 0.0755 - mae: 0.0755 - mape: 30.9512 - mse: 0.0358 - val_loss: 0.0630 - val_mae: 0.0630 - val_mape: 26.2628 - val_mse: 0.0069 - learning_rate: 5.0000e-04\n",
      "Epoch 26/200\n",
      "\u001b[1m41/41\u001b[0m \u001b[32m━━━━━━━━━━━━━━━━━━━━\u001b[0m\u001b[37m\u001b[0m \u001b[1m0s\u001b[0m 4ms/step - loss: 0.0696 - mae: 0.0696 - mape: 30.5562 - mse: 0.0124 - val_loss: 0.0631 - val_mae: 0.0631 - val_mape: 26.1509 - val_mse: 0.0071 - learning_rate: 5.0000e-04\n",
      "Epoch 27/200\n",
      "\u001b[1m41/41\u001b[0m \u001b[32m━━━━━━━━━━━━━━━━━━━━\u001b[0m\u001b[37m\u001b[0m \u001b[1m0s\u001b[0m 4ms/step - loss: 0.0730 - mae: 0.0730 - mape: 30.9909 - mse: 0.0209 - val_loss: 0.0594 - val_mae: 0.0594 - val_mape: 25.4912 - val_mse: 0.0063 - learning_rate: 2.5000e-04\n",
      "Epoch 28/200\n",
      "\u001b[1m41/41\u001b[0m \u001b[32m━━━━━━━━━━━━━━━━━━━━\u001b[0m\u001b[37m\u001b[0m \u001b[1m0s\u001b[0m 4ms/step - loss: 0.0719 - mae: 0.0719 - mape: 31.0242 - mse: 0.0185 - val_loss: 0.0627 - val_mae: 0.0627 - val_mape: 26.0426 - val_mse: 0.0068 - learning_rate: 2.5000e-04\n",
      "Epoch 29/200\n",
      "\u001b[1m41/41\u001b[0m \u001b[32m━━━━━━━━━━━━━━━━━━━━\u001b[0m\u001b[37m\u001b[0m \u001b[1m0s\u001b[0m 4ms/step - loss: 0.0678 - mae: 0.0678 - mape: 30.3490 - mse: 0.0106 - val_loss: 0.0597 - val_mae: 0.0597 - val_mape: 25.5513 - val_mse: 0.0063 - learning_rate: 2.5000e-04\n",
      "Epoch 30/200\n",
      "\u001b[1m41/41\u001b[0m \u001b[32m━━━━━━━━━━━━━━━━━━━━\u001b[0m\u001b[37m\u001b[0m \u001b[1m0s\u001b[0m 4ms/step - loss: 0.0734 - mae: 0.0734 - mape: 32.2057 - mse: 0.0172 - val_loss: 0.0593 - val_mae: 0.0593 - val_mape: 25.3889 - val_mse: 0.0063 - learning_rate: 2.5000e-04\n",
      "Epoch 31/200\n",
      "\u001b[1m41/41\u001b[0m \u001b[32m━━━━━━━━━━━━━━━━━━━━\u001b[0m\u001b[37m\u001b[0m \u001b[1m0s\u001b[0m 4ms/step - loss: 0.0749 - mae: 0.0749 - mape: 32.5729 - mse: 0.0195 - val_loss: 0.0591 - val_mae: 0.0591 - val_mape: 25.3114 - val_mse: 0.0062 - learning_rate: 2.5000e-04\n",
      "Epoch 32/200\n",
      "\u001b[1m41/41\u001b[0m \u001b[32m━━━━━━━━━━━━━━━━━━━━\u001b[0m\u001b[37m\u001b[0m \u001b[1m0s\u001b[0m 4ms/step - loss: 0.0703 - mae: 0.0703 - mape: 28.5976 - mse: 0.0190 - val_loss: 0.0578 - val_mae: 0.0578 - val_mape: 25.0873 - val_mse: 0.0061 - learning_rate: 2.5000e-04\n",
      "Epoch 33/200\n",
      "\u001b[1m41/41\u001b[0m \u001b[32m━━━━━━━━━━━━━━━━━━━━\u001b[0m\u001b[37m\u001b[0m \u001b[1m0s\u001b[0m 4ms/step - loss: 0.0837 - mae: 0.0837 - mape: 38.8124 - mse: 0.0857 - val_loss: 0.0639 - val_mae: 0.0639 - val_mape: 26.1454 - val_mse: 0.0071 - learning_rate: 2.5000e-04\n",
      "Epoch 34/200\n",
      "\u001b[1m41/41\u001b[0m \u001b[32m━━━━━━━━━━━━━━━━━━━━\u001b[0m\u001b[37m\u001b[0m \u001b[1m0s\u001b[0m 4ms/step - loss: 0.0694 - mae: 0.0694 - mape: 31.0931 - mse: 0.0274 - val_loss: 0.0595 - val_mae: 0.0595 - val_mape: 25.2837 - val_mse: 0.0063 - learning_rate: 2.5000e-04\n",
      "Epoch 35/200\n",
      "\u001b[1m41/41\u001b[0m \u001b[32m━━━━━━━━━━━━━━━━━━━━\u001b[0m\u001b[37m\u001b[0m \u001b[1m0s\u001b[0m 5ms/step - loss: 0.0674 - mae: 0.0674 - mape: 30.0453 - mse: 0.0120 - val_loss: 0.0623 - val_mae: 0.0623 - val_mape: 25.6476 - val_mse: 0.0068 - learning_rate: 2.5000e-04\n",
      "Epoch 36/200\n",
      "\u001b[1m41/41\u001b[0m \u001b[32m━━━━━━━━━━━━━━━━━━━━\u001b[0m\u001b[37m\u001b[0m \u001b[1m0s\u001b[0m 4ms/step - loss: 0.0685 - mae: 0.0685 - mape: 29.2926 - mse: 0.0163 - val_loss: 0.0593 - val_mae: 0.0593 - val_mape: 25.0590 - val_mse: 0.0063 - learning_rate: 2.5000e-04\n",
      "Epoch 37/200\n",
      "\u001b[1m41/41\u001b[0m \u001b[32m━━━━━━━━━━━━━━━━━━━━\u001b[0m\u001b[37m\u001b[0m \u001b[1m0s\u001b[0m 5ms/step - loss: 0.0709 - mae: 0.0709 - mape: 30.3843 - mse: 0.0312 - val_loss: 0.0633 - val_mae: 0.0633 - val_mape: 25.8968 - val_mse: 0.0071 - learning_rate: 2.5000e-04\n",
      "Epoch 38/200\n",
      "\u001b[1m41/41\u001b[0m \u001b[32m━━━━━━━━━━━━━━━━━━━━\u001b[0m\u001b[37m\u001b[0m \u001b[1m0s\u001b[0m 5ms/step - loss: 0.0718 - mae: 0.0718 - mape: 31.7217 - mse: 0.0212 - val_loss: 0.0583 - val_mae: 0.0583 - val_mape: 24.9538 - val_mse: 0.0060 - learning_rate: 1.2500e-04\n",
      "Epoch 39/200\n",
      "\u001b[1m41/41\u001b[0m \u001b[32m━━━━━━━━━━━━━━━━━━━━\u001b[0m\u001b[37m\u001b[0m \u001b[1m0s\u001b[0m 5ms/step - loss: 0.0789 - mae: 0.0789 - mape: 33.1244 - mse: 0.0576 - val_loss: 0.0587 - val_mae: 0.0587 - val_mape: 24.9745 - val_mse: 0.0061 - learning_rate: 1.2500e-04\n",
      "Epoch 40/200\n",
      "\u001b[1m41/41\u001b[0m \u001b[32m━━━━━━━━━━━━━━━━━━━━\u001b[0m\u001b[37m\u001b[0m \u001b[1m0s\u001b[0m 4ms/step - loss: 0.0647 - mae: 0.0647 - mape: 28.0411 - mse: 0.0099 - val_loss: 0.0590 - val_mae: 0.0590 - val_mape: 25.0164 - val_mse: 0.0062 - learning_rate: 1.2500e-04\n",
      "Epoch 41/200\n",
      "\u001b[1m41/41\u001b[0m \u001b[32m━━━━━━━━━━━━━━━━━━━━\u001b[0m\u001b[37m\u001b[0m \u001b[1m0s\u001b[0m 5ms/step - loss: 0.0668 - mae: 0.0668 - mape: 29.3027 - mse: 0.0152 - val_loss: 0.0605 - val_mae: 0.0605 - val_mape: 25.3411 - val_mse: 0.0065 - learning_rate: 1.2500e-04\n",
      "Epoch 42/200\n",
      "\u001b[1m41/41\u001b[0m \u001b[32m━━━━━━━━━━━━━━━━━━━━\u001b[0m\u001b[37m\u001b[0m \u001b[1m0s\u001b[0m 5ms/step - loss: 0.0669 - mae: 0.0669 - mape: 29.5080 - mse: 0.0087 - val_loss: 0.0577 - val_mae: 0.0577 - val_mape: 24.8012 - val_mse: 0.0060 - learning_rate: 1.2500e-04\n",
      "Epoch 43/200\n",
      "\u001b[1m41/41\u001b[0m \u001b[32m━━━━━━━━━━━━━━━━━━━━\u001b[0m\u001b[37m\u001b[0m \u001b[1m0s\u001b[0m 5ms/step - loss: 0.0641 - mae: 0.0641 - mape: 28.4778 - mse: 0.0074 - val_loss: 0.0575 - val_mae: 0.0575 - val_mape: 24.7438 - val_mse: 0.0059 - learning_rate: 1.2500e-04\n",
      "Epoch 44/200\n",
      "\u001b[1m41/41\u001b[0m \u001b[32m━━━━━━━━━━━━━━━━━━━━\u001b[0m\u001b[37m\u001b[0m \u001b[1m0s\u001b[0m 4ms/step - loss: 0.0642 - mae: 0.0642 - mape: 28.1576 - mse: 0.0088 - val_loss: 0.0601 - val_mae: 0.0601 - val_mape: 25.1374 - val_mse: 0.0064 - learning_rate: 1.2500e-04\n",
      "Epoch 45/200\n",
      "\u001b[1m41/41\u001b[0m \u001b[32m━━━━━━━━━━━━━━━━━━━━\u001b[0m\u001b[37m\u001b[0m \u001b[1m0s\u001b[0m 4ms/step - loss: 0.0723 - mae: 0.0723 - mape: 31.0217 - mse: 0.0167 - val_loss: 0.0580 - val_mae: 0.0580 - val_mape: 24.8985 - val_mse: 0.0059 - learning_rate: 1.2500e-04\n",
      "Epoch 46/200\n",
      "\u001b[1m41/41\u001b[0m \u001b[32m━━━━━━━━━━━━━━━━━━━━\u001b[0m\u001b[37m\u001b[0m \u001b[1m0s\u001b[0m 5ms/step - loss: 0.0695 - mae: 0.0695 - mape: 29.5958 - mse: 0.0244 - val_loss: 0.0575 - val_mae: 0.0575 - val_mape: 24.6423 - val_mse: 0.0060 - learning_rate: 1.2500e-04\n",
      "Epoch 47/200\n",
      "\u001b[1m41/41\u001b[0m \u001b[32m━━━━━━━━━━━━━━━━━━━━\u001b[0m\u001b[37m\u001b[0m \u001b[1m0s\u001b[0m 4ms/step - loss: 0.0657 - mae: 0.0657 - mape: 29.5180 - mse: 0.0155 - val_loss: 0.0562 - val_mae: 0.0562 - val_mape: 24.4779 - val_mse: 0.0057 - learning_rate: 1.2500e-04\n",
      "Epoch 48/200\n",
      "\u001b[1m41/41\u001b[0m \u001b[32m━━━━━━━━━━━━━━━━━━━━\u001b[0m\u001b[37m\u001b[0m \u001b[1m0s\u001b[0m 4ms/step - loss: 0.0665 - mae: 0.0665 - mape: 29.1764 - mse: 0.0146 - val_loss: 0.0576 - val_mae: 0.0576 - val_mape: 24.6981 - val_mse: 0.0060 - learning_rate: 1.2500e-04\n",
      "Epoch 49/200\n",
      "\u001b[1m41/41\u001b[0m \u001b[32m━━━━━━━━━━━━━━━━━━━━\u001b[0m\u001b[37m\u001b[0m \u001b[1m0s\u001b[0m 4ms/step - loss: 0.0670 - mae: 0.0670 - mape: 29.8212 - mse: 0.0086 - val_loss: 0.0581 - val_mae: 0.0581 - val_mape: 24.8009 - val_mse: 0.0061 - learning_rate: 1.2500e-04\n",
      "Epoch 50/200\n",
      "\u001b[1m41/41\u001b[0m \u001b[32m━━━━━━━━━━━━━━━━━━━━\u001b[0m\u001b[37m\u001b[0m \u001b[1m0s\u001b[0m 4ms/step - loss: 0.0666 - mae: 0.0666 - mape: 29.4701 - mse: 0.0120 - val_loss: 0.0577 - val_mae: 0.0577 - val_mape: 24.6195 - val_mse: 0.0061 - learning_rate: 1.2500e-04\n",
      "Epoch 51/200\n",
      "\u001b[1m41/41\u001b[0m \u001b[32m━━━━━━━━━━━━━━━━━━━━\u001b[0m\u001b[37m\u001b[0m \u001b[1m0s\u001b[0m 4ms/step - loss: 0.0652 - mae: 0.0652 - mape: 27.6318 - mse: 0.0122 - val_loss: 0.0572 - val_mae: 0.0572 - val_mape: 24.5731 - val_mse: 0.0059 - learning_rate: 1.2500e-04\n",
      "Epoch 52/200\n",
      "\u001b[1m41/41\u001b[0m \u001b[32m━━━━━━━━━━━━━━━━━━━━\u001b[0m\u001b[37m\u001b[0m \u001b[1m0s\u001b[0m 4ms/step - loss: 0.0673 - mae: 0.0673 - mape: 30.4199 - mse: 0.0144 - val_loss: 0.0583 - val_mae: 0.0583 - val_mape: 24.7262 - val_mse: 0.0061 - learning_rate: 1.2500e-04\n",
      "Epoch 53/200\n",
      "\u001b[1m41/41\u001b[0m \u001b[32m━━━━━━━━━━━━━━━━━━━━\u001b[0m\u001b[37m\u001b[0m \u001b[1m0s\u001b[0m 4ms/step - loss: 0.0684 - mae: 0.0684 - mape: 28.4051 - mse: 0.0139 - val_loss: 0.0569 - val_mae: 0.0569 - val_mape: 24.4936 - val_mse: 0.0059 - learning_rate: 6.2500e-05\n",
      "Epoch 54/200\n",
      "\u001b[1m41/41\u001b[0m \u001b[32m━━━━━━━━━━━━━━━━━━━━\u001b[0m\u001b[37m\u001b[0m \u001b[1m0s\u001b[0m 4ms/step - loss: 0.0655 - mae: 0.0655 - mape: 28.1682 - mse: 0.0124 - val_loss: 0.0564 - val_mae: 0.0564 - val_mape: 24.5305 - val_mse: 0.0057 - learning_rate: 6.2500e-05\n",
      "Epoch 55/200\n",
      "\u001b[1m41/41\u001b[0m \u001b[32m━━━━━━━━━━━━━━━━━━━━\u001b[0m\u001b[37m\u001b[0m \u001b[1m0s\u001b[0m 4ms/step - loss: 0.0687 - mae: 0.0687 - mape: 30.1060 - mse: 0.0248 - val_loss: 0.0561 - val_mae: 0.0561 - val_mape: 24.3547 - val_mse: 0.0057 - learning_rate: 6.2500e-05\n",
      "Epoch 56/200\n",
      "\u001b[1m41/41\u001b[0m \u001b[32m━━━━━━━━━━━━━━━━━━━━\u001b[0m\u001b[37m\u001b[0m \u001b[1m0s\u001b[0m 4ms/step - loss: 0.0622 - mae: 0.0622 - mape: 27.9441 - mse: 0.0086 - val_loss: 0.0576 - val_mae: 0.0576 - val_mape: 24.4991 - val_mse: 0.0060 - learning_rate: 6.2500e-05\n",
      "Epoch 57/200\n",
      "\u001b[1m41/41\u001b[0m \u001b[32m━━━━━━━━━━━━━━━━━━━━\u001b[0m\u001b[37m\u001b[0m \u001b[1m0s\u001b[0m 4ms/step - loss: 0.0657 - mae: 0.0657 - mape: 30.2189 - mse: 0.0130 - val_loss: 0.0593 - val_mae: 0.0593 - val_mape: 24.8399 - val_mse: 0.0063 - learning_rate: 6.2500e-05\n",
      "Epoch 58/200\n",
      "\u001b[1m41/41\u001b[0m \u001b[32m━━━━━━━━━━━━━━━━━━━━\u001b[0m\u001b[37m\u001b[0m \u001b[1m0s\u001b[0m 5ms/step - loss: 0.0683 - mae: 0.0683 - mape: 29.8574 - mse: 0.0261 - val_loss: 0.0562 - val_mae: 0.0562 - val_mape: 24.3322 - val_mse: 0.0057 - learning_rate: 3.1250e-05\n",
      "Epoch 59/200\n",
      "\u001b[1m41/41\u001b[0m \u001b[32m━━━━━━━━━━━━━━━━━━━━\u001b[0m\u001b[37m\u001b[0m \u001b[1m0s\u001b[0m 4ms/step - loss: 0.0663 - mae: 0.0663 - mape: 29.6735 - mse: 0.0189 - val_loss: 0.0575 - val_mae: 0.0575 - val_mape: 24.4665 - val_mse: 0.0060 - learning_rate: 3.1250e-05\n",
      "Epoch 60/200\n",
      "\u001b[1m41/41\u001b[0m \u001b[32m━━━━━━━━━━━━━━━━━━━━\u001b[0m\u001b[37m\u001b[0m \u001b[1m0s\u001b[0m 4ms/step - loss: 0.0669 - mae: 0.0669 - mape: 28.7633 - mse: 0.0143 - val_loss: 0.0572 - val_mae: 0.0572 - val_mape: 24.4328 - val_mse: 0.0059 - learning_rate: 3.1250e-05\n",
      "Epoch 61/200\n",
      "\u001b[1m41/41\u001b[0m \u001b[32m━━━━━━━━━━━━━━━━━━━━\u001b[0m\u001b[37m\u001b[0m \u001b[1m0s\u001b[0m 4ms/step - loss: 0.0677 - mae: 0.0677 - mape: 30.3087 - mse: 0.0131 - val_loss: 0.0568 - val_mae: 0.0568 - val_mape: 24.4054 - val_mse: 0.0058 - learning_rate: 3.1250e-05\n",
      "Epoch 62/200\n",
      "\u001b[1m41/41\u001b[0m \u001b[32m━━━━━━━━━━━━━━━━━━━━\u001b[0m\u001b[37m\u001b[0m \u001b[1m0s\u001b[0m 4ms/step - loss: 0.0667 - mae: 0.0667 - mape: 29.5065 - mse: 0.0108 - val_loss: 0.0574 - val_mae: 0.0574 - val_mape: 24.4667 - val_mse: 0.0060 - learning_rate: 3.1250e-05\n",
      "Epoch 63/200\n",
      "\u001b[1m41/41\u001b[0m \u001b[32m━━━━━━━━━━━━━━━━━━━━\u001b[0m\u001b[37m\u001b[0m \u001b[1m0s\u001b[0m 4ms/step - loss: 0.0671 - mae: 0.0671 - mape: 29.2581 - mse: 0.0100 - val_loss: 0.0567 - val_mae: 0.0567 - val_mape: 24.3914 - val_mse: 0.0058 - learning_rate: 1.5625e-05\n",
      "Epoch 64/200\n",
      "\u001b[1m41/41\u001b[0m \u001b[32m━━━━━━━━━━━━━━━━━━━━\u001b[0m\u001b[37m\u001b[0m \u001b[1m0s\u001b[0m 4ms/step - loss: 0.0647 - mae: 0.0647 - mape: 28.4687 - mse: 0.0101 - val_loss: 0.0564 - val_mae: 0.0564 - val_mape: 24.3405 - val_mse: 0.0058 - learning_rate: 1.5625e-05\n",
      "Epoch 65/200\n",
      "\u001b[1m41/41\u001b[0m \u001b[32m━━━━━━━━━━━━━━━━━━━━\u001b[0m\u001b[37m\u001b[0m \u001b[1m0s\u001b[0m 4ms/step - loss: 0.0613 - mae: 0.0613 - mape: 27.7747 - mse: 0.0074 - val_loss: 0.0563 - val_mae: 0.0563 - val_mape: 24.3634 - val_mse: 0.0057 - learning_rate: 1.5625e-05\n",
      "Epoch 66/200\n",
      "\u001b[1m41/41\u001b[0m \u001b[32m━━━━━━━━━━━━━━━━━━━━\u001b[0m\u001b[37m\u001b[0m \u001b[1m0s\u001b[0m 4ms/step - loss: 0.0621 - mae: 0.0621 - mape: 27.3852 - mse: 0.0070 - val_loss: 0.0560 - val_mae: 0.0560 - val_mape: 24.3466 - val_mse: 0.0057 - learning_rate: 1.5625e-05\n",
      "Epoch 67/200\n",
      "\u001b[1m41/41\u001b[0m \u001b[32m━━━━━━━━━━━━━━━━━━━━\u001b[0m\u001b[37m\u001b[0m \u001b[1m0s\u001b[0m 4ms/step - loss: 0.0646 - mae: 0.0646 - mape: 27.7354 - mse: 0.0211 - val_loss: 0.0569 - val_mae: 0.0569 - val_mape: 24.4176 - val_mse: 0.0058 - learning_rate: 1.5625e-05\n",
      "Epoch 68/200\n",
      "\u001b[1m41/41\u001b[0m \u001b[32m━━━━━━━━━━━━━━━━━━━━\u001b[0m\u001b[37m\u001b[0m \u001b[1m0s\u001b[0m 5ms/step - loss: 0.0605 - mae: 0.0605 - mape: 26.6138 - mse: 0.0098 - val_loss: 0.0563 - val_mae: 0.0563 - val_mape: 24.3419 - val_mse: 0.0057 - learning_rate: 1.5625e-05\n",
      "Epoch 69/200\n",
      "\u001b[1m41/41\u001b[0m \u001b[32m━━━━━━━━━━━━━━━━━━━━\u001b[0m\u001b[37m\u001b[0m \u001b[1m0s\u001b[0m 4ms/step - loss: 0.0652 - mae: 0.0652 - mape: 28.8204 - mse: 0.0234 - val_loss: 0.0563 - val_mae: 0.0563 - val_mape: 24.3465 - val_mse: 0.0057 - learning_rate: 1.5625e-05\n",
      "Epoch 70/200\n",
      "\u001b[1m41/41\u001b[0m \u001b[32m━━━━━━━━━━━━━━━━━━━━\u001b[0m\u001b[37m\u001b[0m \u001b[1m0s\u001b[0m 4ms/step - loss: 0.0629 - mae: 0.0629 - mape: 28.2284 - mse: 0.0093 - val_loss: 0.0561 - val_mae: 0.0561 - val_mape: 24.3589 - val_mse: 0.0057 - learning_rate: 1.5625e-05\n",
      "Epoch 71/200\n",
      "\u001b[1m41/41\u001b[0m \u001b[32m━━━━━━━━━━━━━━━━━━━━\u001b[0m\u001b[37m\u001b[0m \u001b[1m0s\u001b[0m 4ms/step - loss: 0.0658 - mae: 0.0658 - mape: 29.6879 - mse: 0.0117 - val_loss: 0.0565 - val_mae: 0.0565 - val_mape: 24.3716 - val_mse: 0.0058 - learning_rate: 1.5625e-05\n",
      "Epoch 72/200\n",
      "\u001b[1m41/41\u001b[0m \u001b[32m━━━━━━━━━━━━━━━━━━━━\u001b[0m\u001b[37m\u001b[0m \u001b[1m0s\u001b[0m 4ms/step - loss: 0.0603 - mae: 0.0603 - mape: 26.4985 - mse: 0.0072 - val_loss: 0.0567 - val_mae: 0.0567 - val_mape: 24.3979 - val_mse: 0.0058 - learning_rate: 7.8125e-06\n",
      "Epoch 73/200\n",
      "\u001b[1m41/41\u001b[0m \u001b[32m━━━━━━━━━━━━━━━━━━━━\u001b[0m\u001b[37m\u001b[0m \u001b[1m0s\u001b[0m 4ms/step - loss: 0.0657 - mae: 0.0657 - mape: 28.5362 - mse: 0.0102 - val_loss: 0.0565 - val_mae: 0.0565 - val_mape: 24.3620 - val_mse: 0.0058 - learning_rate: 7.8125e-06\n",
      "Epoch 74/200\n",
      "\u001b[1m41/41\u001b[0m \u001b[32m━━━━━━━━━━━━━━━━━━━━\u001b[0m\u001b[37m\u001b[0m \u001b[1m0s\u001b[0m 4ms/step - loss: 0.0648 - mae: 0.0648 - mape: 29.4428 - mse: 0.0093 - val_loss: 0.0565 - val_mae: 0.0565 - val_mape: 24.3579 - val_mse: 0.0058 - learning_rate: 7.8125e-06\n",
      "Epoch 75/200\n",
      "\u001b[1m41/41\u001b[0m \u001b[32m━━━━━━━━━━━━━━━━━━━━\u001b[0m\u001b[37m\u001b[0m \u001b[1m0s\u001b[0m 4ms/step - loss: 0.0611 - mae: 0.0611 - mape: 27.7148 - mse: 0.0072 - val_loss: 0.0569 - val_mae: 0.0569 - val_mape: 24.3920 - val_mse: 0.0059 - learning_rate: 7.8125e-06\n",
      "Epoch 76/200\n",
      "\u001b[1m41/41\u001b[0m \u001b[32m━━━━━━━━━━━━━━━━━━━━\u001b[0m\u001b[37m\u001b[0m \u001b[1m0s\u001b[0m 4ms/step - loss: 0.0660 - mae: 0.0660 - mape: 28.4232 - mse: 0.0130 - val_loss: 0.0561 - val_mae: 0.0561 - val_mape: 24.3164 - val_mse: 0.0057 - learning_rate: 7.8125e-06\n",
      "Epoch 77/200\n",
      "\u001b[1m41/41\u001b[0m \u001b[32m━━━━━━━━━━━━━━━━━━━━\u001b[0m\u001b[37m\u001b[0m \u001b[1m0s\u001b[0m 4ms/step - loss: 0.0686 - mae: 0.0686 - mape: 29.4195 - mse: 0.0177 - val_loss: 0.0564 - val_mae: 0.0564 - val_mape: 24.3296 - val_mse: 0.0057 - learning_rate: 3.9063e-06\n",
      "Epoch 78/200\n",
      "\u001b[1m41/41\u001b[0m \u001b[32m━━━━━━━━━━━━━━━━━━━━\u001b[0m\u001b[37m\u001b[0m \u001b[1m0s\u001b[0m 4ms/step - loss: 0.0676 - mae: 0.0676 - mape: 30.1892 - mse: 0.0214 - val_loss: 0.0566 - val_mae: 0.0566 - val_mape: 24.3352 - val_mse: 0.0058 - learning_rate: 3.9063e-06\n",
      "Epoch 79/200\n",
      "\u001b[1m41/41\u001b[0m \u001b[32m━━━━━━━━━━━━━━━━━━━━\u001b[0m\u001b[37m\u001b[0m \u001b[1m0s\u001b[0m 4ms/step - loss: 0.0646 - mae: 0.0646 - mape: 29.3880 - mse: 0.0171 - val_loss: 0.0566 - val_mae: 0.0566 - val_mape: 24.3345 - val_mse: 0.0058 - learning_rate: 3.9063e-06\n",
      "Epoch 80/200\n",
      "\u001b[1m41/41\u001b[0m \u001b[32m━━━━━━━━━━━━━━━━━━━━\u001b[0m\u001b[37m\u001b[0m \u001b[1m0s\u001b[0m 4ms/step - loss: 0.0629 - mae: 0.0629 - mape: 28.8994 - mse: 0.0076 - val_loss: 0.0563 - val_mae: 0.0563 - val_mape: 24.3113 - val_mse: 0.0057 - learning_rate: 3.9063e-06\n",
      "Epoch 81/200\n",
      "\u001b[1m41/41\u001b[0m \u001b[32m━━━━━━━━━━━━━━━━━━━━\u001b[0m\u001b[37m\u001b[0m \u001b[1m0s\u001b[0m 4ms/step - loss: 0.0630 - mae: 0.0630 - mape: 28.7738 - mse: 0.0109 - val_loss: 0.0564 - val_mae: 0.0564 - val_mape: 24.3091 - val_mse: 0.0057 - learning_rate: 3.9063e-06\n",
      "Epoch 82/200\n",
      "\u001b[1m41/41\u001b[0m \u001b[32m━━━━━━━━━━━━━━━━━━━━\u001b[0m\u001b[37m\u001b[0m \u001b[1m0s\u001b[0m 4ms/step - loss: 0.0682 - mae: 0.0682 - mape: 31.3956 - mse: 0.0112 - val_loss: 0.0564 - val_mae: 0.0564 - val_mape: 24.3162 - val_mse: 0.0058 - learning_rate: 1.9531e-06\n",
      "Epoch 83/200\n",
      "\u001b[1m41/41\u001b[0m \u001b[32m━━━━━━━━━━━━━━━━━━━━\u001b[0m\u001b[37m\u001b[0m \u001b[1m0s\u001b[0m 4ms/step - loss: 0.0635 - mae: 0.0635 - mape: 27.4192 - mse: 0.0144 - val_loss: 0.0565 - val_mae: 0.0565 - val_mape: 24.3192 - val_mse: 0.0058 - learning_rate: 1.9531e-06\n",
      "Epoch 84/200\n",
      "\u001b[1m41/41\u001b[0m \u001b[32m━━━━━━━━━━━━━━━━━━━━\u001b[0m\u001b[37m\u001b[0m \u001b[1m0s\u001b[0m 4ms/step - loss: 0.0668 - mae: 0.0668 - mape: 28.8722 - mse: 0.0144 - val_loss: 0.0564 - val_mae: 0.0564 - val_mape: 24.3105 - val_mse: 0.0058 - learning_rate: 1.9531e-06\n",
      "Epoch 85/200\n",
      "\u001b[1m41/41\u001b[0m \u001b[32m━━━━━━━━━━━━━━━━━━━━\u001b[0m\u001b[37m\u001b[0m \u001b[1m0s\u001b[0m 4ms/step - loss: 0.0771 - mae: 0.0771 - mape: 31.1961 - mse: 0.0471 - val_loss: 0.0565 - val_mae: 0.0565 - val_mape: 24.3155 - val_mse: 0.0058 - learning_rate: 1.9531e-06\n",
      "Epoch 86/200\n",
      "\u001b[1m41/41\u001b[0m \u001b[32m━━━━━━━━━━━━━━━━━━━━\u001b[0m\u001b[37m\u001b[0m \u001b[1m0s\u001b[0m 4ms/step - loss: 0.0722 - mae: 0.0722 - mape: 32.3184 - mse: 0.0139 - val_loss: 0.0565 - val_mae: 0.0565 - val_mape: 24.3190 - val_mse: 0.0058 - learning_rate: 1.9531e-06\n"
     ]
    }
   ],
   "source": [
    "history = model_Tc.fit(\n",
    "    X_train_Tc, Y_train_Tc,\n",
    "    validation_data=(X_test_Tc, Y_test_Tc),\n",
    "    epochs=200,\n",
    "    batch_size=32,   \n",
    "    callbacks=[\n",
    "        tf.keras.callbacks.EarlyStopping(monitor=\"val_mae\", patience=20, restore_best_weights=True),\n",
    "        tf.keras.callbacks.ReduceLROnPlateau(monitor=\"val_mae\", factor=0.5, patience=5)\n",
    "    ]\n",
    ")"
   ]
  },
  {
   "cell_type": "code",
   "execution_count": 33,
   "id": "a6f108e6",
   "metadata": {
    "execution": {
     "iopub.execute_input": "2025-08-17T19:12:51.153072Z",
     "iopub.status.busy": "2025-08-17T19:12:51.152793Z",
     "iopub.status.idle": "2025-08-17T19:12:51.276747Z",
     "shell.execute_reply": "2025-08-17T19:12:51.275938Z"
    },
    "papermill": {
     "duration": 0.184874,
     "end_time": "2025-08-17T19:12:51.278012",
     "exception": false,
     "start_time": "2025-08-17T19:12:51.093138",
     "status": "completed"
    },
    "tags": []
   },
   "outputs": [
    {
     "name": "stdout",
     "output_type": "stream",
     "text": [
      "\u001b[1m11/11\u001b[0m \u001b[32m━━━━━━━━━━━━━━━━━━━━\u001b[0m\u001b[37m\u001b[0m \u001b[1m0s\u001b[0m 4ms/step - loss: 0.0559 - mae: 0.0559 - mape: 24.5599 - mse: 0.0055 \n",
      "Test loss: 0.05601029098033905\n",
      "Test MAE: 0.05601029098033905\n",
      "Test MSE: 0.0056556216441094875\n",
      "Test MAPE: 24.346595764160156\n"
     ]
    }
   ],
   "source": [
    "results = model_Tc.evaluate(X_test_Tc, Y_test_Tc)\n",
    "print(f\"Test loss: {results[0]}\")\n",
    "print(f\"Test MAE: {results[1]}\")\n",
    "print(f\"Test MSE: {results[2]}\")\n",
    "print(f\"Test MAPE: {results[3]}\")"
   ]
  },
  {
   "cell_type": "code",
   "execution_count": 34,
   "id": "a40a50c5",
   "metadata": {
    "execution": {
     "iopub.execute_input": "2025-08-17T19:12:51.394396Z",
     "iopub.status.busy": "2025-08-17T19:12:51.394111Z",
     "iopub.status.idle": "2025-08-17T19:12:51.397442Z",
     "shell.execute_reply": "2025-08-17T19:12:51.396895Z"
    },
    "papermill": {
     "duration": 0.062038,
     "end_time": "2025-08-17T19:12:51.398589",
     "exception": false,
     "start_time": "2025-08-17T19:12:51.336551",
     "status": "completed"
    },
    "tags": []
   },
   "outputs": [],
   "source": [
    "# model_Density.fit(X_train_D, Y_train_D, epochs = 25, batch_size=16)"
   ]
  },
  {
   "cell_type": "code",
   "execution_count": 35,
   "id": "c97b0c65",
   "metadata": {
    "execution": {
     "iopub.execute_input": "2025-08-17T19:12:51.513745Z",
     "iopub.status.busy": "2025-08-17T19:12:51.513468Z",
     "iopub.status.idle": "2025-08-17T19:13:05.091159Z",
     "shell.execute_reply": "2025-08-17T19:13:05.090605Z"
    },
    "papermill": {
     "duration": 13.635826,
     "end_time": "2025-08-17T19:13:05.092484",
     "exception": false,
     "start_time": "2025-08-17T19:12:51.456658",
     "status": "completed"
    },
    "tags": []
   },
   "outputs": [
    {
     "name": "stdout",
     "output_type": "stream",
     "text": [
      "Epoch 1/200\n",
      "\u001b[1m31/31\u001b[0m \u001b[32m━━━━━━━━━━━━━━━━━━━━\u001b[0m\u001b[37m\u001b[0m \u001b[1m5s\u001b[0m 67ms/step - loss: 25.9818 - mae: 25.9818 - mape: 2678.5098 - mse: 1078.6342 - val_loss: 4.8073 - val_mae: 4.8073 - val_mape: 483.4142 - val_mse: 50.9651 - learning_rate: 0.0010\n",
      "Epoch 2/200\n",
      "\u001b[1m31/31\u001b[0m \u001b[32m━━━━━━━━━━━━━━━━━━━━\u001b[0m\u001b[37m\u001b[0m \u001b[1m0s\u001b[0m 5ms/step - loss: 12.4504 - mae: 12.4504 - mape: 1290.0627 - mse: 251.4652 - val_loss: 4.2973 - val_mae: 4.2973 - val_mape: 440.2481 - val_mse: 28.6329 - learning_rate: 0.0010\n",
      "Epoch 3/200\n",
      "\u001b[1m31/31\u001b[0m \u001b[32m━━━━━━━━━━━━━━━━━━━━\u001b[0m\u001b[37m\u001b[0m \u001b[1m0s\u001b[0m 5ms/step - loss: 8.0185 - mae: 8.0185 - mape: 841.2750 - mse: 108.8547 - val_loss: 2.1918 - val_mae: 2.1918 - val_mape: 229.3423 - val_mse: 10.8176 - learning_rate: 0.0010\n",
      "Epoch 4/200\n",
      "\u001b[1m31/31\u001b[0m \u001b[32m━━━━━━━━━━━━━━━━━━━━\u001b[0m\u001b[37m\u001b[0m \u001b[1m0s\u001b[0m 5ms/step - loss: 5.7846 - mae: 5.7846 - mape: 596.1712 - mse: 64.9717 - val_loss: 1.6098 - val_mae: 1.6098 - val_mape: 167.0380 - val_mse: 5.9855 - learning_rate: 0.0010\n",
      "Epoch 5/200\n",
      "\u001b[1m31/31\u001b[0m \u001b[32m━━━━━━━━━━━━━━━━━━━━\u001b[0m\u001b[37m\u001b[0m \u001b[1m0s\u001b[0m 5ms/step - loss: 4.5026 - mae: 4.5026 - mape: 471.7636 - mse: 42.6346 - val_loss: 1.2770 - val_mae: 1.2770 - val_mape: 133.5902 - val_mse: 3.3353 - learning_rate: 0.0010\n",
      "Epoch 6/200\n",
      "\u001b[1m31/31\u001b[0m \u001b[32m━━━━━━━━━━━━━━━━━━━━\u001b[0m\u001b[37m\u001b[0m \u001b[1m0s\u001b[0m 5ms/step - loss: 3.1749 - mae: 3.1749 - mape: 332.0607 - mse: 24.4776 - val_loss: 1.1719 - val_mae: 1.1719 - val_mape: 121.9692 - val_mse: 2.4541 - learning_rate: 0.0010\n",
      "Epoch 7/200\n",
      "\u001b[1m31/31\u001b[0m \u001b[32m━━━━━━━━━━━━━━━━━━━━\u001b[0m\u001b[37m\u001b[0m \u001b[1m0s\u001b[0m 5ms/step - loss: 2.1554 - mae: 2.1554 - mape: 224.5239 - mse: 10.9315 - val_loss: 0.8252 - val_mae: 0.8252 - val_mape: 86.1393 - val_mse: 1.1009 - learning_rate: 0.0010\n",
      "Epoch 8/200\n",
      "\u001b[1m31/31\u001b[0m \u001b[32m━━━━━━━━━━━━━━━━━━━━\u001b[0m\u001b[37m\u001b[0m \u001b[1m0s\u001b[0m 5ms/step - loss: 1.9545 - mae: 1.9545 - mape: 205.7842 - mse: 9.7642 - val_loss: 0.5231 - val_mae: 0.5231 - val_mape: 54.1021 - val_mse: 0.5215 - learning_rate: 0.0010\n",
      "Epoch 9/200\n",
      "\u001b[1m31/31\u001b[0m \u001b[32m━━━━━━━━━━━━━━━━━━━━\u001b[0m\u001b[37m\u001b[0m \u001b[1m0s\u001b[0m 5ms/step - loss: 1.2985 - mae: 1.2985 - mape: 133.2952 - mse: 4.7919 - val_loss: 0.4620 - val_mae: 0.4620 - val_mape: 46.9243 - val_mse: 0.3597 - learning_rate: 0.0010\n",
      "Epoch 10/200\n",
      "\u001b[1m31/31\u001b[0m \u001b[32m━━━━━━━━━━━━━━━━━━━━\u001b[0m\u001b[37m\u001b[0m \u001b[1m0s\u001b[0m 5ms/step - loss: 1.1070 - mae: 1.1070 - mape: 115.5283 - mse: 3.6511 - val_loss: 0.5114 - val_mae: 0.5114 - val_mape: 51.7663 - val_mse: 0.3570 - learning_rate: 0.0010\n",
      "Epoch 11/200\n",
      "\u001b[1m31/31\u001b[0m \u001b[32m━━━━━━━━━━━━━━━━━━━━\u001b[0m\u001b[37m\u001b[0m \u001b[1m0s\u001b[0m 5ms/step - loss: 1.0574 - mae: 1.0574 - mape: 109.1180 - mse: 3.5904 - val_loss: 0.3101 - val_mae: 0.3101 - val_mape: 30.8853 - val_mse: 0.1484 - learning_rate: 0.0010\n",
      "Epoch 12/200\n",
      "\u001b[1m31/31\u001b[0m \u001b[32m━━━━━━━━━━━━━━━━━━━━\u001b[0m\u001b[37m\u001b[0m \u001b[1m0s\u001b[0m 5ms/step - loss: 0.8340 - mae: 0.8340 - mape: 84.1877 - mse: 2.4011 - val_loss: 0.2661 - val_mae: 0.2661 - val_mape: 26.2301 - val_mse: 0.1117 - learning_rate: 0.0010\n",
      "Epoch 13/200\n",
      "\u001b[1m31/31\u001b[0m \u001b[32m━━━━━━━━━━━━━━━━━━━━\u001b[0m\u001b[37m\u001b[0m \u001b[1m0s\u001b[0m 5ms/step - loss: 0.8171 - mae: 0.8171 - mape: 82.9404 - mse: 2.4746 - val_loss: 0.3473 - val_mae: 0.3473 - val_mape: 34.4898 - val_mse: 0.1534 - learning_rate: 0.0010\n",
      "Epoch 14/200\n",
      "\u001b[1m31/31\u001b[0m \u001b[32m━━━━━━━━━━━━━━━━━━━━\u001b[0m\u001b[37m\u001b[0m \u001b[1m0s\u001b[0m 5ms/step - loss: 0.5764 - mae: 0.5764 - mape: 56.6596 - mse: 1.3890 - val_loss: 0.2570 - val_mae: 0.2570 - val_mape: 25.1637 - val_mse: 0.1022 - learning_rate: 0.0010\n",
      "Epoch 15/200\n",
      "\u001b[1m31/31\u001b[0m \u001b[32m━━━━━━━━━━━━━━━━━━━━\u001b[0m\u001b[37m\u001b[0m \u001b[1m0s\u001b[0m 5ms/step - loss: 0.5065 - mae: 0.5065 - mape: 51.6578 - mse: 0.7641 - val_loss: 0.3061 - val_mae: 0.3061 - val_mape: 30.0881 - val_mse: 0.1222 - learning_rate: 0.0010\n",
      "Epoch 16/200\n",
      "\u001b[1m31/31\u001b[0m \u001b[32m━━━━━━━━━━━━━━━━━━━━\u001b[0m\u001b[37m\u001b[0m \u001b[1m0s\u001b[0m 5ms/step - loss: 0.5484 - mae: 0.5484 - mape: 56.3618 - mse: 1.1193 - val_loss: 0.2517 - val_mae: 0.2517 - val_mape: 24.5609 - val_mse: 0.0870 - learning_rate: 0.0010\n",
      "Epoch 17/200\n",
      "\u001b[1m31/31\u001b[0m \u001b[32m━━━━━━━━━━━━━━━━━━━━\u001b[0m\u001b[37m\u001b[0m \u001b[1m0s\u001b[0m 5ms/step - loss: 0.4513 - mae: 0.4513 - mape: 46.4366 - mse: 0.6306 - val_loss: 0.2708 - val_mae: 0.2708 - val_mape: 26.4941 - val_mse: 0.0958 - learning_rate: 0.0010\n",
      "Epoch 18/200\n",
      "\u001b[1m31/31\u001b[0m \u001b[32m━━━━━━━━━━━━━━━━━━━━\u001b[0m\u001b[37m\u001b[0m \u001b[1m0s\u001b[0m 5ms/step - loss: 0.4074 - mae: 0.4074 - mape: 41.4792 - mse: 0.5035 - val_loss: 0.1653 - val_mae: 0.1653 - val_mape: 15.8293 - val_mse: 0.0450 - learning_rate: 0.0010\n",
      "Epoch 19/200\n",
      "\u001b[1m31/31\u001b[0m \u001b[32m━━━━━━━━━━━━━━━━━━━━\u001b[0m\u001b[37m\u001b[0m \u001b[1m0s\u001b[0m 5ms/step - loss: 0.3189 - mae: 0.3189 - mape: 32.6748 - mse: 0.2789 - val_loss: 0.1859 - val_mae: 0.1859 - val_mape: 17.7470 - val_mse: 0.0543 - learning_rate: 0.0010\n",
      "Epoch 20/200\n",
      "\u001b[1m31/31\u001b[0m \u001b[32m━━━━━━━━━━━━━━━━━━━━\u001b[0m\u001b[37m\u001b[0m \u001b[1m0s\u001b[0m 5ms/step - loss: 0.4111 - mae: 0.4111 - mape: 41.3641 - mse: 0.7170 - val_loss: 0.2036 - val_mae: 0.2036 - val_mape: 19.4901 - val_mse: 0.0615 - learning_rate: 0.0010\n",
      "Epoch 21/200\n",
      "\u001b[1m31/31\u001b[0m \u001b[32m━━━━━━━━━━━━━━━━━━━━\u001b[0m\u001b[37m\u001b[0m \u001b[1m0s\u001b[0m 5ms/step - loss: 0.3477 - mae: 0.3477 - mape: 36.0124 - mse: 0.4100 - val_loss: 0.1880 - val_mae: 0.1880 - val_mape: 17.9471 - val_mse: 0.0537 - learning_rate: 0.0010\n",
      "Epoch 22/200\n",
      "\u001b[1m31/31\u001b[0m \u001b[32m━━━━━━━━━━━━━━━━━━━━\u001b[0m\u001b[37m\u001b[0m \u001b[1m0s\u001b[0m 5ms/step - loss: 0.3077 - mae: 0.3077 - mape: 31.6042 - mse: 0.2817 - val_loss: 0.1471 - val_mae: 0.1471 - val_mape: 13.9717 - val_mse: 0.0368 - learning_rate: 0.0010\n",
      "Epoch 23/200\n",
      "\u001b[1m31/31\u001b[0m \u001b[32m━━━━━━━━━━━━━━━━━━━━\u001b[0m\u001b[37m\u001b[0m \u001b[1m0s\u001b[0m 5ms/step - loss: 0.2774 - mae: 0.2774 - mape: 27.5289 - mse: 0.1917 - val_loss: 0.1281 - val_mae: 0.1281 - val_mape: 12.2167 - val_mse: 0.0290 - learning_rate: 0.0010\n",
      "Epoch 24/200\n",
      "\u001b[1m31/31\u001b[0m \u001b[32m━━━━━━━━━━━━━━━━━━━━\u001b[0m\u001b[37m\u001b[0m \u001b[1m0s\u001b[0m 5ms/step - loss: 0.2447 - mae: 0.2447 - mape: 24.5517 - mse: 0.1604 - val_loss: 0.1535 - val_mae: 0.1535 - val_mape: 14.5189 - val_mse: 0.0388 - learning_rate: 0.0010\n",
      "Epoch 25/200\n",
      "\u001b[1m31/31\u001b[0m \u001b[32m━━━━━━━━━━━━━━━━━━━━\u001b[0m\u001b[37m\u001b[0m \u001b[1m0s\u001b[0m 5ms/step - loss: 0.2801 - mae: 0.2801 - mape: 26.9926 - mse: 0.2953 - val_loss: 0.1124 - val_mae: 0.1124 - val_mape: 11.2956 - val_mse: 0.0214 - learning_rate: 0.0010\n",
      "Epoch 26/200\n",
      "\u001b[1m31/31\u001b[0m \u001b[32m━━━━━━━━━━━━━━━━━━━━\u001b[0m\u001b[37m\u001b[0m \u001b[1m0s\u001b[0m 5ms/step - loss: 0.2696 - mae: 0.2696 - mape: 27.2767 - mse: 0.2032 - val_loss: 0.1612 - val_mae: 0.1612 - val_mape: 15.1821 - val_mse: 0.0425 - learning_rate: 0.0010\n",
      "Epoch 27/200\n",
      "\u001b[1m31/31\u001b[0m \u001b[32m━━━━━━━━━━━━━━━━━━━━\u001b[0m\u001b[37m\u001b[0m \u001b[1m0s\u001b[0m 5ms/step - loss: 0.2535 - mae: 0.2535 - mape: 25.5923 - mse: 0.2536 - val_loss: 0.1212 - val_mae: 0.1212 - val_mape: 11.6289 - val_mse: 0.0259 - learning_rate: 0.0010\n",
      "Epoch 28/200\n",
      "\u001b[1m31/31\u001b[0m \u001b[32m━━━━━━━━━━━━━━━━━━━━\u001b[0m\u001b[37m\u001b[0m \u001b[1m0s\u001b[0m 5ms/step - loss: 0.2651 - mae: 0.2651 - mape: 26.7868 - mse: 0.3049 - val_loss: 0.1343 - val_mae: 0.1343 - val_mape: 12.6265 - val_mse: 0.0316 - learning_rate: 0.0010\n",
      "Epoch 29/200\n",
      "\u001b[1m31/31\u001b[0m \u001b[32m━━━━━━━━━━━━━━━━━━━━\u001b[0m\u001b[37m\u001b[0m \u001b[1m0s\u001b[0m 5ms/step - loss: 0.2955 - mae: 0.2955 - mape: 29.7624 - mse: 0.6551 - val_loss: 0.1303 - val_mae: 0.1303 - val_mape: 12.2783 - val_mse: 0.0301 - learning_rate: 0.0010\n",
      "Epoch 30/200\n",
      "\u001b[1m31/31\u001b[0m \u001b[32m━━━━━━━━━━━━━━━━━━━━\u001b[0m\u001b[37m\u001b[0m \u001b[1m0s\u001b[0m 5ms/step - loss: 0.2217 - mae: 0.2217 - mape: 22.0998 - mse: 0.1539 - val_loss: 0.2181 - val_mae: 0.2181 - val_mape: 20.8734 - val_mse: 0.0657 - learning_rate: 0.0010\n",
      "Epoch 31/200\n",
      "\u001b[1m31/31\u001b[0m \u001b[32m━━━━━━━━━━━━━━━━━━━━\u001b[0m\u001b[37m\u001b[0m \u001b[1m0s\u001b[0m 5ms/step - loss: 0.1959 - mae: 0.1959 - mape: 19.2884 - mse: 0.1190 - val_loss: 0.1460 - val_mae: 0.1460 - val_mape: 13.7482 - val_mse: 0.0354 - learning_rate: 5.0000e-04\n",
      "Epoch 32/200\n",
      "\u001b[1m31/31\u001b[0m \u001b[32m━━━━━━━━━━━━━━━━━━━━\u001b[0m\u001b[37m\u001b[0m \u001b[1m0s\u001b[0m 5ms/step - loss: 0.2015 - mae: 0.2015 - mape: 20.0332 - mse: 0.1140 - val_loss: 0.1077 - val_mae: 0.1077 - val_mape: 10.4159 - val_mse: 0.0209 - learning_rate: 5.0000e-04\n",
      "Epoch 33/200\n",
      "\u001b[1m31/31\u001b[0m \u001b[32m━━━━━━━━━━━━━━━━━━━━\u001b[0m\u001b[37m\u001b[0m \u001b[1m0s\u001b[0m 5ms/step - loss: 0.1682 - mae: 0.1682 - mape: 16.5323 - mse: 0.0782 - val_loss: 0.1396 - val_mae: 0.1396 - val_mape: 13.1240 - val_mse: 0.0331 - learning_rate: 5.0000e-04\n",
      "Epoch 34/200\n",
      "\u001b[1m31/31\u001b[0m \u001b[32m━━━━━━━━━━━━━━━━━━━━\u001b[0m\u001b[37m\u001b[0m \u001b[1m0s\u001b[0m 5ms/step - loss: 0.1918 - mae: 0.1918 - mape: 19.3425 - mse: 0.1359 - val_loss: 0.1108 - val_mae: 0.1108 - val_mape: 10.6076 - val_mse: 0.0225 - learning_rate: 5.0000e-04\n",
      "Epoch 35/200\n",
      "\u001b[1m31/31\u001b[0m \u001b[32m━━━━━━━━━━━━━━━━━━━━\u001b[0m\u001b[37m\u001b[0m \u001b[1m0s\u001b[0m 5ms/step - loss: 0.2259 - mae: 0.2259 - mape: 23.0041 - mse: 0.2128 - val_loss: 0.1548 - val_mae: 0.1548 - val_mape: 14.5155 - val_mse: 0.0392 - learning_rate: 5.0000e-04\n",
      "Epoch 36/200\n",
      "\u001b[1m31/31\u001b[0m \u001b[32m━━━━━━━━━━━━━━━━━━━━\u001b[0m\u001b[37m\u001b[0m \u001b[1m0s\u001b[0m 5ms/step - loss: 0.2233 - mae: 0.2233 - mape: 22.3605 - mse: 0.2125 - val_loss: 0.1312 - val_mae: 0.1312 - val_mape: 12.3106 - val_mse: 0.0300 - learning_rate: 5.0000e-04\n",
      "Epoch 37/200\n",
      "\u001b[1m31/31\u001b[0m \u001b[32m━━━━━━━━━━━━━━━━━━━━\u001b[0m\u001b[37m\u001b[0m \u001b[1m0s\u001b[0m 5ms/step - loss: 0.2267 - mae: 0.2267 - mape: 22.0070 - mse: 0.1441 - val_loss: 0.1148 - val_mae: 0.1148 - val_mape: 10.9044 - val_mse: 0.0238 - learning_rate: 5.0000e-04\n",
      "Epoch 38/200\n",
      "\u001b[1m31/31\u001b[0m \u001b[32m━━━━━━━━━━━━━━━━━━━━\u001b[0m\u001b[37m\u001b[0m \u001b[1m0s\u001b[0m 5ms/step - loss: 0.1919 - mae: 0.1919 - mape: 18.9253 - mse: 0.2688 - val_loss: 0.1113 - val_mae: 0.1113 - val_mape: 10.5873 - val_mse: 0.0227 - learning_rate: 2.5000e-04\n",
      "Epoch 39/200\n",
      "\u001b[1m31/31\u001b[0m \u001b[32m━━━━━━━━━━━━━━━━━━━━\u001b[0m\u001b[37m\u001b[0m \u001b[1m0s\u001b[0m 5ms/step - loss: 0.1880 - mae: 0.1880 - mape: 18.2775 - mse: 0.1160 - val_loss: 0.1112 - val_mae: 0.1112 - val_mape: 10.5538 - val_mse: 0.0228 - learning_rate: 2.5000e-04\n",
      "Epoch 40/200\n",
      "\u001b[1m31/31\u001b[0m \u001b[32m━━━━━━━━━━━━━━━━━━━━\u001b[0m\u001b[37m\u001b[0m \u001b[1m0s\u001b[0m 5ms/step - loss: 0.1787 - mae: 0.1787 - mape: 17.5900 - mse: 0.1014 - val_loss: 0.1165 - val_mae: 0.1165 - val_mape: 10.9931 - val_mse: 0.0248 - learning_rate: 2.5000e-04\n",
      "Epoch 41/200\n",
      "\u001b[1m31/31\u001b[0m \u001b[32m━━━━━━━━━━━━━━━━━━━━\u001b[0m\u001b[37m\u001b[0m \u001b[1m0s\u001b[0m 5ms/step - loss: 0.2451 - mae: 0.2451 - mape: 25.2229 - mse: 0.6788 - val_loss: 0.1084 - val_mae: 0.1084 - val_mape: 10.3841 - val_mse: 0.0214 - learning_rate: 2.5000e-04\n",
      "Epoch 42/200\n",
      "\u001b[1m31/31\u001b[0m \u001b[32m━━━━━━━━━━━━━━━━━━━━\u001b[0m\u001b[37m\u001b[0m \u001b[1m0s\u001b[0m 5ms/step - loss: 0.1610 - mae: 0.1610 - mape: 15.8499 - mse: 0.0934 - val_loss: 0.1226 - val_mae: 0.1226 - val_mape: 11.5031 - val_mse: 0.0271 - learning_rate: 2.5000e-04\n",
      "Epoch 43/200\n",
      "\u001b[1m31/31\u001b[0m \u001b[32m━━━━━━━━━━━━━━━━━━━━\u001b[0m\u001b[37m\u001b[0m \u001b[1m0s\u001b[0m 5ms/step - loss: 0.1628 - mae: 0.1628 - mape: 15.9707 - mse: 0.1454 - val_loss: 0.1227 - val_mae: 0.1227 - val_mape: 11.5018 - val_mse: 0.0272 - learning_rate: 1.2500e-04\n",
      "Epoch 44/200\n",
      "\u001b[1m31/31\u001b[0m \u001b[32m━━━━━━━━━━━━━━━━━━━━\u001b[0m\u001b[37m\u001b[0m \u001b[1m0s\u001b[0m 5ms/step - loss: 0.1686 - mae: 0.1686 - mape: 16.4699 - mse: 0.0842 - val_loss: 0.1220 - val_mae: 0.1220 - val_mape: 11.4331 - val_mse: 0.0270 - learning_rate: 1.2500e-04\n",
      "Epoch 45/200\n",
      "\u001b[1m31/31\u001b[0m \u001b[32m━━━━━━━━━━━━━━━━━━━━\u001b[0m\u001b[37m\u001b[0m \u001b[1m0s\u001b[0m 5ms/step - loss: 0.1655 - mae: 0.1655 - mape: 16.1789 - mse: 0.0769 - val_loss: 0.1147 - val_mae: 0.1147 - val_mape: 10.8067 - val_mse: 0.0243 - learning_rate: 1.2500e-04\n",
      "Epoch 46/200\n",
      "\u001b[1m31/31\u001b[0m \u001b[32m━━━━━━━━━━━━━━━━━━━━\u001b[0m\u001b[37m\u001b[0m \u001b[1m0s\u001b[0m 5ms/step - loss: 0.1834 - mae: 0.1834 - mape: 18.1652 - mse: 0.2107 - val_loss: 0.1161 - val_mae: 0.1161 - val_mape: 10.9276 - val_mse: 0.0249 - learning_rate: 1.2500e-04\n",
      "Epoch 47/200\n",
      "\u001b[1m31/31\u001b[0m \u001b[32m━━━━━━━━━━━━━━━━━━━━\u001b[0m\u001b[37m\u001b[0m \u001b[1m0s\u001b[0m 5ms/step - loss: 0.1429 - mae: 0.1429 - mape: 14.0447 - mse: 0.0470 - val_loss: 0.1210 - val_mae: 0.1210 - val_mape: 11.3521 - val_mse: 0.0266 - learning_rate: 1.2500e-04\n",
      "Epoch 48/200\n",
      "\u001b[1m31/31\u001b[0m \u001b[32m━━━━━━━━━━━━━━━━━━━━\u001b[0m\u001b[37m\u001b[0m \u001b[1m0s\u001b[0m 5ms/step - loss: 0.1480 - mae: 0.1480 - mape: 14.4771 - mse: 0.0572 - val_loss: 0.1204 - val_mae: 0.1204 - val_mape: 11.3116 - val_mse: 0.0262 - learning_rate: 6.2500e-05\n",
      "Epoch 49/200\n",
      "\u001b[1m31/31\u001b[0m \u001b[32m━━━━━━━━━━━━━━━━━━━━\u001b[0m\u001b[37m\u001b[0m \u001b[1m0s\u001b[0m 5ms/step - loss: 0.1760 - mae: 0.1760 - mape: 17.4640 - mse: 0.1544 - val_loss: 0.1174 - val_mae: 0.1174 - val_mape: 11.0533 - val_mse: 0.0250 - learning_rate: 6.2500e-05\n",
      "Epoch 50/200\n",
      "\u001b[1m31/31\u001b[0m \u001b[32m━━━━━━━━━━━━━━━━━━━━\u001b[0m\u001b[37m\u001b[0m \u001b[1m0s\u001b[0m 5ms/step - loss: 0.1811 - mae: 0.1811 - mape: 17.6787 - mse: 0.1255 - val_loss: 0.1145 - val_mae: 0.1145 - val_mape: 10.8006 - val_mse: 0.0241 - learning_rate: 6.2500e-05\n",
      "Epoch 51/200\n",
      "\u001b[1m31/31\u001b[0m \u001b[32m━━━━━━━━━━━━━━━━━━━━\u001b[0m\u001b[37m\u001b[0m \u001b[1m0s\u001b[0m 5ms/step - loss: 0.2006 - mae: 0.2006 - mape: 18.7288 - mse: 0.3282 - val_loss: 0.1227 - val_mae: 0.1227 - val_mape: 11.4971 - val_mse: 0.0272 - learning_rate: 6.2500e-05\n",
      "Epoch 52/200\n",
      "\u001b[1m31/31\u001b[0m \u001b[32m━━━━━━━━━━━━━━━━━━━━\u001b[0m\u001b[37m\u001b[0m \u001b[1m0s\u001b[0m 5ms/step - loss: 0.1650 - mae: 0.1650 - mape: 15.7571 - mse: 0.1045 - val_loss: 0.1210 - val_mae: 0.1210 - val_mape: 11.3543 - val_mse: 0.0266 - learning_rate: 6.2500e-05\n"
     ]
    }
   ],
   "source": [
    "history = model_Density.fit(\n",
    "    X_train_D, Y_train_D,\n",
    "    validation_data=(X_test_D, Y_test_D),\n",
    "    epochs=200,\n",
    "    batch_size=16,   \n",
    "    callbacks=[\n",
    "        tf.keras.callbacks.EarlyStopping(monitor=\"val_mae\", patience=20, restore_best_weights=True),\n",
    "        tf.keras.callbacks.ReduceLROnPlateau(monitor=\"val_mae\", factor=0.5, patience=5)\n",
    "    ]\n",
    ")"
   ]
  },
  {
   "cell_type": "code",
   "execution_count": 36,
   "id": "d93d2de6",
   "metadata": {
    "execution": {
     "iopub.execute_input": "2025-08-17T19:13:05.225356Z",
     "iopub.status.busy": "2025-08-17T19:13:05.224787Z",
     "iopub.status.idle": "2025-08-17T19:13:05.719678Z",
     "shell.execute_reply": "2025-08-17T19:13:05.718977Z"
    },
    "papermill": {
     "duration": 0.56064,
     "end_time": "2025-08-17T19:13:05.720801",
     "exception": false,
     "start_time": "2025-08-17T19:13:05.160161",
     "status": "completed"
    },
    "tags": []
   },
   "outputs": [
    {
     "name": "stdout",
     "output_type": "stream",
     "text": [
      "\u001b[1m4/4\u001b[0m \u001b[32m━━━━━━━━━━━━━━━━━━━━\u001b[0m\u001b[37m\u001b[0m \u001b[1m0s\u001b[0m 79ms/step - loss: 0.1081 - mae: 0.1081 - mape: 10.5838 - mse: 0.0198\n",
      "Test loss: 0.10766863077878952\n",
      "Test MAE: 0.10766863077878952\n",
      "Test MSE: 0.020917141810059547\n",
      "Test MAPE: 10.415931701660156\n"
     ]
    }
   ],
   "source": [
    "results = model_Density.evaluate(X_test_D, Y_test_D)\n",
    "print(f\"Test loss: {results[0]}\")\n",
    "print(f\"Test MAE: {results[1]}\")\n",
    "print(f\"Test MSE: {results[2]}\")\n",
    "print(f\"Test MAPE: {results[3]}\")"
   ]
  },
  {
   "cell_type": "code",
   "execution_count": 37,
   "id": "836fb6c6",
   "metadata": {
    "execution": {
     "iopub.execute_input": "2025-08-17T19:13:05.851116Z",
     "iopub.status.busy": "2025-08-17T19:13:05.850904Z",
     "iopub.status.idle": "2025-08-17T19:13:05.853872Z",
     "shell.execute_reply": "2025-08-17T19:13:05.853311Z"
    },
    "papermill": {
     "duration": 0.06872,
     "end_time": "2025-08-17T19:13:05.854977",
     "exception": false,
     "start_time": "2025-08-17T19:13:05.786257",
     "status": "completed"
    },
    "tags": []
   },
   "outputs": [],
   "source": [
    "# model_Rg.fit(X_train_Rg, Y_train_Rg, epochs = 25, batch_size=16)"
   ]
  },
  {
   "cell_type": "code",
   "execution_count": 38,
   "id": "f232386c",
   "metadata": {
    "execution": {
     "iopub.execute_input": "2025-08-17T19:13:05.984879Z",
     "iopub.status.busy": "2025-08-17T19:13:05.984658Z",
     "iopub.status.idle": "2025-08-17T19:13:18.927351Z",
     "shell.execute_reply": "2025-08-17T19:13:18.926805Z"
    },
    "papermill": {
     "duration": 13.009334,
     "end_time": "2025-08-17T19:13:18.928668",
     "exception": false,
     "start_time": "2025-08-17T19:13:05.919334",
     "status": "completed"
    },
    "tags": []
   },
   "outputs": [
    {
     "name": "stdout",
     "output_type": "stream",
     "text": [
      "Epoch 1/200\n",
      "\u001b[1m31/31\u001b[0m \u001b[32m━━━━━━━━━━━━━━━━━━━━\u001b[0m\u001b[37m\u001b[0m \u001b[1m5s\u001b[0m 64ms/step - loss: 39.7161 - mae: 39.7161 - mape: 266.3666 - mse: 2527.4841 - val_loss: 10.7530 - val_mae: 10.7530 - val_mape: 66.5835 - val_mse: 182.9625 - learning_rate: 0.0010\n",
      "Epoch 2/200\n",
      "\u001b[1m31/31\u001b[0m \u001b[32m━━━━━━━━━━━━━━━━━━━━\u001b[0m\u001b[37m\u001b[0m \u001b[1m0s\u001b[0m 5ms/step - loss: 24.4255 - mae: 24.4255 - mape: 158.7139 - mse: 946.7323 - val_loss: 8.0812 - val_mae: 8.0812 - val_mape: 47.2927 - val_mse: 107.2888 - learning_rate: 0.0010\n",
      "Epoch 3/200\n",
      "\u001b[1m31/31\u001b[0m \u001b[32m━━━━━━━━━━━━━━━━━━━━\u001b[0m\u001b[37m\u001b[0m \u001b[1m0s\u001b[0m 5ms/step - loss: 15.3051 - mae: 15.3051 - mape: 97.5432 - mse: 386.6732 - val_loss: 7.1572 - val_mae: 7.1572 - val_mape: 42.9836 - val_mse: 72.0040 - learning_rate: 0.0010\n",
      "Epoch 4/200\n",
      "\u001b[1m31/31\u001b[0m \u001b[32m━━━━━━━━━━━━━━━━━━━━\u001b[0m\u001b[37m\u001b[0m \u001b[1m0s\u001b[0m 5ms/step - loss: 11.8473 - mae: 11.8473 - mape: 71.4805 - mse: 249.9698 - val_loss: 5.7359 - val_mae: 5.7359 - val_mape: 35.1431 - val_mse: 47.7297 - learning_rate: 0.0010\n",
      "Epoch 5/200\n",
      "\u001b[1m31/31\u001b[0m \u001b[32m━━━━━━━━━━━━━━━━━━━━\u001b[0m\u001b[37m\u001b[0m \u001b[1m0s\u001b[0m 5ms/step - loss: 10.5255 - mae: 10.5255 - mape: 62.9970 - mse: 196.7015 - val_loss: 6.6053 - val_mae: 6.6053 - val_mape: 41.0371 - val_mse: 57.9584 - learning_rate: 0.0010\n",
      "Epoch 6/200\n",
      "\u001b[1m31/31\u001b[0m \u001b[32m━━━━━━━━━━━━━━━━━━━━\u001b[0m\u001b[37m\u001b[0m \u001b[1m0s\u001b[0m 5ms/step - loss: 8.4977 - mae: 8.4977 - mape: 52.9178 - mse: 142.3634 - val_loss: 5.9734 - val_mae: 5.9734 - val_mape: 34.5721 - val_mse: 50.9209 - learning_rate: 0.0010\n",
      "Epoch 7/200\n",
      "\u001b[1m31/31\u001b[0m \u001b[32m━━━━━━━━━━━━━━━━━━━━\u001b[0m\u001b[37m\u001b[0m \u001b[1m0s\u001b[0m 5ms/step - loss: 7.3446 - mae: 7.3446 - mape: 45.4224 - mse: 87.0445 - val_loss: 5.4680 - val_mae: 5.4680 - val_mape: 31.2071 - val_mse: 44.0200 - learning_rate: 0.0010\n",
      "Epoch 8/200\n",
      "\u001b[1m31/31\u001b[0m \u001b[32m━━━━━━━━━━━━━━━━━━━━\u001b[0m\u001b[37m\u001b[0m \u001b[1m0s\u001b[0m 5ms/step - loss: 7.4223 - mae: 7.4223 - mape: 45.5215 - mse: 94.8671 - val_loss: 7.0307 - val_mae: 7.0307 - val_mape: 41.1440 - val_mse: 64.1635 - learning_rate: 0.0010\n",
      "Epoch 9/200\n",
      "\u001b[1m31/31\u001b[0m \u001b[32m━━━━━━━━━━━━━━━━━━━━\u001b[0m\u001b[37m\u001b[0m \u001b[1m0s\u001b[0m 5ms/step - loss: 6.1367 - mae: 6.1367 - mape: 37.8136 - mse: 62.9377 - val_loss: 6.2129 - val_mae: 6.2129 - val_mape: 35.4961 - val_mse: 52.7970 - learning_rate: 0.0010\n",
      "Epoch 10/200\n",
      "\u001b[1m31/31\u001b[0m \u001b[32m━━━━━━━━━━━━━━━━━━━━\u001b[0m\u001b[37m\u001b[0m \u001b[1m0s\u001b[0m 5ms/step - loss: 6.0114 - mae: 6.0114 - mape: 36.4042 - mse: 57.7304 - val_loss: 5.1262 - val_mae: 5.1262 - val_mape: 27.9579 - val_mse: 41.0618 - learning_rate: 0.0010\n",
      "Epoch 11/200\n",
      "\u001b[1m31/31\u001b[0m \u001b[32m━━━━━━━━━━━━━━━━━━━━\u001b[0m\u001b[37m\u001b[0m \u001b[1m0s\u001b[0m 5ms/step - loss: 5.4530 - mae: 5.4530 - mape: 33.5851 - mse: 50.2912 - val_loss: 5.3782 - val_mae: 5.3782 - val_mape: 29.6250 - val_mse: 42.8306 - learning_rate: 0.0010\n",
      "Epoch 12/200\n",
      "\u001b[1m31/31\u001b[0m \u001b[32m━━━━━━━━━━━━━━━━━━━━\u001b[0m\u001b[37m\u001b[0m \u001b[1m0s\u001b[0m 5ms/step - loss: 5.5330 - mae: 5.5330 - mape: 34.4608 - mse: 52.8651 - val_loss: 5.5686 - val_mae: 5.5686 - val_mape: 31.0164 - val_mse: 45.3832 - learning_rate: 0.0010\n",
      "Epoch 13/200\n",
      "\u001b[1m31/31\u001b[0m \u001b[32m━━━━━━━━━━━━━━━━━━━━\u001b[0m\u001b[37m\u001b[0m \u001b[1m0s\u001b[0m 5ms/step - loss: 5.5199 - mae: 5.5199 - mape: 34.6335 - mse: 52.5547 - val_loss: 3.9295 - val_mae: 3.9295 - val_mape: 20.7106 - val_mse: 27.8244 - learning_rate: 0.0010\n",
      "Epoch 14/200\n",
      "\u001b[1m31/31\u001b[0m \u001b[32m━━━━━━━━━━━━━━━━━━━━\u001b[0m\u001b[37m\u001b[0m \u001b[1m0s\u001b[0m 5ms/step - loss: 5.1064 - mae: 5.1064 - mape: 31.5923 - mse: 45.0991 - val_loss: 4.6787 - val_mae: 4.6787 - val_mape: 24.8104 - val_mse: 36.4847 - learning_rate: 0.0010\n",
      "Epoch 15/200\n",
      "\u001b[1m31/31\u001b[0m \u001b[32m━━━━━━━━━━━━━━━━━━━━\u001b[0m\u001b[37m\u001b[0m \u001b[1m0s\u001b[0m 5ms/step - loss: 5.0941 - mae: 5.0941 - mape: 31.6201 - mse: 50.9418 - val_loss: 3.9693 - val_mae: 3.9693 - val_mape: 20.7864 - val_mse: 29.5104 - learning_rate: 0.0010\n",
      "Epoch 16/200\n",
      "\u001b[1m31/31\u001b[0m \u001b[32m━━━━━━━━━━━━━━━━━━━━\u001b[0m\u001b[37m\u001b[0m \u001b[1m0s\u001b[0m 5ms/step - loss: 4.8875 - mae: 4.8875 - mape: 30.9093 - mse: 37.5958 - val_loss: 4.4994 - val_mae: 4.4994 - val_mape: 24.5439 - val_mse: 34.4943 - learning_rate: 0.0010\n",
      "Epoch 17/200\n",
      "\u001b[1m31/31\u001b[0m \u001b[32m━━━━━━━━━━━━━━━━━━━━\u001b[0m\u001b[37m\u001b[0m \u001b[1m0s\u001b[0m 5ms/step - loss: 4.2719 - mae: 4.2719 - mape: 25.7877 - mse: 32.9900 - val_loss: 4.4320 - val_mae: 4.4320 - val_mape: 24.3126 - val_mse: 32.7490 - learning_rate: 0.0010\n",
      "Epoch 18/200\n",
      "\u001b[1m31/31\u001b[0m \u001b[32m━━━━━━━━━━━━━━━━━━━━\u001b[0m\u001b[37m\u001b[0m \u001b[1m0s\u001b[0m 5ms/step - loss: 4.9678 - mae: 4.9678 - mape: 30.1232 - mse: 43.0993 - val_loss: 4.3853 - val_mae: 4.3853 - val_mape: 23.2821 - val_mse: 33.1974 - learning_rate: 0.0010\n",
      "Epoch 19/200\n",
      "\u001b[1m31/31\u001b[0m \u001b[32m━━━━━━━━━━━━━━━━━━━━\u001b[0m\u001b[37m\u001b[0m \u001b[1m0s\u001b[0m 5ms/step - loss: 4.9371 - mae: 4.9371 - mape: 30.0409 - mse: 41.7601 - val_loss: 3.9518 - val_mae: 3.9518 - val_mape: 20.5173 - val_mse: 29.1002 - learning_rate: 5.0000e-04\n",
      "Epoch 20/200\n",
      "\u001b[1m31/31\u001b[0m \u001b[32m━━━━━━━━━━━━━━━━━━━━\u001b[0m\u001b[37m\u001b[0m \u001b[1m0s\u001b[0m 5ms/step - loss: 4.4396 - mae: 4.4396 - mape: 27.8439 - mse: 34.6254 - val_loss: 4.9175 - val_mae: 4.9175 - val_mape: 26.5149 - val_mse: 38.5190 - learning_rate: 5.0000e-04\n",
      "Epoch 21/200\n",
      "\u001b[1m31/31\u001b[0m \u001b[32m━━━━━━━━━━━━━━━━━━━━\u001b[0m\u001b[37m\u001b[0m \u001b[1m0s\u001b[0m 5ms/step - loss: 4.5702 - mae: 4.5702 - mape: 27.8703 - mse: 34.4483 - val_loss: 4.3985 - val_mae: 4.3985 - val_mape: 23.4237 - val_mse: 32.8538 - learning_rate: 5.0000e-04\n",
      "Epoch 22/200\n",
      "\u001b[1m31/31\u001b[0m \u001b[32m━━━━━━━━━━━━━━━━━━━━\u001b[0m\u001b[37m\u001b[0m \u001b[1m0s\u001b[0m 5ms/step - loss: 4.5361 - mae: 4.5361 - mape: 27.8557 - mse: 36.3919 - val_loss: 3.7047 - val_mae: 3.7047 - val_mape: 19.0723 - val_mse: 26.6245 - learning_rate: 5.0000e-04\n",
      "Epoch 23/200\n",
      "\u001b[1m31/31\u001b[0m \u001b[32m━━━━━━━━━━━━━━━━━━━━\u001b[0m\u001b[37m\u001b[0m \u001b[1m0s\u001b[0m 5ms/step - loss: 4.5654 - mae: 4.5654 - mape: 27.9061 - mse: 34.0174 - val_loss: 3.7887 - val_mae: 3.7887 - val_mape: 19.6942 - val_mse: 27.1028 - learning_rate: 5.0000e-04\n",
      "Epoch 24/200\n",
      "\u001b[1m31/31\u001b[0m \u001b[32m━━━━━━━━━━━━━━━━━━━━\u001b[0m\u001b[37m\u001b[0m \u001b[1m0s\u001b[0m 5ms/step - loss: 4.1616 - mae: 4.1616 - mape: 25.6605 - mse: 28.4356 - val_loss: 3.6281 - val_mae: 3.6281 - val_mape: 19.0065 - val_mse: 25.0217 - learning_rate: 5.0000e-04\n",
      "Epoch 25/200\n",
      "\u001b[1m31/31\u001b[0m \u001b[32m━━━━━━━━━━━━━━━━━━━━\u001b[0m\u001b[37m\u001b[0m \u001b[1m0s\u001b[0m 5ms/step - loss: 4.3174 - mae: 4.3174 - mape: 26.7224 - mse: 30.8629 - val_loss: 4.1631 - val_mae: 4.1631 - val_mape: 22.3268 - val_mse: 29.8255 - learning_rate: 5.0000e-04\n",
      "Epoch 26/200\n",
      "\u001b[1m31/31\u001b[0m \u001b[32m━━━━━━━━━━━━━━━━━━━━\u001b[0m\u001b[37m\u001b[0m \u001b[1m0s\u001b[0m 5ms/step - loss: 4.0603 - mae: 4.0603 - mape: 25.2045 - mse: 26.3412 - val_loss: 3.7786 - val_mae: 3.7786 - val_mape: 20.1341 - val_mse: 25.6606 - learning_rate: 5.0000e-04\n",
      "Epoch 27/200\n",
      "\u001b[1m31/31\u001b[0m \u001b[32m━━━━━━━━━━━━━━━━━━━━\u001b[0m\u001b[37m\u001b[0m \u001b[1m0s\u001b[0m 5ms/step - loss: 4.5894 - mae: 4.5894 - mape: 27.7144 - mse: 37.9902 - val_loss: 3.7995 - val_mae: 3.7995 - val_mape: 20.0558 - val_mse: 25.9377 - learning_rate: 5.0000e-04\n",
      "Epoch 28/200\n",
      "\u001b[1m31/31\u001b[0m \u001b[32m━━━━━━━━━━━━━━━━━━━━\u001b[0m\u001b[37m\u001b[0m \u001b[1m0s\u001b[0m 5ms/step - loss: 4.1259 - mae: 4.1259 - mape: 25.5742 - mse: 29.7398 - val_loss: 4.1516 - val_mae: 4.1516 - val_mape: 22.2889 - val_mse: 29.0931 - learning_rate: 5.0000e-04\n",
      "Epoch 29/200\n",
      "\u001b[1m31/31\u001b[0m \u001b[32m━━━━━━━━━━━━━━━━━━━━\u001b[0m\u001b[37m\u001b[0m \u001b[1m0s\u001b[0m 5ms/step - loss: 4.1361 - mae: 4.1361 - mape: 25.4768 - mse: 28.7881 - val_loss: 3.0356 - val_mae: 3.0356 - val_mape: 15.8818 - val_mse: 19.3204 - learning_rate: 5.0000e-04\n",
      "Epoch 30/200\n",
      "\u001b[1m31/31\u001b[0m \u001b[32m━━━━━━━━━━━━━━━━━━━━\u001b[0m\u001b[37m\u001b[0m \u001b[1m0s\u001b[0m 5ms/step - loss: 4.0578 - mae: 4.0578 - mape: 25.2488 - mse: 28.4177 - val_loss: 2.9224 - val_mae: 2.9224 - val_mape: 15.2594 - val_mse: 18.3288 - learning_rate: 5.0000e-04\n",
      "Epoch 31/200\n",
      "\u001b[1m31/31\u001b[0m \u001b[32m━━━━━━━━━━━━━━━━━━━━\u001b[0m\u001b[37m\u001b[0m \u001b[1m0s\u001b[0m 5ms/step - loss: 4.1168 - mae: 4.1168 - mape: 25.7186 - mse: 28.9845 - val_loss: 3.8259 - val_mae: 3.8259 - val_mape: 20.2491 - val_mse: 26.0866 - learning_rate: 5.0000e-04\n",
      "Epoch 32/200\n",
      "\u001b[1m31/31\u001b[0m \u001b[32m━━━━━━━━━━━━━━━━━━━━\u001b[0m\u001b[37m\u001b[0m \u001b[1m0s\u001b[0m 5ms/step - loss: 4.1063 - mae: 4.1063 - mape: 24.8268 - mse: 26.6915 - val_loss: 3.5517 - val_mae: 3.5517 - val_mape: 18.7478 - val_mse: 23.5999 - learning_rate: 5.0000e-04\n",
      "Epoch 33/200\n",
      "\u001b[1m31/31\u001b[0m \u001b[32m━━━━━━━━━━━━━━━━━━━━\u001b[0m\u001b[37m\u001b[0m \u001b[1m0s\u001b[0m 5ms/step - loss: 4.0158 - mae: 4.0158 - mape: 24.0638 - mse: 28.2351 - val_loss: 3.6958 - val_mae: 3.6958 - val_mape: 19.5727 - val_mse: 25.0707 - learning_rate: 5.0000e-04\n",
      "Epoch 34/200\n",
      "\u001b[1m31/31\u001b[0m \u001b[32m━━━━━━━━━━━━━━━━━━━━\u001b[0m\u001b[37m\u001b[0m \u001b[1m0s\u001b[0m 5ms/step - loss: 4.2851 - mae: 4.2851 - mape: 25.7930 - mse: 30.9675 - val_loss: 3.0278 - val_mae: 3.0278 - val_mape: 15.7242 - val_mse: 19.4694 - learning_rate: 5.0000e-04\n",
      "Epoch 35/200\n",
      "\u001b[1m31/31\u001b[0m \u001b[32m━━━━━━━━━━━━━━━━━━━━\u001b[0m\u001b[37m\u001b[0m \u001b[1m0s\u001b[0m 5ms/step - loss: 3.8936 - mae: 3.8936 - mape: 23.5238 - mse: 26.7490 - val_loss: 3.3210 - val_mae: 3.3210 - val_mape: 17.1602 - val_mse: 22.2985 - learning_rate: 5.0000e-04\n",
      "Epoch 36/200\n",
      "\u001b[1m31/31\u001b[0m \u001b[32m━━━━━━━━━━━━━━━━━━━━\u001b[0m\u001b[37m\u001b[0m \u001b[1m0s\u001b[0m 5ms/step - loss: 4.1038 - mae: 4.1038 - mape: 25.2283 - mse: 28.3622 - val_loss: 3.2716 - val_mae: 3.2716 - val_mape: 16.9535 - val_mse: 21.6622 - learning_rate: 2.5000e-04\n",
      "Epoch 37/200\n",
      "\u001b[1m31/31\u001b[0m \u001b[32m━━━━━━━━━━━━━━━━━━━━\u001b[0m\u001b[37m\u001b[0m \u001b[1m0s\u001b[0m 5ms/step - loss: 4.1079 - mae: 4.1079 - mape: 25.6291 - mse: 25.9809 - val_loss: 3.1334 - val_mae: 3.1334 - val_mape: 16.2389 - val_mse: 20.3284 - learning_rate: 2.5000e-04\n",
      "Epoch 38/200\n",
      "\u001b[1m31/31\u001b[0m \u001b[32m━━━━━━━━━━━━━━━━━━━━\u001b[0m\u001b[37m\u001b[0m \u001b[1m0s\u001b[0m 5ms/step - loss: 4.4762 - mae: 4.4762 - mape: 27.3148 - mse: 34.6520 - val_loss: 4.1071 - val_mae: 4.1071 - val_mape: 21.9287 - val_mse: 28.8077 - learning_rate: 2.5000e-04\n",
      "Epoch 39/200\n",
      "\u001b[1m31/31\u001b[0m \u001b[32m━━━━━━━━━━━━━━━━━━━━\u001b[0m\u001b[37m\u001b[0m \u001b[1m0s\u001b[0m 5ms/step - loss: 4.3408 - mae: 4.3408 - mape: 25.9159 - mse: 32.0737 - val_loss: 3.3361 - val_mae: 3.3361 - val_mape: 17.4882 - val_mse: 21.7927 - learning_rate: 2.5000e-04\n",
      "Epoch 40/200\n",
      "\u001b[1m31/31\u001b[0m \u001b[32m━━━━━━━━━━━━━━━━━━━━\u001b[0m\u001b[37m\u001b[0m \u001b[1m0s\u001b[0m 5ms/step - loss: 3.9438 - mae: 3.9438 - mape: 24.0727 - mse: 26.0737 - val_loss: 3.6335 - val_mae: 3.6335 - val_mape: 19.3741 - val_mse: 24.1912 - learning_rate: 2.5000e-04\n",
      "Epoch 41/200\n",
      "\u001b[1m31/31\u001b[0m \u001b[32m━━━━━━━━━━━━━━━━━━━━\u001b[0m\u001b[37m\u001b[0m \u001b[1m0s\u001b[0m 5ms/step - loss: 4.1821 - mae: 4.1821 - mape: 24.4981 - mse: 28.4340 - val_loss: 3.2258 - val_mae: 3.2258 - val_mape: 17.0627 - val_mse: 20.6152 - learning_rate: 1.2500e-04\n",
      "Epoch 42/200\n",
      "\u001b[1m31/31\u001b[0m \u001b[32m━━━━━━━━━━━━━━━━━━━━\u001b[0m\u001b[37m\u001b[0m \u001b[1m0s\u001b[0m 5ms/step - loss: 3.9776 - mae: 3.9776 - mape: 24.6822 - mse: 28.2207 - val_loss: 3.4001 - val_mae: 3.4001 - val_mape: 18.0466 - val_mse: 22.1229 - learning_rate: 1.2500e-04\n",
      "Epoch 43/200\n",
      "\u001b[1m31/31\u001b[0m \u001b[32m━━━━━━━━━━━━━━━━━━━━\u001b[0m\u001b[37m\u001b[0m \u001b[1m0s\u001b[0m 5ms/step - loss: 3.9223 - mae: 3.9223 - mape: 24.2135 - mse: 26.6699 - val_loss: 3.4696 - val_mae: 3.4696 - val_mape: 18.4233 - val_mse: 22.7089 - learning_rate: 1.2500e-04\n",
      "Epoch 44/200\n",
      "\u001b[1m31/31\u001b[0m \u001b[32m━━━━━━━━━━━━━━━━━━━━\u001b[0m\u001b[37m\u001b[0m \u001b[1m0s\u001b[0m 5ms/step - loss: 4.2129 - mae: 4.2129 - mape: 25.2989 - mse: 28.5452 - val_loss: 3.3907 - val_mae: 3.3907 - val_mape: 17.8800 - val_mse: 22.1306 - learning_rate: 1.2500e-04\n",
      "Epoch 45/200\n",
      "\u001b[1m31/31\u001b[0m \u001b[32m━━━━━━━━━━━━━━━━━━━━\u001b[0m\u001b[37m\u001b[0m \u001b[1m0s\u001b[0m 5ms/step - loss: 3.9781 - mae: 3.9781 - mape: 24.5849 - mse: 26.8814 - val_loss: 3.1984 - val_mae: 3.1984 - val_mape: 16.7562 - val_mse: 20.5683 - learning_rate: 1.2500e-04\n",
      "Epoch 46/200\n",
      "\u001b[1m31/31\u001b[0m \u001b[32m━━━━━━━━━━━━━━━━━━━━\u001b[0m\u001b[37m\u001b[0m \u001b[1m0s\u001b[0m 5ms/step - loss: 3.7283 - mae: 3.7283 - mape: 23.0919 - mse: 23.5425 - val_loss: 3.2658 - val_mae: 3.2658 - val_mape: 17.0983 - val_mse: 21.1943 - learning_rate: 6.2500e-05\n",
      "Epoch 47/200\n",
      "\u001b[1m31/31\u001b[0m \u001b[32m━━━━━━━━━━━━━━━━━━━━\u001b[0m\u001b[37m\u001b[0m \u001b[1m0s\u001b[0m 5ms/step - loss: 3.6772 - mae: 3.6772 - mape: 22.4710 - mse: 22.6289 - val_loss: 3.3631 - val_mae: 3.3631 - val_mape: 17.6401 - val_mse: 22.0593 - learning_rate: 6.2500e-05\n",
      "Epoch 48/200\n",
      "\u001b[1m31/31\u001b[0m \u001b[32m━━━━━━━━━━━━━━━━━━━━\u001b[0m\u001b[37m\u001b[0m \u001b[1m0s\u001b[0m 5ms/step - loss: 4.0057 - mae: 4.0057 - mape: 24.4593 - mse: 26.5993 - val_loss: 3.3943 - val_mae: 3.3943 - val_mape: 17.8294 - val_mse: 22.2978 - learning_rate: 6.2500e-05\n",
      "Epoch 49/200\n",
      "\u001b[1m31/31\u001b[0m \u001b[32m━━━━━━━━━━━━━━━━━━━━\u001b[0m\u001b[37m\u001b[0m \u001b[1m0s\u001b[0m 5ms/step - loss: 4.1677 - mae: 4.1677 - mape: 24.8164 - mse: 29.8282 - val_loss: 3.3776 - val_mae: 3.3776 - val_mape: 17.7371 - val_mse: 22.1568 - learning_rate: 6.2500e-05\n",
      "Epoch 50/200\n",
      "\u001b[1m31/31\u001b[0m \u001b[32m━━━━━━━━━━━━━━━━━━━━\u001b[0m\u001b[37m\u001b[0m \u001b[1m0s\u001b[0m 5ms/step - loss: 4.1396 - mae: 4.1396 - mape: 25.0253 - mse: 28.6661 - val_loss: 3.4662 - val_mae: 3.4662 - val_mape: 18.2922 - val_mse: 22.8429 - learning_rate: 6.2500e-05\n"
     ]
    }
   ],
   "source": [
    "history = model_Rg.fit(\n",
    "    X_train_Rg, Y_train_Rg,\n",
    "    validation_data=(X_test_Rg, Y_test_Rg),\n",
    "    epochs=200,\n",
    "    batch_size=16,   \n",
    "    callbacks=[\n",
    "        tf.keras.callbacks.EarlyStopping(monitor=\"val_mae\", patience=20, restore_best_weights=True),\n",
    "        tf.keras.callbacks.ReduceLROnPlateau(monitor=\"val_mae\", factor=0.5, patience=5)\n",
    "    ]\n",
    ")"
   ]
  },
  {
   "cell_type": "code",
   "execution_count": 39,
   "id": "8ac4c634",
   "metadata": {
    "execution": {
     "iopub.execute_input": "2025-08-17T19:13:19.076094Z",
     "iopub.status.busy": "2025-08-17T19:13:19.075839Z",
     "iopub.status.idle": "2025-08-17T19:13:19.518401Z",
     "shell.execute_reply": "2025-08-17T19:13:19.517761Z"
    },
    "papermill": {
     "duration": 0.516616,
     "end_time": "2025-08-17T19:13:19.519694",
     "exception": false,
     "start_time": "2025-08-17T19:13:19.003078",
     "status": "completed"
    },
    "tags": []
   },
   "outputs": [
    {
     "name": "stdout",
     "output_type": "stream",
     "text": [
      "\u001b[1m4/4\u001b[0m \u001b[32m━━━━━━━━━━━━━━━━━━━━\u001b[0m\u001b[37m\u001b[0m \u001b[1m0s\u001b[0m 71ms/step - loss: 3.0529 - mae: 3.0529 - mape: 16.1042 - mse: 18.3067\n",
      "Test loss: 2.922363519668579\n",
      "Test MAE: 2.922363519668579\n",
      "Test MSE: 18.32884407043457\n",
      "Test MAPE: 15.25938892364502\n"
     ]
    }
   ],
   "source": [
    "results = model_Rg.evaluate(X_test_Rg, Y_test_Rg)\n",
    "print(f\"Test loss: {results[0]}\")\n",
    "print(f\"Test MAE: {results[1]}\")\n",
    "print(f\"Test MSE: {results[2]}\")\n",
    "print(f\"Test MAPE: {results[3]}\")"
   ]
  },
  {
   "cell_type": "code",
   "execution_count": 40,
   "id": "d5b4e372",
   "metadata": {
    "execution": {
     "iopub.execute_input": "2025-08-17T19:13:19.666368Z",
     "iopub.status.busy": "2025-08-17T19:13:19.666094Z",
     "iopub.status.idle": "2025-08-17T19:13:19.905079Z",
     "shell.execute_reply": "2025-08-17T19:13:19.904513Z"
    },
    "papermill": {
     "duration": 0.31334,
     "end_time": "2025-08-17T19:13:19.906224",
     "exception": false,
     "start_time": "2025-08-17T19:13:19.592884",
     "status": "completed"
    },
    "tags": []
   },
   "outputs": [
    {
     "name": "stdout",
     "output_type": "stream",
     "text": [
      "\u001b[1m1/1\u001b[0m \u001b[32m━━━━━━━━━━━━━━━━━━━━\u001b[0m\u001b[37m\u001b[0m \u001b[1m0s\u001b[0m 189ms/step\n"
     ]
    },
    {
     "data": {
      "text/plain": [
       "array([[135.45674],\n",
       "       [206.54695],\n",
       "       [153.89232]], dtype=float32)"
      ]
     },
     "execution_count": 40,
     "metadata": {},
     "output_type": "execute_result"
    }
   ],
   "source": [
    "Y_Tg_sub = model_Tg.predict(X_sub)\n",
    "Y_Tg_sub"
   ]
  },
  {
   "cell_type": "code",
   "execution_count": 41,
   "id": "17915b17",
   "metadata": {
    "execution": {
     "iopub.execute_input": "2025-08-17T19:13:20.052206Z",
     "iopub.status.busy": "2025-08-17T19:13:20.051577Z",
     "iopub.status.idle": "2025-08-17T19:13:20.273514Z",
     "shell.execute_reply": "2025-08-17T19:13:20.272921Z"
    },
    "papermill": {
     "duration": 0.295838,
     "end_time": "2025-08-17T19:13:20.274577",
     "exception": false,
     "start_time": "2025-08-17T19:13:19.978739",
     "status": "completed"
    },
    "tags": []
   },
   "outputs": [
    {
     "name": "stdout",
     "output_type": "stream",
     "text": [
      "\u001b[1m1/1\u001b[0m \u001b[32m━━━━━━━━━━━━━━━━━━━━\u001b[0m\u001b[37m\u001b[0m \u001b[1m0s\u001b[0m 171ms/step\n"
     ]
    },
    {
     "data": {
      "text/plain": [
       "array([[0.24742995],\n",
       "       [0.2550468 ],\n",
       "       [0.2333528 ]], dtype=float32)"
      ]
     },
     "execution_count": 41,
     "metadata": {},
     "output_type": "execute_result"
    }
   ],
   "source": [
    "Y_Tc_sub = model_Tc.predict(X_sub)\n",
    "Y_Tc_sub"
   ]
  },
  {
   "cell_type": "code",
   "execution_count": 42,
   "id": "9dcb55bd",
   "metadata": {
    "execution": {
     "iopub.execute_input": "2025-08-17T19:13:20.468453Z",
     "iopub.status.busy": "2025-08-17T19:13:20.468192Z",
     "iopub.status.idle": "2025-08-17T19:13:20.713919Z",
     "shell.execute_reply": "2025-08-17T19:13:20.713335Z"
    },
    "papermill": {
     "duration": 0.319135,
     "end_time": "2025-08-17T19:13:20.714984",
     "exception": false,
     "start_time": "2025-08-17T19:13:20.395849",
     "status": "completed"
    },
    "tags": []
   },
   "outputs": [
    {
     "name": "stdout",
     "output_type": "stream",
     "text": [
      "\u001b[1m1/1\u001b[0m \u001b[32m━━━━━━━━━━━━━━━━━━━━\u001b[0m\u001b[37m\u001b[0m \u001b[1m0s\u001b[0m 195ms/step\n"
     ]
    },
    {
     "data": {
      "text/plain": [
       "array([[0.8925009 ],\n",
       "       [0.98353463],\n",
       "       [1.0418092 ]], dtype=float32)"
      ]
     },
     "execution_count": 42,
     "metadata": {},
     "output_type": "execute_result"
    }
   ],
   "source": [
    "Y_Density_sub = model_Density.predict(X_sub)\n",
    "Y_Density_sub"
   ]
  },
  {
   "cell_type": "code",
   "execution_count": 43,
   "id": "cd6623bc",
   "metadata": {
    "execution": {
     "iopub.execute_input": "2025-08-17T19:13:20.862684Z",
     "iopub.status.busy": "2025-08-17T19:13:20.862156Z",
     "iopub.status.idle": "2025-08-17T19:13:21.073370Z",
     "shell.execute_reply": "2025-08-17T19:13:21.072800Z"
    },
    "papermill": {
     "duration": 0.285106,
     "end_time": "2025-08-17T19:13:21.074537",
     "exception": false,
     "start_time": "2025-08-17T19:13:20.789431",
     "status": "completed"
    },
    "tags": []
   },
   "outputs": [
    {
     "name": "stdout",
     "output_type": "stream",
     "text": [
      "\u001b[1m1/1\u001b[0m \u001b[32m━━━━━━━━━━━━━━━━━━━━\u001b[0m\u001b[37m\u001b[0m \u001b[1m0s\u001b[0m 162ms/step\n"
     ]
    },
    {
     "data": {
      "text/plain": [
       "array([[17.040133],\n",
       "       [19.170553],\n",
       "       [16.61875 ]], dtype=float32)"
      ]
     },
     "execution_count": 43,
     "metadata": {},
     "output_type": "execute_result"
    }
   ],
   "source": [
    "Y_Rg_sub = model_Rg.predict(X_sub)\n",
    "Y_Rg_sub"
   ]
  },
  {
   "cell_type": "code",
   "execution_count": 44,
   "id": "2c347448",
   "metadata": {
    "execution": {
     "iopub.execute_input": "2025-08-17T19:13:21.223665Z",
     "iopub.status.busy": "2025-08-17T19:13:21.222943Z",
     "iopub.status.idle": "2025-08-17T19:13:21.232998Z",
     "shell.execute_reply": "2025-08-17T19:13:21.232375Z"
    },
    "papermill": {
     "duration": 0.085018,
     "end_time": "2025-08-17T19:13:21.234015",
     "exception": false,
     "start_time": "2025-08-17T19:13:21.148997",
     "status": "completed"
    },
    "tags": []
   },
   "outputs": [
    {
     "data": {
      "text/html": [
       "<div>\n",
       "<style scoped>\n",
       "    .dataframe tbody tr th:only-of-type {\n",
       "        vertical-align: middle;\n",
       "    }\n",
       "\n",
       "    .dataframe tbody tr th {\n",
       "        vertical-align: top;\n",
       "    }\n",
       "\n",
       "    .dataframe thead th {\n",
       "        text-align: right;\n",
       "    }\n",
       "</style>\n",
       "<table border=\"1\" class=\"dataframe\">\n",
       "  <thead>\n",
       "    <tr style=\"text-align: right;\">\n",
       "      <th></th>\n",
       "      <th>id</th>\n",
       "      <th>Tg</th>\n",
       "      <th>FFV</th>\n",
       "      <th>Tc</th>\n",
       "      <th>Density</th>\n",
       "      <th>Rg</th>\n",
       "    </tr>\n",
       "  </thead>\n",
       "  <tbody>\n",
       "    <tr>\n",
       "      <th>0</th>\n",
       "      <td>1109053969</td>\n",
       "      <td>135.456741</td>\n",
       "      <td>0.367985</td>\n",
       "      <td>0.247430</td>\n",
       "      <td>0.892501</td>\n",
       "      <td>17.040133</td>\n",
       "    </tr>\n",
       "    <tr>\n",
       "      <th>1</th>\n",
       "      <td>1422188626</td>\n",
       "      <td>206.546951</td>\n",
       "      <td>0.366379</td>\n",
       "      <td>0.255047</td>\n",
       "      <td>0.983535</td>\n",
       "      <td>19.170553</td>\n",
       "    </tr>\n",
       "    <tr>\n",
       "      <th>2</th>\n",
       "      <td>2032016830</td>\n",
       "      <td>153.892319</td>\n",
       "      <td>0.369855</td>\n",
       "      <td>0.233353</td>\n",
       "      <td>1.041809</td>\n",
       "      <td>16.618750</td>\n",
       "    </tr>\n",
       "  </tbody>\n",
       "</table>\n",
       "</div>"
      ],
      "text/plain": [
       "           id          Tg       FFV        Tc   Density         Rg\n",
       "0  1109053969  135.456741  0.367985  0.247430  0.892501  17.040133\n",
       "1  1422188626  206.546951  0.366379  0.255047  0.983535  19.170553\n",
       "2  2032016830  153.892319  0.369855  0.233353  1.041809  16.618750"
      ]
     },
     "execution_count": 44,
     "metadata": {},
     "output_type": "execute_result"
    }
   ],
   "source": [
    "submission = pd.DataFrame({\n",
    "    \"id\": test_csv[\"id\"],\n",
    "    \"Tg\" : Y_Tg_sub.ravel(),\n",
    "    \"FFV\" : Y_FFV_sub.ravel(),\n",
    "    \"Tc\" : Y_Tc_sub.ravel(),\n",
    "    \"Density\": Y_Density_sub.ravel(),\n",
    "    \"Rg\" : Y_Rg_sub.ravel()\n",
    "})\n",
    "submission\n"
   ]
  },
  {
   "cell_type": "code",
   "execution_count": 45,
   "id": "ba98af41",
   "metadata": {
    "execution": {
     "iopub.execute_input": "2025-08-17T19:13:21.381852Z",
     "iopub.status.busy": "2025-08-17T19:13:21.381611Z",
     "iopub.status.idle": "2025-08-17T19:13:21.390181Z",
     "shell.execute_reply": "2025-08-17T19:13:21.389544Z"
    },
    "papermill": {
     "duration": 0.084251,
     "end_time": "2025-08-17T19:13:21.391270",
     "exception": false,
     "start_time": "2025-08-17T19:13:21.307019",
     "status": "completed"
    },
    "tags": []
   },
   "outputs": [
    {
     "name": "stdout",
     "output_type": "stream",
     "text": [
      "Done\n"
     ]
    }
   ],
   "source": [
    "submission.to_csv(\"submission.csv\", index=False)\n",
    "print(\"Done\")"
   ]
  },
  {
   "cell_type": "code",
   "execution_count": null,
   "id": "604fb528",
   "metadata": {
    "papermill": {
     "duration": 0.073897,
     "end_time": "2025-08-17T19:13:21.538809",
     "exception": false,
     "start_time": "2025-08-17T19:13:21.464912",
     "status": "completed"
    },
    "tags": []
   },
   "outputs": [],
   "source": []
  }
 ],
 "metadata": {
  "kaggle": {
   "accelerator": "none",
   "dataSources": [
    {
     "databundleVersionId": 12966160,
     "isSourceIdPinned": false,
     "sourceId": 74608,
     "sourceType": "competition"
    },
    {
     "datasetId": 8074263,
     "sourceId": 12772024,
     "sourceType": "datasetVersion"
    }
   ],
   "dockerImageVersionId": 31089,
   "isGpuEnabled": false,
   "isInternetEnabled": false,
   "language": "python",
   "sourceType": "notebook"
  },
  "kernelspec": {
   "display_name": "Python 3",
   "language": "python",
   "name": "python3"
  },
  "language_info": {
   "codemirror_mode": {
    "name": "ipython",
    "version": 3
   },
   "file_extension": ".py",
   "mimetype": "text/x-python",
   "name": "python",
   "nbconvert_exporter": "python",
   "pygments_lexer": "ipython3",
   "version": "3.11.13"
  },
  "papermill": {
   "default_parameters": {},
   "duration": 143.294378,
   "end_time": "2025-08-17T19:13:24.654790",
   "environment_variables": {},
   "exception": null,
   "input_path": "__notebook__.ipynb",
   "output_path": "__notebook__.ipynb",
   "parameters": {},
   "start_time": "2025-08-17T19:11:01.360412",
   "version": "2.6.0"
  }
 },
 "nbformat": 4,
 "nbformat_minor": 5
}
